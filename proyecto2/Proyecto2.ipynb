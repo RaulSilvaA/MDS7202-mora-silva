{
  "cells": [
    {
      "cell_type": "markdown",
      "metadata": {
        "cell_id": "b9ead8046fc74db1bf0eb99287c3c91e",
        "deepnote_cell_type": "markdown",
        "id": "lP9M9ATIdVSn"
      },
      "source": [
        "![](https://www.dii.uchile.cl/wp-content/uploads/2021/06/Magi%CC%81ster-en-Ciencia-de-Datos.png)\n"
      ]
    },
    {
      "cell_type": "markdown",
      "metadata": {
        "cell_id": "ca18b36a3bd54ad09e518c5b63b08ef6",
        "deepnote_cell_type": "markdown",
        "id": "k-HpQbDcdVSt"
      },
      "source": [
        "# Proyecto: Riesgo en el Banco Giturra\n",
        "\n",
        "**MDS7202: Laboratorio de Programación Científica para Ciencia de Datos**\n",
        "\n",
        "### Cuerpo Docente:\n",
        "\n",
        "- Profesor: Pablo Badilla, Ignacio Meza De La Jara\n",
        "- Auxiliar: Sebastián Tinoco\n",
        "- Ayudante: Diego Cortez M., Felipe Arias T.\n",
        "\n",
        "_Por favor, lean detalladamente las instrucciones de la tarea antes de empezar a escribir._\n",
        "\n",
        "---\n",
        "\n",
        "## Reglas\n",
        "\n",
        "- Fecha de entrega: 01/06/2021\n",
        "- **Grupos de 2 personas.**\n",
        "- Cualquier duda fuera del horario de clases al foro. Mensajes al equipo docente serán respondidos por este medio.\n",
        "- Estrictamente prohibida la copia.\n",
        "- Pueden usar cualquier material del curso que estimen conveniente.\n"
      ]
    },
    {
      "cell_type": "markdown",
      "metadata": {
        "cell_id": "20bff171d2954732b74d8f532c21895a",
        "deepnote_cell_type": "markdown",
        "id": "hqPaQaVndVSv"
      },
      "source": [
        "---\n"
      ]
    },
    {
      "cell_type": "markdown",
      "source": [
        "Integrantes:\n",
        "\n",
        "- Gabriela Mora.\n",
        "- Raúl Silva.\n",
        "\n",
        "link al repositorio: https://github.com/RaulSilvaA/MDS7202-mora-silva"
      ],
      "metadata": {
        "id": "5QKYo7sCC52K"
      }
    },
    {
      "cell_type": "markdown",
      "metadata": {
        "cell_id": "7292d5dfddb9408d8999b7c0e63fc55c",
        "deepnote_cell_type": "markdown",
        "id": "ZWXU3zsZdVSv"
      },
      "source": [
        "# Presentación del Problema\n"
      ]
    },
    {
      "cell_type": "markdown",
      "metadata": {
        "cell_id": "4e407b3b55de4930a31e10cf4e25f51c",
        "deepnote_cell_type": "markdown",
        "id": "ePbRzKANdVSw"
      },
      "source": [
        "![](https://www.diarioeldia.cl/u/fotografias/fotosnoticias/2019/11/8/67218.jpg)\n"
      ]
    },
    {
      "cell_type": "markdown",
      "metadata": {
        "cell_id": "57d46ee3f60b457fa3932bf4ac15a828",
        "deepnote_cell_type": "markdown",
        "id": "vHG1Yb-ddVSw"
      },
      "source": [
        "**Giturra**, un banquero astuto y ambicioso, estableció su propio banco con el objetivo de obtener enormes ganancias. Sin embargo, su reputación se vio empañada debido a las tasas de interés usureras que imponía a sus clientes. A medida que su banco crecía, Giturra enfrentaba una creciente cantidad de préstamos impagados, lo que amenazaba su negocio y su prestigio.\n",
        "\n",
        "Para abordar este desafío, Giturra reconoció la necesidad de reducir los riesgos de préstamo y mejorar la calidad de los préstamos otorgados. Decidió aprovechar la ciencia de datos y el análisis de riesgo crediticio. Contrató a un equipo de expertos para desarrollar un modelo predictivo de riesgo crediticio.\n",
        "\n",
        "Cabe señalar que lo modelos solicitados por el banquero deben ser interpretables. Ya que estos le permitira al equipo comprender y explicar cómo se toman las decisiones crediticias. Utilizando visualizaciones claras y explicaciones detalladas, pudieron identificar las características más relevantes, le permitirá analizar la distribución de la importancia de las variables y evaluar si los modelos son coherentes con el negocio.\n",
        "\n",
        "Para esto Giturra les solicita crear un modelo de riesgo disponibilizandoles una amplia gama de variables de sus usuarios: como historiales de crédito, ingresos y otros factores financieros relevantes, para evaluar la probabilidad de incumplimiento de pago de los clientes. Con esta información, Giturra podra tomar decisiones más informadas en cuanto a los préstamos, ofreciendo condiciones más favorables a aquellos con menor riesgo de impago.\n"
      ]
    },
    {
      "cell_type": "markdown",
      "source": [
        "# Introducción\n",
        "\n"
      ],
      "metadata": {
        "id": "eNMiCRSiBE38"
      }
    },
    {
      "cell_type": "markdown",
      "source": [
        "El siguiente reporte se presenta como solución de negocio al señor Guiturra, quien solicitaba un modelo de predicción capaz de detectar si un cliente es de alto riesgo o no, es decir, dado los datos entregados por el historial crediticio de un usuario, pretender predecir si este pagará o no sus deudas ante el banco.\n",
        "\n",
        "Los datos que se poseen son el historial crediticios de personas naturales, cada columna representa a una persona y posee información personal y financiera de este.\n",
        "\n",
        "Para evaluar los resultasdos se tendrá en cuenta el F1-Score, métrica que toma bastante peso cuando se requiere tanto unm buen presision como un buen recall. Esto debido a que es tan relevante encontrar a gente que podría desistir de sus pagos, como también encontrar correctamente a estos, sin encacillar incorrectamente a personas que si cumplen con un perfil correcto.\n",
        "\n",
        "Finalmente, dado los resultados, se opta por recomendar un modelo clásico de Random Forest con una profundidad máxima de 10 y un máximo de features de 5. Para la resolución se ingresaron filas con nulos (los que fueron limpiados y formateados correctamente, con tal de que fueran razonables e interpretables), esto con el fin de no sesgar del todo la predicción ante datos completos. Como se utiliza esto, se realizó un imputador, cuyo mayor resultado se optiene al utilizar este como constante.\n",
        "\n",
        "Dado los resultados, se obtiene un 0.84 de F1 Score para la clase negativa, es decir los clientes que si pagarían sus deudas y un 0.57 para la clase positiva. Por lo que el modelo es levemente mejor que el azar para predecir potenciales clientes que no cumplan con sus labores de pago."
      ],
      "metadata": {
        "id": "Omy39oUgHPBP"
      }
    },
    {
      "cell_type": "markdown",
      "source": [
        "# Carga de datos Análisis Exploratorio de Datos"
      ],
      "metadata": {
        "id": "_DQ9V3t9fiW8"
      }
    },
    {
      "cell_type": "code",
      "source": [
        "import pandas as pd"
      ],
      "metadata": {
        "id": "KB-FV4djiDor"
      },
      "execution_count": 1,
      "outputs": []
    },
    {
      "cell_type": "code",
      "source": [
        "from google.colab import drive\n",
        "drive.mount('/content/drive')"
      ],
      "metadata": {
        "colab": {
          "base_uri": "https://localhost:8080/"
        },
        "id": "ll1_BCR2h1sA",
        "outputId": "c1f271a6-222e-487f-ce38-07f0331aef07"
      },
      "execution_count": 2,
      "outputs": [
        {
          "output_type": "stream",
          "name": "stdout",
          "text": [
            "Mounted at /content/drive\n"
          ]
        }
      ]
    },
    {
      "cell_type": "code",
      "source": [
        "df=pd.read_parquet('/content/drive/MyDrive/lab_progra/dataset.pq')"
      ],
      "metadata": {
        "id": "vUpjZYEhfhNO"
      },
      "execution_count": 3,
      "outputs": []
    },
    {
      "cell_type": "markdown",
      "source": [
        "##  Preparación de Datos"
      ],
      "metadata": {
        "id": "3tzkGODBmZg1"
      }
    },
    {
      "cell_type": "code",
      "source": [
        "import numpy as np\n",
        "import pandas as pd"
      ],
      "metadata": {
        "id": "qmlmr2g3odOt"
      },
      "execution_count": 4,
      "outputs": []
    },
    {
      "cell_type": "code",
      "source": [
        "df.info()"
      ],
      "metadata": {
        "colab": {
          "base_uri": "https://localhost:8080/"
        },
        "id": "diD7Qa0kiHVO",
        "outputId": "a5d24cf4-fcdf-4e27-a45a-fbd9b85077a4"
      },
      "execution_count": 5,
      "outputs": [
        {
          "output_type": "stream",
          "name": "stdout",
          "text": [
            "<class 'pandas.core.frame.DataFrame'>\n",
            "RangeIndex: 12500 entries, 0 to 12499\n",
            "Data columns (total 22 columns):\n",
            " #   Column                    Non-Null Count  Dtype  \n",
            "---  ------                    --------------  -----  \n",
            " 0   customer_id               12500 non-null  object \n",
            " 1   age                       12500 non-null  float64\n",
            " 2   occupation                12500 non-null  object \n",
            " 3   annual_income             12500 non-null  float64\n",
            " 4   monthly_inhand_salary     10584 non-null  float64\n",
            " 5   num_bank_accounts         12500 non-null  int64  \n",
            " 6   num_credit_card           12500 non-null  int64  \n",
            " 7   interest_rate             12500 non-null  int64  \n",
            " 8   num_of_loan               12500 non-null  float64\n",
            " 9   delay_from_due_date       12500 non-null  int64  \n",
            " 10  num_of_delayed_payment    11660 non-null  float64\n",
            " 11  changed_credit_limit      12246 non-null  float64\n",
            " 12  num_credit_inquiries      12243 non-null  float64\n",
            " 13  outstanding_debt          12500 non-null  float64\n",
            " 14  credit_utilization_ratio  12500 non-null  float64\n",
            " 15  credit_history_age        11380 non-null  float64\n",
            " 16  payment_of_min_amount     12500 non-null  object \n",
            " 17  total_emi_per_month       12500 non-null  float64\n",
            " 18  amount_invested_monthly   11914 non-null  float64\n",
            " 19  payment_behaviour         12500 non-null  object \n",
            " 20  monthly_balance           12145 non-null  float64\n",
            " 21  credit_score              12500 non-null  int64  \n",
            "dtypes: float64(13), int64(5), object(4)\n",
            "memory usage: 2.1+ MB\n"
          ]
        }
      ]
    },
    {
      "cell_type": "markdown",
      "source": [
        "Se transformarán los datos a los tipos de datos que corresponden:"
      ],
      "metadata": {
        "id": "7Ism_UNGfb46"
      }
    },
    {
      "cell_type": "code",
      "source": [
        "df['age'] = df['age'].astype('Int64')\n",
        "df['total_emi_per_month'] = df['total_emi_per_month'].astype('float64')\n",
        "df['num_credit_inquiries'] = df['num_credit_inquiries'].astype('Int64')\n",
        "df['credit_history_age'] = df['credit_history_age'].astype('Int64')\n",
        "df['num_of_loan'] = df['num_of_loan'].astype('Int64')\n",
        "df['num_of_delayed_payment'] = df['num_of_delayed_payment'].astype('Int64')\n",
        "df['num_credit_inquiries'] = df['num_credit_inquiries'].astype('Int64')"
      ],
      "metadata": {
        "id": "Hyno2AH9xUZP"
      },
      "execution_count": 6,
      "outputs": []
    },
    {
      "cell_type": "code",
      "source": [
        "df.info()"
      ],
      "metadata": {
        "colab": {
          "base_uri": "https://localhost:8080/"
        },
        "id": "Ni5pUGAaybsp",
        "outputId": "107ccbc5-5856-4963-9b26-b3a9aa28c510"
      },
      "execution_count": 7,
      "outputs": [
        {
          "output_type": "stream",
          "name": "stdout",
          "text": [
            "<class 'pandas.core.frame.DataFrame'>\n",
            "RangeIndex: 12500 entries, 0 to 12499\n",
            "Data columns (total 22 columns):\n",
            " #   Column                    Non-Null Count  Dtype  \n",
            "---  ------                    --------------  -----  \n",
            " 0   customer_id               12500 non-null  object \n",
            " 1   age                       12500 non-null  Int64  \n",
            " 2   occupation                12500 non-null  object \n",
            " 3   annual_income             12500 non-null  float64\n",
            " 4   monthly_inhand_salary     10584 non-null  float64\n",
            " 5   num_bank_accounts         12500 non-null  int64  \n",
            " 6   num_credit_card           12500 non-null  int64  \n",
            " 7   interest_rate             12500 non-null  int64  \n",
            " 8   num_of_loan               12500 non-null  Int64  \n",
            " 9   delay_from_due_date       12500 non-null  int64  \n",
            " 10  num_of_delayed_payment    11660 non-null  Int64  \n",
            " 11  changed_credit_limit      12246 non-null  float64\n",
            " 12  num_credit_inquiries      12243 non-null  Int64  \n",
            " 13  outstanding_debt          12500 non-null  float64\n",
            " 14  credit_utilization_ratio  12500 non-null  float64\n",
            " 15  credit_history_age        11380 non-null  Int64  \n",
            " 16  payment_of_min_amount     12500 non-null  object \n",
            " 17  total_emi_per_month       12500 non-null  float64\n",
            " 18  amount_invested_monthly   11914 non-null  float64\n",
            " 19  payment_behaviour         12500 non-null  object \n",
            " 20  monthly_balance           12145 non-null  float64\n",
            " 21  credit_score              12500 non-null  int64  \n",
            "dtypes: Int64(5), float64(8), int64(5), object(4)\n",
            "memory usage: 2.2+ MB\n"
          ]
        }
      ]
    },
    {
      "cell_type": "markdown",
      "source": [
        "Antes de comenzar a ver la parte del column transform, se decidirá comenzar a traspasar a dato nulo todos los valores atípicos que se encuentran en todas las variables. Un ejemplo de esto son los valores arriba de 100 años en la variable age.\n",
        "\n",
        "Para hacer esto, se usó el apoyo el html que nos entregaron como parte del material, pero se consideró que era insuficiente para inspeccionar los datos por lo que se utilizó el siguiente bloque de código para ver la agrupación de los datos por cada una de las variables. Cuando se dice insuficiente es porque tampoco se podían observar bien las distribuciones de los datos y los valores atipicos estaban presentes en la mayoría de las columnas:"
      ],
      "metadata": {
        "id": "tnYDZNCxmhD-"
      }
    },
    {
      "cell_type": "code",
      "source": [
        "pd.DataFrame(df.groupby(['monthly_balance'])['monthly_balance'].count())"
      ],
      "metadata": {
        "id": "CtduBroXwWhG",
        "colab": {
          "base_uri": "https://localhost:8080/",
          "height": 0
        },
        "outputId": "545ef869-e817-42c3-a025-f9271c429336"
      },
      "execution_count": 8,
      "outputs": [
        {
          "output_type": "execute_result",
          "data": {
            "text/plain": [
              "                 monthly_balance\n",
              "monthly_balance                 \n",
              "-3.333333e+26                  1\n",
              " 3.825580e-01                  1\n",
              " 7.102397e-01                  1\n",
              " 1.779985e+00                  1\n",
              " 3.967834e+00                  1\n",
              "...                          ...\n",
              " 1.422568e+03                  1\n",
              " 1.434128e+03                  1\n",
              " 1.446947e+03                  1\n",
              " 1.460917e+03                  1\n",
              " 1.463792e+03                  1\n",
              "\n",
              "[12145 rows x 1 columns]"
            ],
            "text/html": [
              "\n",
              "\n",
              "  <div id=\"df-756db932-07bf-4335-9b1b-828265211370\">\n",
              "    <div class=\"colab-df-container\">\n",
              "      <div>\n",
              "<style scoped>\n",
              "    .dataframe tbody tr th:only-of-type {\n",
              "        vertical-align: middle;\n",
              "    }\n",
              "\n",
              "    .dataframe tbody tr th {\n",
              "        vertical-align: top;\n",
              "    }\n",
              "\n",
              "    .dataframe thead th {\n",
              "        text-align: right;\n",
              "    }\n",
              "</style>\n",
              "<table border=\"1\" class=\"dataframe\">\n",
              "  <thead>\n",
              "    <tr style=\"text-align: right;\">\n",
              "      <th></th>\n",
              "      <th>monthly_balance</th>\n",
              "    </tr>\n",
              "    <tr>\n",
              "      <th>monthly_balance</th>\n",
              "      <th></th>\n",
              "    </tr>\n",
              "  </thead>\n",
              "  <tbody>\n",
              "    <tr>\n",
              "      <th>-3.333333e+26</th>\n",
              "      <td>1</td>\n",
              "    </tr>\n",
              "    <tr>\n",
              "      <th>3.825580e-01</th>\n",
              "      <td>1</td>\n",
              "    </tr>\n",
              "    <tr>\n",
              "      <th>7.102397e-01</th>\n",
              "      <td>1</td>\n",
              "    </tr>\n",
              "    <tr>\n",
              "      <th>1.779985e+00</th>\n",
              "      <td>1</td>\n",
              "    </tr>\n",
              "    <tr>\n",
              "      <th>3.967834e+00</th>\n",
              "      <td>1</td>\n",
              "    </tr>\n",
              "    <tr>\n",
              "      <th>...</th>\n",
              "      <td>...</td>\n",
              "    </tr>\n",
              "    <tr>\n",
              "      <th>1.422568e+03</th>\n",
              "      <td>1</td>\n",
              "    </tr>\n",
              "    <tr>\n",
              "      <th>1.434128e+03</th>\n",
              "      <td>1</td>\n",
              "    </tr>\n",
              "    <tr>\n",
              "      <th>1.446947e+03</th>\n",
              "      <td>1</td>\n",
              "    </tr>\n",
              "    <tr>\n",
              "      <th>1.460917e+03</th>\n",
              "      <td>1</td>\n",
              "    </tr>\n",
              "    <tr>\n",
              "      <th>1.463792e+03</th>\n",
              "      <td>1</td>\n",
              "    </tr>\n",
              "  </tbody>\n",
              "</table>\n",
              "<p>12145 rows × 1 columns</p>\n",
              "</div>\n",
              "      <button class=\"colab-df-convert\" onclick=\"convertToInteractive('df-756db932-07bf-4335-9b1b-828265211370')\"\n",
              "              title=\"Convert this dataframe to an interactive table.\"\n",
              "              style=\"display:none;\">\n",
              "\n",
              "  <svg xmlns=\"http://www.w3.org/2000/svg\" height=\"24px\"viewBox=\"0 0 24 24\"\n",
              "       width=\"24px\">\n",
              "    <path d=\"M0 0h24v24H0V0z\" fill=\"none\"/>\n",
              "    <path d=\"M18.56 5.44l.94 2.06.94-2.06 2.06-.94-2.06-.94-.94-2.06-.94 2.06-2.06.94zm-11 1L8.5 8.5l.94-2.06 2.06-.94-2.06-.94L8.5 2.5l-.94 2.06-2.06.94zm10 10l.94 2.06.94-2.06 2.06-.94-2.06-.94-.94-2.06-.94 2.06-2.06.94z\"/><path d=\"M17.41 7.96l-1.37-1.37c-.4-.4-.92-.59-1.43-.59-.52 0-1.04.2-1.43.59L10.3 9.45l-7.72 7.72c-.78.78-.78 2.05 0 2.83L4 21.41c.39.39.9.59 1.41.59.51 0 1.02-.2 1.41-.59l7.78-7.78 2.81-2.81c.8-.78.8-2.07 0-2.86zM5.41 20L4 18.59l7.72-7.72 1.47 1.35L5.41 20z\"/>\n",
              "  </svg>\n",
              "      </button>\n",
              "\n",
              "\n",
              "\n",
              "    <div id=\"df-0768cde5-bbd0-4147-a763-ab789ba76392\">\n",
              "      <button class=\"colab-df-quickchart\" onclick=\"quickchart('df-0768cde5-bbd0-4147-a763-ab789ba76392')\"\n",
              "              title=\"Suggest charts.\"\n",
              "              style=\"display:none;\">\n",
              "\n",
              "<svg xmlns=\"http://www.w3.org/2000/svg\" height=\"24px\"viewBox=\"0 0 24 24\"\n",
              "     width=\"24px\">\n",
              "    <g>\n",
              "        <path d=\"M19 3H5c-1.1 0-2 .9-2 2v14c0 1.1.9 2 2 2h14c1.1 0 2-.9 2-2V5c0-1.1-.9-2-2-2zM9 17H7v-7h2v7zm4 0h-2V7h2v10zm4 0h-2v-4h2v4z\"/>\n",
              "    </g>\n",
              "</svg>\n",
              "      </button>\n",
              "    </div>\n",
              "\n",
              "<style>\n",
              "  .colab-df-quickchart {\n",
              "    background-color: #E8F0FE;\n",
              "    border: none;\n",
              "    border-radius: 50%;\n",
              "    cursor: pointer;\n",
              "    display: none;\n",
              "    fill: #1967D2;\n",
              "    height: 32px;\n",
              "    padding: 0 0 0 0;\n",
              "    width: 32px;\n",
              "  }\n",
              "\n",
              "  .colab-df-quickchart:hover {\n",
              "    background-color: #E2EBFA;\n",
              "    box-shadow: 0px 1px 2px rgba(60, 64, 67, 0.3), 0px 1px 3px 1px rgba(60, 64, 67, 0.15);\n",
              "    fill: #174EA6;\n",
              "  }\n",
              "\n",
              "  [theme=dark] .colab-df-quickchart {\n",
              "    background-color: #3B4455;\n",
              "    fill: #D2E3FC;\n",
              "  }\n",
              "\n",
              "  [theme=dark] .colab-df-quickchart:hover {\n",
              "    background-color: #434B5C;\n",
              "    box-shadow: 0px 1px 3px 1px rgba(0, 0, 0, 0.15);\n",
              "    filter: drop-shadow(0px 1px 2px rgba(0, 0, 0, 0.3));\n",
              "    fill: #FFFFFF;\n",
              "  }\n",
              "</style>\n",
              "\n",
              "    <script>\n",
              "      async function quickchart(key) {\n",
              "        const containerElement = document.querySelector('#' + key);\n",
              "        const charts = await google.colab.kernel.invokeFunction(\n",
              "            'suggestCharts', [key], {});\n",
              "      }\n",
              "    </script>\n",
              "\n",
              "      <script>\n",
              "\n",
              "function displayQuickchartButton(domScope) {\n",
              "  let quickchartButtonEl =\n",
              "    domScope.querySelector('#df-0768cde5-bbd0-4147-a763-ab789ba76392 button.colab-df-quickchart');\n",
              "  quickchartButtonEl.style.display =\n",
              "    google.colab.kernel.accessAllowed ? 'block' : 'none';\n",
              "}\n",
              "\n",
              "        displayQuickchartButton(document);\n",
              "      </script>\n",
              "      <style>\n",
              "    .colab-df-container {\n",
              "      display:flex;\n",
              "      flex-wrap:wrap;\n",
              "      gap: 12px;\n",
              "    }\n",
              "\n",
              "    .colab-df-convert {\n",
              "      background-color: #E8F0FE;\n",
              "      border: none;\n",
              "      border-radius: 50%;\n",
              "      cursor: pointer;\n",
              "      display: none;\n",
              "      fill: #1967D2;\n",
              "      height: 32px;\n",
              "      padding: 0 0 0 0;\n",
              "      width: 32px;\n",
              "    }\n",
              "\n",
              "    .colab-df-convert:hover {\n",
              "      background-color: #E2EBFA;\n",
              "      box-shadow: 0px 1px 2px rgba(60, 64, 67, 0.3), 0px 1px 3px 1px rgba(60, 64, 67, 0.15);\n",
              "      fill: #174EA6;\n",
              "    }\n",
              "\n",
              "    [theme=dark] .colab-df-convert {\n",
              "      background-color: #3B4455;\n",
              "      fill: #D2E3FC;\n",
              "    }\n",
              "\n",
              "    [theme=dark] .colab-df-convert:hover {\n",
              "      background-color: #434B5C;\n",
              "      box-shadow: 0px 1px 3px 1px rgba(0, 0, 0, 0.15);\n",
              "      filter: drop-shadow(0px 1px 2px rgba(0, 0, 0, 0.3));\n",
              "      fill: #FFFFFF;\n",
              "    }\n",
              "  </style>\n",
              "\n",
              "      <script>\n",
              "        const buttonEl =\n",
              "          document.querySelector('#df-756db932-07bf-4335-9b1b-828265211370 button.colab-df-convert');\n",
              "        buttonEl.style.display =\n",
              "          google.colab.kernel.accessAllowed ? 'block' : 'none';\n",
              "\n",
              "        async function convertToInteractive(key) {\n",
              "          const element = document.querySelector('#df-756db932-07bf-4335-9b1b-828265211370');\n",
              "          const dataTable =\n",
              "            await google.colab.kernel.invokeFunction('convertToInteractive',\n",
              "                                                     [key], {});\n",
              "          if (!dataTable) return;\n",
              "\n",
              "          const docLinkHtml = 'Like what you see? Visit the ' +\n",
              "            '<a target=\"_blank\" href=https://colab.research.google.com/notebooks/data_table.ipynb>data table notebook</a>'\n",
              "            + ' to learn more about interactive tables.';\n",
              "          element.innerHTML = '';\n",
              "          dataTable['output_type'] = 'display_data';\n",
              "          await google.colab.output.renderOutput(dataTable, element);\n",
              "          const docLink = document.createElement('div');\n",
              "          docLink.innerHTML = docLinkHtml;\n",
              "          element.appendChild(docLink);\n",
              "        }\n",
              "      </script>\n",
              "    </div>\n",
              "  </div>\n"
            ]
          },
          "metadata": {},
          "execution_count": 8
        }
      ]
    },
    {
      "cell_type": "markdown",
      "source": [
        "El codigo anterior se varió por cada una de las variables y en el codigo que sigue se muestra como se filtraron los datos para traspasar a valor nulo los valores atípicos. No se adjuntarán el codigo de todas esas variaciones debido a lo repetitivo y la extensión del notebook que podría agregar."
      ],
      "metadata": {
        "id": "8rdZ9LiYwYTr"
      }
    },
    {
      "cell_type": "code",
      "source": [
        "df['age'] = np.where(df['age'] > 100, np.NaN, np.where(df['age'] < 18, np.NaN, df['age'] ))\n",
        "df['occupation']=np.where(df['occupation']=='___', 'no declara', df['occupation'])\n",
        "df['num_bank_accounts']=np.where(df['num_bank_accounts'] > 11, np.NaN, np.where(df['num_bank_accounts'] <0, np.NaN, df['num_bank_accounts'] ))\n",
        "df['num_credit_card']=np.where(df['num_credit_card'] > 11, np.NaN, np.where(df['num_credit_card'] <0, np.NaN, df['num_credit_card'] ))\n",
        "df['interest_rate']=np.where(df['interest_rate'] > 34, np.NaN, df['interest_rate'] )\n",
        "df['num_of_loan']=np.where(df['num_of_loan'] > 9, np.NaN, np.where(df['num_of_loan'] <0, np.NaN, df['num_of_loan'] ))\n",
        "df['delay_from_due_date']=np.where(df['delay_from_due_date'] <0, np.NaN, df['delay_from_due_date'])\n",
        "df['num_of_delayed_payment'] = df['num_of_delayed_payment'].fillna(-10)\n",
        "df['num_of_delayed_payment']=np.where(df['num_of_delayed_payment'] > 28, np.NaN, np.where(df['num_of_delayed_payment'] <0, np.NaN, df['num_of_delayed_payment']))\n",
        "df['changed_credit_limit'] = df['changed_credit_limit'].fillna(-10)\n",
        "df['changed_credit_limit']=np.where(df['changed_credit_limit'] > 100, np.NaN, np.where(df['changed_credit_limit'] <0, np.NaN, df['num_of_delayed_payment'] ))\n",
        "df['num_credit_inquiries'] = df['num_credit_inquiries'].fillna(-10)\n",
        "df['num_credit_inquiries']=np.where(df['num_credit_inquiries'] > 17, np.NaN, np.where(df['num_credit_inquiries'] <0, np.NaN, df['num_credit_inquiries'] ))\n",
        "df['monthly_balance']=np.where(df['monthly_balance'] <0, np.NaN, df['monthly_balance'] )"
      ],
      "metadata": {
        "id": "Vhg3I_bVmxwr"
      },
      "execution_count": 9,
      "outputs": []
    },
    {
      "cell_type": "code",
      "source": [
        "df['num_of_delayed_payment'].isna().sum()"
      ],
      "metadata": {
        "colab": {
          "base_uri": "https://localhost:8080/"
        },
        "id": "wotlhJsiDeBg",
        "outputId": "985910dd-a168-4eef-bf62-6aef3174afd9"
      },
      "execution_count": 10,
      "outputs": [
        {
          "output_type": "execute_result",
          "data": {
            "text/plain": [
              "1018"
            ]
          },
          "metadata": {},
          "execution_count": 10
        }
      ]
    },
    {
      "cell_type": "markdown",
      "source": [
        "# Preparación de Datos\n",
        "\n",
        "Ahora se realizará la parte del preparación de los datos según la distribución que se observó en las variables. Para las variables categóricas que no tienen orden, se usará el onehotencoder, para las variables categoricas que sí tienen un orden se usará el ordinalencoder y para las variables numéricas en donde se observe una dustribución normal se aplicará el standar scaler y en donde no se observe esto, debido a que no tenemos la claridad de qué distribución sigue la variable, se usará el robust scaler."
      ],
      "metadata": {
        "id": "5JU83ECFkmnH"
      }
    },
    {
      "cell_type": "code",
      "source": [
        "from sklearn.compose import ColumnTransformer\n",
        "from sklearn.pipeline import Pipeline\n",
        "from sklearn.compose import make_column_transformer\n",
        "from sklearn.preprocessing import OneHotEncoder, OrdinalEncoder, StandardScaler, MinMaxScaler, PowerTransformer, RobustScaler\n",
        "from xgboost import XGBClassifier\n",
        "import xgboost as xgb\n",
        "from sklearn.model_selection import train_test_split\n",
        "from sklearn.metrics import classification_report\n",
        "import matplotlib.pyplot as plt"
      ],
      "metadata": {
        "id": "LkGIJwwAmZPw"
      },
      "execution_count": 11,
      "outputs": []
    },
    {
      "cell_type": "code",
      "source": [
        "variables_numericas_standarscaler=['age',\n",
        "       'monthly_inhand_salary', 'num_bank_accounts', 'num_credit_card',\n",
        "       'interest_rate', 'num_of_loan', 'delay_from_due_date',\n",
        "       'num_of_delayed_payment', 'changed_credit_limit',\n",
        "       'num_credit_inquiries', 'credit_utilization_ratio',\n",
        "       'credit_history_age'\n",
        "]\n",
        "\n",
        "standarscaler_transformer = StandardScaler()\n",
        "\n",
        "\n",
        "variables_numericas_robustscales=['annual_income','monthly_balance'\n",
        ",'amount_invested_monthly', 'total_emi_per_month',  'outstanding_debt' ]\n",
        "\n",
        "robustscaler_transformer = RobustScaler()\n",
        "\n",
        "variables_categoricas=[\n",
        "                       'occupation',\n",
        "                       'payment_behaviour'\n",
        "]\n",
        "categorical_transformer =  OneHotEncoder(sparse_output=False, handle_unknown=\"ignore\")\n",
        "\n",
        "variable_ordinal=['payment_of_min_amount']\n",
        "ordinal_transformer=OrdinalEncoder()"
      ],
      "metadata": {
        "id": "BBY4yXmTmyx_"
      },
      "execution_count": 12,
      "outputs": []
    },
    {
      "cell_type": "code",
      "source": [
        "preprocessor = ColumnTransformer(\n",
        "    transformers=[\n",
        "        (\"num_st\", standarscaler_transformer, variables_numericas_standarscaler),\n",
        "        (\"num_ord\", robustscaler_transformer, variables_numericas_robustscales),\n",
        "        (\"cat\", categorical_transformer, variables_categoricas),\n",
        "        (\"ord\", ordinal_transformer, variable_ordinal)\n",
        "    ],  remainder='passthrough'\n",
        ")"
      ],
      "metadata": {
        "id": "ZQ0H9hmYsT8e"
      },
      "execution_count": 13,
      "outputs": []
    },
    {
      "cell_type": "code",
      "source": [
        "preprocessor.set_output(transform=\"pandas\")"
      ],
      "metadata": {
        "id": "xTKVcuGht4_G",
        "colab": {
          "base_uri": "https://localhost:8080/",
          "height": 117
        },
        "outputId": "150ab4f9-5e5f-49ec-8b8c-a5e184350e0e"
      },
      "execution_count": 14,
      "outputs": [
        {
          "output_type": "execute_result",
          "data": {
            "text/plain": [
              "ColumnTransformer(remainder='passthrough',\n",
              "                  transformers=[('num_st', StandardScaler(),\n",
              "                                 ['age', 'monthly_inhand_salary',\n",
              "                                  'num_bank_accounts', 'num_credit_card',\n",
              "                                  'interest_rate', 'num_of_loan',\n",
              "                                  'delay_from_due_date',\n",
              "                                  'num_of_delayed_payment',\n",
              "                                  'changed_credit_limit',\n",
              "                                  'num_credit_inquiries',\n",
              "                                  'credit_utilization_ratio',\n",
              "                                  'credit_history_age']),\n",
              "                                ('num_ord', RobustScaler(),\n",
              "                                 ['annual_income', 'monthly_balance',\n",
              "                                  'amount_invested_monthly',\n",
              "                                  'total_emi_per_month', 'outstanding_debt']),\n",
              "                                ('cat',\n",
              "                                 OneHotEncoder(handle_unknown='ignore',\n",
              "                                               sparse_output=False),\n",
              "                                 ['occupation', 'payment_behaviour']),\n",
              "                                ('ord', OrdinalEncoder(),\n",
              "                                 ['payment_of_min_amount'])])"
            ],
            "text/html": [
              "<style>#sk-container-id-1 {color: black;background-color: white;}#sk-container-id-1 pre{padding: 0;}#sk-container-id-1 div.sk-toggleable {background-color: white;}#sk-container-id-1 label.sk-toggleable__label {cursor: pointer;display: block;width: 100%;margin-bottom: 0;padding: 0.3em;box-sizing: border-box;text-align: center;}#sk-container-id-1 label.sk-toggleable__label-arrow:before {content: \"▸\";float: left;margin-right: 0.25em;color: #696969;}#sk-container-id-1 label.sk-toggleable__label-arrow:hover:before {color: black;}#sk-container-id-1 div.sk-estimator:hover label.sk-toggleable__label-arrow:before {color: black;}#sk-container-id-1 div.sk-toggleable__content {max-height: 0;max-width: 0;overflow: hidden;text-align: left;background-color: #f0f8ff;}#sk-container-id-1 div.sk-toggleable__content pre {margin: 0.2em;color: black;border-radius: 0.25em;background-color: #f0f8ff;}#sk-container-id-1 input.sk-toggleable__control:checked~div.sk-toggleable__content {max-height: 200px;max-width: 100%;overflow: auto;}#sk-container-id-1 input.sk-toggleable__control:checked~label.sk-toggleable__label-arrow:before {content: \"▾\";}#sk-container-id-1 div.sk-estimator input.sk-toggleable__control:checked~label.sk-toggleable__label {background-color: #d4ebff;}#sk-container-id-1 div.sk-label input.sk-toggleable__control:checked~label.sk-toggleable__label {background-color: #d4ebff;}#sk-container-id-1 input.sk-hidden--visually {border: 0;clip: rect(1px 1px 1px 1px);clip: rect(1px, 1px, 1px, 1px);height: 1px;margin: -1px;overflow: hidden;padding: 0;position: absolute;width: 1px;}#sk-container-id-1 div.sk-estimator {font-family: monospace;background-color: #f0f8ff;border: 1px dotted black;border-radius: 0.25em;box-sizing: border-box;margin-bottom: 0.5em;}#sk-container-id-1 div.sk-estimator:hover {background-color: #d4ebff;}#sk-container-id-1 div.sk-parallel-item::after {content: \"\";width: 100%;border-bottom: 1px solid gray;flex-grow: 1;}#sk-container-id-1 div.sk-label:hover label.sk-toggleable__label {background-color: #d4ebff;}#sk-container-id-1 div.sk-serial::before {content: \"\";position: absolute;border-left: 1px solid gray;box-sizing: border-box;top: 0;bottom: 0;left: 50%;z-index: 0;}#sk-container-id-1 div.sk-serial {display: flex;flex-direction: column;align-items: center;background-color: white;padding-right: 0.2em;padding-left: 0.2em;position: relative;}#sk-container-id-1 div.sk-item {position: relative;z-index: 1;}#sk-container-id-1 div.sk-parallel {display: flex;align-items: stretch;justify-content: center;background-color: white;position: relative;}#sk-container-id-1 div.sk-item::before, #sk-container-id-1 div.sk-parallel-item::before {content: \"\";position: absolute;border-left: 1px solid gray;box-sizing: border-box;top: 0;bottom: 0;left: 50%;z-index: -1;}#sk-container-id-1 div.sk-parallel-item {display: flex;flex-direction: column;z-index: 1;position: relative;background-color: white;}#sk-container-id-1 div.sk-parallel-item:first-child::after {align-self: flex-end;width: 50%;}#sk-container-id-1 div.sk-parallel-item:last-child::after {align-self: flex-start;width: 50%;}#sk-container-id-1 div.sk-parallel-item:only-child::after {width: 0;}#sk-container-id-1 div.sk-dashed-wrapped {border: 1px dashed gray;margin: 0 0.4em 0.5em 0.4em;box-sizing: border-box;padding-bottom: 0.4em;background-color: white;}#sk-container-id-1 div.sk-label label {font-family: monospace;font-weight: bold;display: inline-block;line-height: 1.2em;}#sk-container-id-1 div.sk-label-container {text-align: center;}#sk-container-id-1 div.sk-container {/* jupyter's `normalize.less` sets `[hidden] { display: none; }` but bootstrap.min.css set `[hidden] { display: none !important; }` so we also need the `!important` here to be able to override the default hidden behavior on the sphinx rendered scikit-learn.org. See: https://github.com/scikit-learn/scikit-learn/issues/21755 */display: inline-block !important;position: relative;}#sk-container-id-1 div.sk-text-repr-fallback {display: none;}</style><div id=\"sk-container-id-1\" class=\"sk-top-container\"><div class=\"sk-text-repr-fallback\"><pre>ColumnTransformer(remainder=&#x27;passthrough&#x27;,\n",
              "                  transformers=[(&#x27;num_st&#x27;, StandardScaler(),\n",
              "                                 [&#x27;age&#x27;, &#x27;monthly_inhand_salary&#x27;,\n",
              "                                  &#x27;num_bank_accounts&#x27;, &#x27;num_credit_card&#x27;,\n",
              "                                  &#x27;interest_rate&#x27;, &#x27;num_of_loan&#x27;,\n",
              "                                  &#x27;delay_from_due_date&#x27;,\n",
              "                                  &#x27;num_of_delayed_payment&#x27;,\n",
              "                                  &#x27;changed_credit_limit&#x27;,\n",
              "                                  &#x27;num_credit_inquiries&#x27;,\n",
              "                                  &#x27;credit_utilization_ratio&#x27;,\n",
              "                                  &#x27;credit_history_age&#x27;]),\n",
              "                                (&#x27;num_ord&#x27;, RobustScaler(),\n",
              "                                 [&#x27;annual_income&#x27;, &#x27;monthly_balance&#x27;,\n",
              "                                  &#x27;amount_invested_monthly&#x27;,\n",
              "                                  &#x27;total_emi_per_month&#x27;, &#x27;outstanding_debt&#x27;]),\n",
              "                                (&#x27;cat&#x27;,\n",
              "                                 OneHotEncoder(handle_unknown=&#x27;ignore&#x27;,\n",
              "                                               sparse_output=False),\n",
              "                                 [&#x27;occupation&#x27;, &#x27;payment_behaviour&#x27;]),\n",
              "                                (&#x27;ord&#x27;, OrdinalEncoder(),\n",
              "                                 [&#x27;payment_of_min_amount&#x27;])])</pre><b>In a Jupyter environment, please rerun this cell to show the HTML representation or trust the notebook. <br />On GitHub, the HTML representation is unable to render, please try loading this page with nbviewer.org.</b></div><div class=\"sk-container\" hidden><div class=\"sk-item sk-dashed-wrapped\"><div class=\"sk-label-container\"><div class=\"sk-label sk-toggleable\"><input class=\"sk-toggleable__control sk-hidden--visually\" id=\"sk-estimator-id-1\" type=\"checkbox\" ><label for=\"sk-estimator-id-1\" class=\"sk-toggleable__label sk-toggleable__label-arrow\">ColumnTransformer</label><div class=\"sk-toggleable__content\"><pre>ColumnTransformer(remainder=&#x27;passthrough&#x27;,\n",
              "                  transformers=[(&#x27;num_st&#x27;, StandardScaler(),\n",
              "                                 [&#x27;age&#x27;, &#x27;monthly_inhand_salary&#x27;,\n",
              "                                  &#x27;num_bank_accounts&#x27;, &#x27;num_credit_card&#x27;,\n",
              "                                  &#x27;interest_rate&#x27;, &#x27;num_of_loan&#x27;,\n",
              "                                  &#x27;delay_from_due_date&#x27;,\n",
              "                                  &#x27;num_of_delayed_payment&#x27;,\n",
              "                                  &#x27;changed_credit_limit&#x27;,\n",
              "                                  &#x27;num_credit_inquiries&#x27;,\n",
              "                                  &#x27;credit_utilization_ratio&#x27;,\n",
              "                                  &#x27;credit_history_age&#x27;]),\n",
              "                                (&#x27;num_ord&#x27;, RobustScaler(),\n",
              "                                 [&#x27;annual_income&#x27;, &#x27;monthly_balance&#x27;,\n",
              "                                  &#x27;amount_invested_monthly&#x27;,\n",
              "                                  &#x27;total_emi_per_month&#x27;, &#x27;outstanding_debt&#x27;]),\n",
              "                                (&#x27;cat&#x27;,\n",
              "                                 OneHotEncoder(handle_unknown=&#x27;ignore&#x27;,\n",
              "                                               sparse_output=False),\n",
              "                                 [&#x27;occupation&#x27;, &#x27;payment_behaviour&#x27;]),\n",
              "                                (&#x27;ord&#x27;, OrdinalEncoder(),\n",
              "                                 [&#x27;payment_of_min_amount&#x27;])])</pre></div></div></div><div class=\"sk-parallel\"><div class=\"sk-parallel-item\"><div class=\"sk-item\"><div class=\"sk-label-container\"><div class=\"sk-label sk-toggleable\"><input class=\"sk-toggleable__control sk-hidden--visually\" id=\"sk-estimator-id-2\" type=\"checkbox\" ><label for=\"sk-estimator-id-2\" class=\"sk-toggleable__label sk-toggleable__label-arrow\">num_st</label><div class=\"sk-toggleable__content\"><pre>[&#x27;age&#x27;, &#x27;monthly_inhand_salary&#x27;, &#x27;num_bank_accounts&#x27;, &#x27;num_credit_card&#x27;, &#x27;interest_rate&#x27;, &#x27;num_of_loan&#x27;, &#x27;delay_from_due_date&#x27;, &#x27;num_of_delayed_payment&#x27;, &#x27;changed_credit_limit&#x27;, &#x27;num_credit_inquiries&#x27;, &#x27;credit_utilization_ratio&#x27;, &#x27;credit_history_age&#x27;]</pre></div></div></div><div class=\"sk-serial\"><div class=\"sk-item\"><div class=\"sk-estimator sk-toggleable\"><input class=\"sk-toggleable__control sk-hidden--visually\" id=\"sk-estimator-id-3\" type=\"checkbox\" ><label for=\"sk-estimator-id-3\" class=\"sk-toggleable__label sk-toggleable__label-arrow\">StandardScaler</label><div class=\"sk-toggleable__content\"><pre>StandardScaler()</pre></div></div></div></div></div></div><div class=\"sk-parallel-item\"><div class=\"sk-item\"><div class=\"sk-label-container\"><div class=\"sk-label sk-toggleable\"><input class=\"sk-toggleable__control sk-hidden--visually\" id=\"sk-estimator-id-4\" type=\"checkbox\" ><label for=\"sk-estimator-id-4\" class=\"sk-toggleable__label sk-toggleable__label-arrow\">num_ord</label><div class=\"sk-toggleable__content\"><pre>[&#x27;annual_income&#x27;, &#x27;monthly_balance&#x27;, &#x27;amount_invested_monthly&#x27;, &#x27;total_emi_per_month&#x27;, &#x27;outstanding_debt&#x27;]</pre></div></div></div><div class=\"sk-serial\"><div class=\"sk-item\"><div class=\"sk-estimator sk-toggleable\"><input class=\"sk-toggleable__control sk-hidden--visually\" id=\"sk-estimator-id-5\" type=\"checkbox\" ><label for=\"sk-estimator-id-5\" class=\"sk-toggleable__label sk-toggleable__label-arrow\">RobustScaler</label><div class=\"sk-toggleable__content\"><pre>RobustScaler()</pre></div></div></div></div></div></div><div class=\"sk-parallel-item\"><div class=\"sk-item\"><div class=\"sk-label-container\"><div class=\"sk-label sk-toggleable\"><input class=\"sk-toggleable__control sk-hidden--visually\" id=\"sk-estimator-id-6\" type=\"checkbox\" ><label for=\"sk-estimator-id-6\" class=\"sk-toggleable__label sk-toggleable__label-arrow\">cat</label><div class=\"sk-toggleable__content\"><pre>[&#x27;occupation&#x27;, &#x27;payment_behaviour&#x27;]</pre></div></div></div><div class=\"sk-serial\"><div class=\"sk-item\"><div class=\"sk-estimator sk-toggleable\"><input class=\"sk-toggleable__control sk-hidden--visually\" id=\"sk-estimator-id-7\" type=\"checkbox\" ><label for=\"sk-estimator-id-7\" class=\"sk-toggleable__label sk-toggleable__label-arrow\">OneHotEncoder</label><div class=\"sk-toggleable__content\"><pre>OneHotEncoder(handle_unknown=&#x27;ignore&#x27;, sparse_output=False)</pre></div></div></div></div></div></div><div class=\"sk-parallel-item\"><div class=\"sk-item\"><div class=\"sk-label-container\"><div class=\"sk-label sk-toggleable\"><input class=\"sk-toggleable__control sk-hidden--visually\" id=\"sk-estimator-id-8\" type=\"checkbox\" ><label for=\"sk-estimator-id-8\" class=\"sk-toggleable__label sk-toggleable__label-arrow\">ord</label><div class=\"sk-toggleable__content\"><pre>[&#x27;payment_of_min_amount&#x27;]</pre></div></div></div><div class=\"sk-serial\"><div class=\"sk-item\"><div class=\"sk-estimator sk-toggleable\"><input class=\"sk-toggleable__control sk-hidden--visually\" id=\"sk-estimator-id-9\" type=\"checkbox\" ><label for=\"sk-estimator-id-9\" class=\"sk-toggleable__label sk-toggleable__label-arrow\">OrdinalEncoder</label><div class=\"sk-toggleable__content\"><pre>OrdinalEncoder()</pre></div></div></div></div></div></div><div class=\"sk-parallel-item\"><div class=\"sk-item\"><div class=\"sk-label-container\"><div class=\"sk-label sk-toggleable\"><input class=\"sk-toggleable__control sk-hidden--visually\" id=\"sk-estimator-id-10\" type=\"checkbox\" ><label for=\"sk-estimator-id-10\" class=\"sk-toggleable__label sk-toggleable__label-arrow\">remainder</label><div class=\"sk-toggleable__content\"><pre></pre></div></div></div><div class=\"sk-serial\"><div class=\"sk-item\"><div class=\"sk-estimator sk-toggleable\"><input class=\"sk-toggleable__control sk-hidden--visually\" id=\"sk-estimator-id-11\" type=\"checkbox\" ><label for=\"sk-estimator-id-11\" class=\"sk-toggleable__label sk-toggleable__label-arrow\">passthrough</label><div class=\"sk-toggleable__content\"><pre>passthrough</pre></div></div></div></div></div></div></div></div></div></div>"
            ]
          },
          "metadata": {},
          "execution_count": 14
        }
      ]
    },
    {
      "cell_type": "code",
      "source": [
        "df_pandas = preprocessor.fit_transform(df)"
      ],
      "metadata": {
        "id": "P-Nf8RE81725"
      },
      "execution_count": 15,
      "outputs": []
    },
    {
      "cell_type": "code",
      "source": [
        "df_pandas"
      ],
      "metadata": {
        "colab": {
          "base_uri": "https://localhost:8080/",
          "height": 487
        },
        "id": "UBHkB9092JFw",
        "outputId": "9f52e8cf-7980-4038-85d2-64714b11a27f"
      },
      "execution_count": 16,
      "outputs": [
        {
          "output_type": "execute_result",
          "data": {
            "text/plain": [
              "       num_st__age  num_st__monthly_inhand_salary  num_st__num_bank_accounts  \\\n",
              "0        -1.148673                      -0.744213                  -0.911864   \n",
              "1        -0.656012                      -0.361945                  -1.297259   \n",
              "2        -0.064818                       2.521028                  -1.682655   \n",
              "3         2.004360                      -0.496021                  -1.297259   \n",
              "4        -1.345738                      -0.420138                   0.629718   \n",
              "...            ...                            ...                        ...   \n",
              "12495    -1.542802                      -0.226346                  -2.068050   \n",
              "12496     1.019037                            NaN                  -1.682655   \n",
              "12497     1.511699                      -0.343347                  -1.682655   \n",
              "12498    -0.557480                      -0.711107                   1.785904   \n",
              "12499    -0.951609                      -0.260661                  -0.526468   \n",
              "\n",
              "       num_st__num_credit_card  num_st__interest_rate  num_st__num_of_loan  \\\n",
              "0                    -0.741369              -1.320209             0.192783   \n",
              "1                    -0.741369              -0.977483            -1.035232   \n",
              "2                    -0.258466              -0.748999            -0.216555   \n",
              "3                    -0.258466              -1.205967                  NaN   \n",
              "4                    -0.258466              -1.091725                  NaN   \n",
              "...                        ...                    ...                  ...   \n",
              "12495                -0.741369              -0.977483            -1.035232   \n",
              "12496                -2.190078              -1.091725             0.192783   \n",
              "12497                -0.741369              -1.091725            -0.216555   \n",
              "12498                 1.190242               1.650082             0.602121   \n",
              "12499                 0.224437              -0.863241            -0.625893   \n",
              "\n",
              "       num_st__delay_from_due_date  num_st__num_of_delayed_payment  \\\n",
              "0                        -1.232985                       -1.198636   \n",
              "1                        -1.232985                       -1.521247   \n",
              "2                        -0.894754                       -1.198636   \n",
              "3                        -1.165339                       -0.714720   \n",
              "4                        -1.368277                        0.253113   \n",
              "...                            ...                             ...   \n",
              "12495                    -0.827108                             NaN   \n",
              "12496                    -1.368277                       -2.166468   \n",
              "12497                    -0.962400                       -0.714720   \n",
              "12498                     0.796402                        1.866167   \n",
              "12499                    -0.218292                       -1.198636   \n",
              "\n",
              "       num_st__changed_credit_limit  num_st__num_credit_inquiries  ...  \\\n",
              "0                         -1.202563                     -0.660730  ...   \n",
              "1                         -1.526020                     -1.161301  ...   \n",
              "2                         -1.202563                     -0.911015  ...   \n",
              "3                         -0.717377                     -0.660730  ...   \n",
              "4                          0.252994                     -0.660730  ...   \n",
              "...                             ...                           ...  ...   \n",
              "12495                           NaN                     -1.411587  ...   \n",
              "12496                     -2.172935                      0.340414  ...   \n",
              "12497                     -0.717377                     -0.911015  ...   \n",
              "12498                      1.870280                      0.590699  ...   \n",
              "12499                     -1.202563                     -0.911015  ...   \n",
              "\n",
              "       cat__payment_behaviour_!@9#%8  \\\n",
              "0                                0.0   \n",
              "1                                0.0   \n",
              "2                                0.0   \n",
              "3                                0.0   \n",
              "4                                0.0   \n",
              "...                              ...   \n",
              "12495                            0.0   \n",
              "12496                            0.0   \n",
              "12497                            0.0   \n",
              "12498                            0.0   \n",
              "12499                            1.0   \n",
              "\n",
              "       cat__payment_behaviour_High_spent_Large_value_payments  \\\n",
              "0                                                    0.0        \n",
              "1                                                    0.0        \n",
              "2                                                    0.0        \n",
              "3                                                    0.0        \n",
              "4                                                    0.0        \n",
              "...                                                  ...        \n",
              "12495                                                0.0        \n",
              "12496                                                0.0        \n",
              "12497                                                0.0        \n",
              "12498                                                1.0        \n",
              "12499                                                0.0        \n",
              "\n",
              "       cat__payment_behaviour_High_spent_Medium_value_payments  \\\n",
              "0                                                    1.0         \n",
              "1                                                    0.0         \n",
              "2                                                    0.0         \n",
              "3                                                    0.0         \n",
              "4                                                    0.0         \n",
              "...                                                  ...         \n",
              "12495                                                1.0         \n",
              "12496                                                0.0         \n",
              "12497                                                1.0         \n",
              "12498                                                0.0         \n",
              "12499                                                0.0         \n",
              "\n",
              "       cat__payment_behaviour_High_spent_Small_value_payments  \\\n",
              "0                                                    0.0        \n",
              "1                                                    0.0        \n",
              "2                                                    1.0        \n",
              "3                                                    1.0        \n",
              "4                                                    1.0        \n",
              "...                                                  ...        \n",
              "12495                                                0.0        \n",
              "12496                                                0.0        \n",
              "12497                                                0.0        \n",
              "12498                                                0.0        \n",
              "12499                                                0.0        \n",
              "\n",
              "       cat__payment_behaviour_Low_spent_Large_value_payments  \\\n",
              "0                                                    0.0       \n",
              "1                                                    0.0       \n",
              "2                                                    0.0       \n",
              "3                                                    0.0       \n",
              "4                                                    0.0       \n",
              "...                                                  ...       \n",
              "12495                                                0.0       \n",
              "12496                                                1.0       \n",
              "12497                                                0.0       \n",
              "12498                                                0.0       \n",
              "12499                                                0.0       \n",
              "\n",
              "       cat__payment_behaviour_Low_spent_Medium_value_payments  \\\n",
              "0                                                    0.0        \n",
              "1                                                    0.0        \n",
              "2                                                    0.0        \n",
              "3                                                    0.0        \n",
              "4                                                    0.0        \n",
              "...                                                  ...        \n",
              "12495                                                0.0        \n",
              "12496                                                0.0        \n",
              "12497                                                0.0        \n",
              "12498                                                0.0        \n",
              "12499                                                0.0        \n",
              "\n",
              "       cat__payment_behaviour_Low_spent_Small_value_payments  \\\n",
              "0                                                    0.0       \n",
              "1                                                    1.0       \n",
              "2                                                    0.0       \n",
              "3                                                    0.0       \n",
              "4                                                    0.0       \n",
              "...                                                  ...       \n",
              "12495                                                0.0       \n",
              "12496                                                0.0       \n",
              "12497                                                0.0       \n",
              "12498                                                0.0       \n",
              "12499                                                0.0       \n",
              "\n",
              "       ord__payment_of_min_amount  remainder__customer_id  \\\n",
              "0                             1.0               CUS_0xd40   \n",
              "1                             1.0              CUS_0x21b1   \n",
              "2                             1.0              CUS_0x2dbc   \n",
              "3                             1.0              CUS_0xb891   \n",
              "4                             2.0              CUS_0x1cdb   \n",
              "...                           ...                     ...   \n",
              "12495                         1.0              CUS_0x372c   \n",
              "12496                         1.0               CUS_0xf16   \n",
              "12497                         1.0              CUS_0xaf61   \n",
              "12498                         2.0              CUS_0x8600   \n",
              "12499                         1.0              CUS_0x942c   \n",
              "\n",
              "       remainder__credit_score  \n",
              "0                            0  \n",
              "1                            0  \n",
              "2                            0  \n",
              "3                            0  \n",
              "4                            0  \n",
              "...                        ...  \n",
              "12495                        0  \n",
              "12496                        0  \n",
              "12497                        0  \n",
              "12498                        0  \n",
              "12499                        1  \n",
              "\n",
              "[12500 rows x 43 columns]"
            ],
            "text/html": [
              "\n",
              "\n",
              "  <div id=\"df-851e9fdc-2e68-42a7-abb3-329820e8a85d\">\n",
              "    <div class=\"colab-df-container\">\n",
              "      <div>\n",
              "<style scoped>\n",
              "    .dataframe tbody tr th:only-of-type {\n",
              "        vertical-align: middle;\n",
              "    }\n",
              "\n",
              "    .dataframe tbody tr th {\n",
              "        vertical-align: top;\n",
              "    }\n",
              "\n",
              "    .dataframe thead th {\n",
              "        text-align: right;\n",
              "    }\n",
              "</style>\n",
              "<table border=\"1\" class=\"dataframe\">\n",
              "  <thead>\n",
              "    <tr style=\"text-align: right;\">\n",
              "      <th></th>\n",
              "      <th>num_st__age</th>\n",
              "      <th>num_st__monthly_inhand_salary</th>\n",
              "      <th>num_st__num_bank_accounts</th>\n",
              "      <th>num_st__num_credit_card</th>\n",
              "      <th>num_st__interest_rate</th>\n",
              "      <th>num_st__num_of_loan</th>\n",
              "      <th>num_st__delay_from_due_date</th>\n",
              "      <th>num_st__num_of_delayed_payment</th>\n",
              "      <th>num_st__changed_credit_limit</th>\n",
              "      <th>num_st__num_credit_inquiries</th>\n",
              "      <th>...</th>\n",
              "      <th>cat__payment_behaviour_!@9#%8</th>\n",
              "      <th>cat__payment_behaviour_High_spent_Large_value_payments</th>\n",
              "      <th>cat__payment_behaviour_High_spent_Medium_value_payments</th>\n",
              "      <th>cat__payment_behaviour_High_spent_Small_value_payments</th>\n",
              "      <th>cat__payment_behaviour_Low_spent_Large_value_payments</th>\n",
              "      <th>cat__payment_behaviour_Low_spent_Medium_value_payments</th>\n",
              "      <th>cat__payment_behaviour_Low_spent_Small_value_payments</th>\n",
              "      <th>ord__payment_of_min_amount</th>\n",
              "      <th>remainder__customer_id</th>\n",
              "      <th>remainder__credit_score</th>\n",
              "    </tr>\n",
              "  </thead>\n",
              "  <tbody>\n",
              "    <tr>\n",
              "      <th>0</th>\n",
              "      <td>-1.148673</td>\n",
              "      <td>-0.744213</td>\n",
              "      <td>-0.911864</td>\n",
              "      <td>-0.741369</td>\n",
              "      <td>-1.320209</td>\n",
              "      <td>0.192783</td>\n",
              "      <td>-1.232985</td>\n",
              "      <td>-1.198636</td>\n",
              "      <td>-1.202563</td>\n",
              "      <td>-0.660730</td>\n",
              "      <td>...</td>\n",
              "      <td>0.0</td>\n",
              "      <td>0.0</td>\n",
              "      <td>1.0</td>\n",
              "      <td>0.0</td>\n",
              "      <td>0.0</td>\n",
              "      <td>0.0</td>\n",
              "      <td>0.0</td>\n",
              "      <td>1.0</td>\n",
              "      <td>CUS_0xd40</td>\n",
              "      <td>0</td>\n",
              "    </tr>\n",
              "    <tr>\n",
              "      <th>1</th>\n",
              "      <td>-0.656012</td>\n",
              "      <td>-0.361945</td>\n",
              "      <td>-1.297259</td>\n",
              "      <td>-0.741369</td>\n",
              "      <td>-0.977483</td>\n",
              "      <td>-1.035232</td>\n",
              "      <td>-1.232985</td>\n",
              "      <td>-1.521247</td>\n",
              "      <td>-1.526020</td>\n",
              "      <td>-1.161301</td>\n",
              "      <td>...</td>\n",
              "      <td>0.0</td>\n",
              "      <td>0.0</td>\n",
              "      <td>0.0</td>\n",
              "      <td>0.0</td>\n",
              "      <td>0.0</td>\n",
              "      <td>0.0</td>\n",
              "      <td>1.0</td>\n",
              "      <td>1.0</td>\n",
              "      <td>CUS_0x21b1</td>\n",
              "      <td>0</td>\n",
              "    </tr>\n",
              "    <tr>\n",
              "      <th>2</th>\n",
              "      <td>-0.064818</td>\n",
              "      <td>2.521028</td>\n",
              "      <td>-1.682655</td>\n",
              "      <td>-0.258466</td>\n",
              "      <td>-0.748999</td>\n",
              "      <td>-0.216555</td>\n",
              "      <td>-0.894754</td>\n",
              "      <td>-1.198636</td>\n",
              "      <td>-1.202563</td>\n",
              "      <td>-0.911015</td>\n",
              "      <td>...</td>\n",
              "      <td>0.0</td>\n",
              "      <td>0.0</td>\n",
              "      <td>0.0</td>\n",
              "      <td>1.0</td>\n",
              "      <td>0.0</td>\n",
              "      <td>0.0</td>\n",
              "      <td>0.0</td>\n",
              "      <td>1.0</td>\n",
              "      <td>CUS_0x2dbc</td>\n",
              "      <td>0</td>\n",
              "    </tr>\n",
              "    <tr>\n",
              "      <th>3</th>\n",
              "      <td>2.004360</td>\n",
              "      <td>-0.496021</td>\n",
              "      <td>-1.297259</td>\n",
              "      <td>-0.258466</td>\n",
              "      <td>-1.205967</td>\n",
              "      <td>NaN</td>\n",
              "      <td>-1.165339</td>\n",
              "      <td>-0.714720</td>\n",
              "      <td>-0.717377</td>\n",
              "      <td>-0.660730</td>\n",
              "      <td>...</td>\n",
              "      <td>0.0</td>\n",
              "      <td>0.0</td>\n",
              "      <td>0.0</td>\n",
              "      <td>1.0</td>\n",
              "      <td>0.0</td>\n",
              "      <td>0.0</td>\n",
              "      <td>0.0</td>\n",
              "      <td>1.0</td>\n",
              "      <td>CUS_0xb891</td>\n",
              "      <td>0</td>\n",
              "    </tr>\n",
              "    <tr>\n",
              "      <th>4</th>\n",
              "      <td>-1.345738</td>\n",
              "      <td>-0.420138</td>\n",
              "      <td>0.629718</td>\n",
              "      <td>-0.258466</td>\n",
              "      <td>-1.091725</td>\n",
              "      <td>NaN</td>\n",
              "      <td>-1.368277</td>\n",
              "      <td>0.253113</td>\n",
              "      <td>0.252994</td>\n",
              "      <td>-0.660730</td>\n",
              "      <td>...</td>\n",
              "      <td>0.0</td>\n",
              "      <td>0.0</td>\n",
              "      <td>0.0</td>\n",
              "      <td>1.0</td>\n",
              "      <td>0.0</td>\n",
              "      <td>0.0</td>\n",
              "      <td>0.0</td>\n",
              "      <td>2.0</td>\n",
              "      <td>CUS_0x1cdb</td>\n",
              "      <td>0</td>\n",
              "    </tr>\n",
              "    <tr>\n",
              "      <th>...</th>\n",
              "      <td>...</td>\n",
              "      <td>...</td>\n",
              "      <td>...</td>\n",
              "      <td>...</td>\n",
              "      <td>...</td>\n",
              "      <td>...</td>\n",
              "      <td>...</td>\n",
              "      <td>...</td>\n",
              "      <td>...</td>\n",
              "      <td>...</td>\n",
              "      <td>...</td>\n",
              "      <td>...</td>\n",
              "      <td>...</td>\n",
              "      <td>...</td>\n",
              "      <td>...</td>\n",
              "      <td>...</td>\n",
              "      <td>...</td>\n",
              "      <td>...</td>\n",
              "      <td>...</td>\n",
              "      <td>...</td>\n",
              "      <td>...</td>\n",
              "    </tr>\n",
              "    <tr>\n",
              "      <th>12495</th>\n",
              "      <td>-1.542802</td>\n",
              "      <td>-0.226346</td>\n",
              "      <td>-2.068050</td>\n",
              "      <td>-0.741369</td>\n",
              "      <td>-0.977483</td>\n",
              "      <td>-1.035232</td>\n",
              "      <td>-0.827108</td>\n",
              "      <td>NaN</td>\n",
              "      <td>NaN</td>\n",
              "      <td>-1.411587</td>\n",
              "      <td>...</td>\n",
              "      <td>0.0</td>\n",
              "      <td>0.0</td>\n",
              "      <td>1.0</td>\n",
              "      <td>0.0</td>\n",
              "      <td>0.0</td>\n",
              "      <td>0.0</td>\n",
              "      <td>0.0</td>\n",
              "      <td>1.0</td>\n",
              "      <td>CUS_0x372c</td>\n",
              "      <td>0</td>\n",
              "    </tr>\n",
              "    <tr>\n",
              "      <th>12496</th>\n",
              "      <td>1.019037</td>\n",
              "      <td>NaN</td>\n",
              "      <td>-1.682655</td>\n",
              "      <td>-2.190078</td>\n",
              "      <td>-1.091725</td>\n",
              "      <td>0.192783</td>\n",
              "      <td>-1.368277</td>\n",
              "      <td>-2.166468</td>\n",
              "      <td>-2.172935</td>\n",
              "      <td>0.340414</td>\n",
              "      <td>...</td>\n",
              "      <td>0.0</td>\n",
              "      <td>0.0</td>\n",
              "      <td>0.0</td>\n",
              "      <td>0.0</td>\n",
              "      <td>1.0</td>\n",
              "      <td>0.0</td>\n",
              "      <td>0.0</td>\n",
              "      <td>1.0</td>\n",
              "      <td>CUS_0xf16</td>\n",
              "      <td>0</td>\n",
              "    </tr>\n",
              "    <tr>\n",
              "      <th>12497</th>\n",
              "      <td>1.511699</td>\n",
              "      <td>-0.343347</td>\n",
              "      <td>-1.682655</td>\n",
              "      <td>-0.741369</td>\n",
              "      <td>-1.091725</td>\n",
              "      <td>-0.216555</td>\n",
              "      <td>-0.962400</td>\n",
              "      <td>-0.714720</td>\n",
              "      <td>-0.717377</td>\n",
              "      <td>-0.911015</td>\n",
              "      <td>...</td>\n",
              "      <td>0.0</td>\n",
              "      <td>0.0</td>\n",
              "      <td>1.0</td>\n",
              "      <td>0.0</td>\n",
              "      <td>0.0</td>\n",
              "      <td>0.0</td>\n",
              "      <td>0.0</td>\n",
              "      <td>1.0</td>\n",
              "      <td>CUS_0xaf61</td>\n",
              "      <td>0</td>\n",
              "    </tr>\n",
              "    <tr>\n",
              "      <th>12498</th>\n",
              "      <td>-0.557480</td>\n",
              "      <td>-0.711107</td>\n",
              "      <td>1.785904</td>\n",
              "      <td>1.190242</td>\n",
              "      <td>1.650082</td>\n",
              "      <td>0.602121</td>\n",
              "      <td>0.796402</td>\n",
              "      <td>1.866167</td>\n",
              "      <td>1.870280</td>\n",
              "      <td>0.590699</td>\n",
              "      <td>...</td>\n",
              "      <td>0.0</td>\n",
              "      <td>1.0</td>\n",
              "      <td>0.0</td>\n",
              "      <td>0.0</td>\n",
              "      <td>0.0</td>\n",
              "      <td>0.0</td>\n",
              "      <td>0.0</td>\n",
              "      <td>2.0</td>\n",
              "      <td>CUS_0x8600</td>\n",
              "      <td>0</td>\n",
              "    </tr>\n",
              "    <tr>\n",
              "      <th>12499</th>\n",
              "      <td>-0.951609</td>\n",
              "      <td>-0.260661</td>\n",
              "      <td>-0.526468</td>\n",
              "      <td>0.224437</td>\n",
              "      <td>-0.863241</td>\n",
              "      <td>-0.625893</td>\n",
              "      <td>-0.218292</td>\n",
              "      <td>-1.198636</td>\n",
              "      <td>-1.202563</td>\n",
              "      <td>-0.911015</td>\n",
              "      <td>...</td>\n",
              "      <td>1.0</td>\n",
              "      <td>0.0</td>\n",
              "      <td>0.0</td>\n",
              "      <td>0.0</td>\n",
              "      <td>0.0</td>\n",
              "      <td>0.0</td>\n",
              "      <td>0.0</td>\n",
              "      <td>1.0</td>\n",
              "      <td>CUS_0x942c</td>\n",
              "      <td>1</td>\n",
              "    </tr>\n",
              "  </tbody>\n",
              "</table>\n",
              "<p>12500 rows × 43 columns</p>\n",
              "</div>\n",
              "      <button class=\"colab-df-convert\" onclick=\"convertToInteractive('df-851e9fdc-2e68-42a7-abb3-329820e8a85d')\"\n",
              "              title=\"Convert this dataframe to an interactive table.\"\n",
              "              style=\"display:none;\">\n",
              "\n",
              "  <svg xmlns=\"http://www.w3.org/2000/svg\" height=\"24px\"viewBox=\"0 0 24 24\"\n",
              "       width=\"24px\">\n",
              "    <path d=\"M0 0h24v24H0V0z\" fill=\"none\"/>\n",
              "    <path d=\"M18.56 5.44l.94 2.06.94-2.06 2.06-.94-2.06-.94-.94-2.06-.94 2.06-2.06.94zm-11 1L8.5 8.5l.94-2.06 2.06-.94-2.06-.94L8.5 2.5l-.94 2.06-2.06.94zm10 10l.94 2.06.94-2.06 2.06-.94-2.06-.94-.94-2.06-.94 2.06-2.06.94z\"/><path d=\"M17.41 7.96l-1.37-1.37c-.4-.4-.92-.59-1.43-.59-.52 0-1.04.2-1.43.59L10.3 9.45l-7.72 7.72c-.78.78-.78 2.05 0 2.83L4 21.41c.39.39.9.59 1.41.59.51 0 1.02-.2 1.41-.59l7.78-7.78 2.81-2.81c.8-.78.8-2.07 0-2.86zM5.41 20L4 18.59l7.72-7.72 1.47 1.35L5.41 20z\"/>\n",
              "  </svg>\n",
              "      </button>\n",
              "\n",
              "\n",
              "\n",
              "    <div id=\"df-f84bced5-2a08-4378-bbe8-59ba4fd1eab5\">\n",
              "      <button class=\"colab-df-quickchart\" onclick=\"quickchart('df-f84bced5-2a08-4378-bbe8-59ba4fd1eab5')\"\n",
              "              title=\"Suggest charts.\"\n",
              "              style=\"display:none;\">\n",
              "\n",
              "<svg xmlns=\"http://www.w3.org/2000/svg\" height=\"24px\"viewBox=\"0 0 24 24\"\n",
              "     width=\"24px\">\n",
              "    <g>\n",
              "        <path d=\"M19 3H5c-1.1 0-2 .9-2 2v14c0 1.1.9 2 2 2h14c1.1 0 2-.9 2-2V5c0-1.1-.9-2-2-2zM9 17H7v-7h2v7zm4 0h-2V7h2v10zm4 0h-2v-4h2v4z\"/>\n",
              "    </g>\n",
              "</svg>\n",
              "      </button>\n",
              "    </div>\n",
              "\n",
              "<style>\n",
              "  .colab-df-quickchart {\n",
              "    background-color: #E8F0FE;\n",
              "    border: none;\n",
              "    border-radius: 50%;\n",
              "    cursor: pointer;\n",
              "    display: none;\n",
              "    fill: #1967D2;\n",
              "    height: 32px;\n",
              "    padding: 0 0 0 0;\n",
              "    width: 32px;\n",
              "  }\n",
              "\n",
              "  .colab-df-quickchart:hover {\n",
              "    background-color: #E2EBFA;\n",
              "    box-shadow: 0px 1px 2px rgba(60, 64, 67, 0.3), 0px 1px 3px 1px rgba(60, 64, 67, 0.15);\n",
              "    fill: #174EA6;\n",
              "  }\n",
              "\n",
              "  [theme=dark] .colab-df-quickchart {\n",
              "    background-color: #3B4455;\n",
              "    fill: #D2E3FC;\n",
              "  }\n",
              "\n",
              "  [theme=dark] .colab-df-quickchart:hover {\n",
              "    background-color: #434B5C;\n",
              "    box-shadow: 0px 1px 3px 1px rgba(0, 0, 0, 0.15);\n",
              "    filter: drop-shadow(0px 1px 2px rgba(0, 0, 0, 0.3));\n",
              "    fill: #FFFFFF;\n",
              "  }\n",
              "</style>\n",
              "\n",
              "    <script>\n",
              "      async function quickchart(key) {\n",
              "        const containerElement = document.querySelector('#' + key);\n",
              "        const charts = await google.colab.kernel.invokeFunction(\n",
              "            'suggestCharts', [key], {});\n",
              "      }\n",
              "    </script>\n",
              "\n",
              "      <script>\n",
              "\n",
              "function displayQuickchartButton(domScope) {\n",
              "  let quickchartButtonEl =\n",
              "    domScope.querySelector('#df-f84bced5-2a08-4378-bbe8-59ba4fd1eab5 button.colab-df-quickchart');\n",
              "  quickchartButtonEl.style.display =\n",
              "    google.colab.kernel.accessAllowed ? 'block' : 'none';\n",
              "}\n",
              "\n",
              "        displayQuickchartButton(document);\n",
              "      </script>\n",
              "      <style>\n",
              "    .colab-df-container {\n",
              "      display:flex;\n",
              "      flex-wrap:wrap;\n",
              "      gap: 12px;\n",
              "    }\n",
              "\n",
              "    .colab-df-convert {\n",
              "      background-color: #E8F0FE;\n",
              "      border: none;\n",
              "      border-radius: 50%;\n",
              "      cursor: pointer;\n",
              "      display: none;\n",
              "      fill: #1967D2;\n",
              "      height: 32px;\n",
              "      padding: 0 0 0 0;\n",
              "      width: 32px;\n",
              "    }\n",
              "\n",
              "    .colab-df-convert:hover {\n",
              "      background-color: #E2EBFA;\n",
              "      box-shadow: 0px 1px 2px rgba(60, 64, 67, 0.3), 0px 1px 3px 1px rgba(60, 64, 67, 0.15);\n",
              "      fill: #174EA6;\n",
              "    }\n",
              "\n",
              "    [theme=dark] .colab-df-convert {\n",
              "      background-color: #3B4455;\n",
              "      fill: #D2E3FC;\n",
              "    }\n",
              "\n",
              "    [theme=dark] .colab-df-convert:hover {\n",
              "      background-color: #434B5C;\n",
              "      box-shadow: 0px 1px 3px 1px rgba(0, 0, 0, 0.15);\n",
              "      filter: drop-shadow(0px 1px 2px rgba(0, 0, 0, 0.3));\n",
              "      fill: #FFFFFF;\n",
              "    }\n",
              "  </style>\n",
              "\n",
              "      <script>\n",
              "        const buttonEl =\n",
              "          document.querySelector('#df-851e9fdc-2e68-42a7-abb3-329820e8a85d button.colab-df-convert');\n",
              "        buttonEl.style.display =\n",
              "          google.colab.kernel.accessAllowed ? 'block' : 'none';\n",
              "\n",
              "        async function convertToInteractive(key) {\n",
              "          const element = document.querySelector('#df-851e9fdc-2e68-42a7-abb3-329820e8a85d');\n",
              "          const dataTable =\n",
              "            await google.colab.kernel.invokeFunction('convertToInteractive',\n",
              "                                                     [key], {});\n",
              "          if (!dataTable) return;\n",
              "\n",
              "          const docLinkHtml = 'Like what you see? Visit the ' +\n",
              "            '<a target=\"_blank\" href=https://colab.research.google.com/notebooks/data_table.ipynb>data table notebook</a>'\n",
              "            + ' to learn more about interactive tables.';\n",
              "          element.innerHTML = '';\n",
              "          dataTable['output_type'] = 'display_data';\n",
              "          await google.colab.output.renderOutput(dataTable, element);\n",
              "          const docLink = document.createElement('div');\n",
              "          docLink.innerHTML = docLinkHtml;\n",
              "          element.appendChild(docLink);\n",
              "        }\n",
              "      </script>\n",
              "    </div>\n",
              "  </div>\n"
            ]
          },
          "metadata": {},
          "execution_count": 16
        }
      ]
    },
    {
      "cell_type": "markdown",
      "source": [
        "## Holdout"
      ],
      "metadata": {
        "id": "A1wVLTCquQZd"
      }
    },
    {
      "cell_type": "code",
      "source": [
        "X = df.drop(['customer_id','credit_score'], axis=1)\n",
        "y = df['credit_score']\n",
        "X_train, X_test, y_train, y_test = train_test_split(X, y, test_size=0.2, random_state=190423)"
      ],
      "metadata": {
        "id": "SOvYOtv0uRzO"
      },
      "execution_count": 17,
      "outputs": []
    },
    {
      "cell_type": "markdown",
      "source": [
        "##  Baseline"
      ],
      "metadata": {
        "id": "iRYn8r7SudIs"
      }
    },
    {
      "cell_type": "code",
      "source": [
        "from sklearn.dummy import DummyClassifier\n",
        "from sklearn.linear_model import LogisticRegression\n",
        "from sklearn.neighbors import KNeighborsClassifier\n",
        "from sklearn.tree import DecisionTreeClassifier\n",
        "from sklearn.svm import SVC\n",
        "from sklearn.ensemble import RandomForestClassifier\n",
        "import lightgbm as lgb\n",
        "from xgboost import XGBClassifier\n",
        "from sklearn.impute import SimpleImputer"
      ],
      "metadata": {
        "id": "7huGKXU-1nzZ"
      },
      "execution_count": 18,
      "outputs": []
    },
    {
      "cell_type": "code",
      "source": [
        "selection_pipeline_dummy = Pipeline(\n",
        "    steps=[\n",
        "        (\"preprocessing\", preprocessor),\n",
        "        (\"imputer\", SimpleImputer(strategy=\"mean\")),\n",
        "        (\"model\", DummyClassifier(strategy='stratified'))\n",
        "    ]\n",
        ")\n",
        "\n",
        "selection_pipeline_LR = Pipeline(\n",
        "    steps=[\n",
        "        (\"preprocessing\", preprocessor),\n",
        "        (\"imputer\", SimpleImputer(strategy=\"mean\")),\n",
        "        (\"model\", LogisticRegression(random_state=0))\n",
        "    ]\n",
        ")\n",
        "\n",
        "selection_pipeline_KNC= Pipeline(\n",
        "    steps=[\n",
        "        (\"preprocessing\", preprocessor),\n",
        "        (\"imputer\", SimpleImputer(strategy=\"mean\")),\n",
        "        (\"model\", KNeighborsClassifier())\n",
        "    ]\n",
        ")\n",
        "\n",
        "\n",
        "selection_pipeline_DTC= Pipeline(\n",
        "    steps=[\n",
        "        (\"preprocessing\", preprocessor),\n",
        "        (\"imputer\", SimpleImputer(strategy=\"mean\")),\n",
        "        (\"model\", DecisionTreeClassifier(random_state=0))\n",
        "    ]\n",
        ")\n",
        "\n",
        "selection_pipeline_SVC= Pipeline(\n",
        "    steps=[\n",
        "        (\"preprocessing\", preprocessor),\n",
        "        (\"imputer\", SimpleImputer(strategy=\"mean\")),\n",
        "        (\"model\", SVC())\n",
        "    ]\n",
        ")\n",
        "\n",
        "selection_pipeline_RFC= Pipeline(\n",
        "    steps=[\n",
        "        (\"preprocessing\", preprocessor),\n",
        "        (\"imputer\", SimpleImputer(strategy=\"mean\")),\n",
        "        (\"model\", RandomForestClassifier())\n",
        "    ]\n",
        ")\n",
        "\n",
        "\n",
        "selection_pipeline_LGB= Pipeline(\n",
        "    steps=[\n",
        "        (\"preprocessing\", preprocessor),\n",
        "        (\"imputer\", SimpleImputer(strategy=\"mean\")),\n",
        "        (\"model\", lgb.LGBMClassifier())\n",
        "    ]\n",
        ")\n",
        "\n",
        "selection_pipeline_XGB= Pipeline(\n",
        "    steps=[\n",
        "        (\"preprocessing\", preprocessor),\n",
        "        (\"imputer\", SimpleImputer(strategy=\"mean\")),\n",
        "        (\"model\", XGBClassifier())\n",
        "    ]\n",
        ")\n",
        "\n"
      ],
      "metadata": {
        "id": "fLbT83Qyusnj"
      },
      "execution_count": 19,
      "outputs": []
    },
    {
      "cell_type": "markdown",
      "source": [
        "Entrenamiento de los modelos"
      ],
      "metadata": {
        "id": "iTP479oa5v2X"
      }
    },
    {
      "cell_type": "code",
      "source": [
        "from sklearn.metrics import classification_report"
      ],
      "metadata": {
        "id": "aezC12Rr7IEH"
      },
      "execution_count": 20,
      "outputs": []
    },
    {
      "cell_type": "code",
      "source": [
        "#dummy\n",
        "selection_pipeline_dummy.fit(X_train, y_train)\n",
        "y_pred_dummy = selection_pipeline_dummy.predict(X_test)\n",
        "\n",
        "#dtc\n",
        "selection_pipeline_DTC.fit(X_train, y_train)\n",
        "y_pred_dtc = selection_pipeline_DTC.predict(X_test)\n",
        "\n",
        "#knc\n",
        "selection_pipeline_KNC.fit(X_train, y_train)\n",
        "y_pred_knc = selection_pipeline_KNC.predict(X_test)\n",
        "\n",
        "#lgb\n",
        "selection_pipeline_LGB.fit(X_train, y_train)\n",
        "y_pred_lgb = selection_pipeline_LGB.predict(X_test)\n",
        "\n",
        "#lr\n",
        "selection_pipeline_LR.fit(X_train, y_train)\n",
        "y_pred_lr = selection_pipeline_LR.predict(X_test)\n",
        "\n",
        "#rfc\n",
        "selection_pipeline_RFC.fit(X_train, y_train)\n",
        "y_pred_rfc = selection_pipeline_RFC.predict(X_test)\n",
        "\n",
        "#svc\n",
        "selection_pipeline_SVC.fit(X_train, y_train)\n",
        "y_pred_svc = selection_pipeline_SVC.predict(X_test)\n",
        "\n",
        "#xgb\n",
        "selection_pipeline_XGB.fit(X_train, y_train)\n",
        "y_pred_xgb = selection_pipeline_XGB.predict(X_test)"
      ],
      "metadata": {
        "colab": {
          "base_uri": "https://localhost:8080/"
        },
        "id": "MwhUz6I85NrH",
        "outputId": "11b404f1-da82-4ac2-a2ef-7686cafdb159"
      },
      "execution_count": 21,
      "outputs": [
        {
          "output_type": "stream",
          "name": "stderr",
          "text": [
            "/usr/local/lib/python3.10/dist-packages/sklearn/linear_model/_logistic.py:458: ConvergenceWarning: lbfgs failed to converge (status=1):\n",
            "STOP: TOTAL NO. of ITERATIONS REACHED LIMIT.\n",
            "\n",
            "Increase the number of iterations (max_iter) or scale the data as shown in:\n",
            "    https://scikit-learn.org/stable/modules/preprocessing.html\n",
            "Please also refer to the documentation for alternative solver options:\n",
            "    https://scikit-learn.org/stable/modules/linear_model.html#logistic-regression\n",
            "  n_iter_i = _check_optimize_result(\n"
          ]
        }
      ]
    },
    {
      "cell_type": "code",
      "source": [
        "dummy_report = classification_report(y_test, y_pred_dummy)\n",
        "dtc_report = classification_report(y_test, y_pred_dtc)\n",
        "knc_report = classification_report(y_test, y_pred_knc)\n",
        "lgb_report = classification_report(y_test, y_pred_lgb)\n",
        "lr_report = classification_report(y_test, y_pred_lr)\n",
        "rfc_report = classification_report(y_test, y_pred_rfc)\n",
        "svc_report = classification_report(y_test, y_pred_svc)\n",
        "xgb_report = classification_report(y_test, y_pred_xgb)"
      ],
      "metadata": {
        "id": "NqYHXuap7CEo"
      },
      "execution_count": 22,
      "outputs": []
    },
    {
      "cell_type": "code",
      "source": [
        "dummy_report = classification_report(y_test, y_pred_dummy)\n",
        "dtc_report = classification_report(y_test, y_pred_dtc)\n",
        "knc_report = classification_report(y_test, y_pred_knc)\n",
        "lgb_report = classification_report(y_test, y_pred_lgb)\n",
        "lr_report = classification_report(y_test, y_pred_lr)\n",
        "rfc_report = classification_report(y_test, y_pred_rfc)\n",
        "svc_report = classification_report(y_test, y_pred_svc)\n",
        "xgb_report = classification_report(y_test, y_pred_xgb)"
      ],
      "metadata": {
        "id": "uYmjJ-Tm8CgF"
      },
      "execution_count": 23,
      "outputs": []
    },
    {
      "cell_type": "code",
      "source": [
        "from sklearn.metrics import classification_report\n",
        "\n",
        "# Suponiendo que las variables ya están definidas con sus respectivos valores\n",
        "\n",
        "# Imprimir dummy_report\n",
        "print(\"dummy_report:\")\n",
        "print(dummy_report)\n",
        "print(\"\\n\\n\")\n",
        "\n",
        "# Imprimir dtc_report\n",
        "print(\"dtc_report:\")\n",
        "print(dtc_report)\n",
        "print(\"\\n\\n\")\n",
        "\n",
        "# Imprimir knc_report\n",
        "print(\"knc_report:\")\n",
        "print(knc_report)\n",
        "print(\"\\n\\n\")\n",
        "\n",
        "# Imprimir lgb_report\n",
        "print(\"lgb_report:\")\n",
        "print(lgb_report)\n",
        "print(\"\\n\\n\")\n",
        "\n",
        "# Imprimir lr_report\n",
        "print(\"lr_report:\")\n",
        "print(lr_report)\n",
        "print(\"\\n\\n\")\n",
        "\n",
        "# Imprimir rfc_report\n",
        "print(\"rfc_report:\")\n",
        "print(rfc_report)\n",
        "print(\"\\n\\n\")\n",
        "\n",
        "# Imprimir svc_report\n",
        "print(\"svc_report:\")\n",
        "print(svc_report)\n",
        "print(\"\\n\\n\")\n",
        "\n",
        "# Imprimir xgb_report\n",
        "print(\"xgb_report:\")\n",
        "print(xgb_report)\n",
        "print(\"\\n\\n\")\n"
      ],
      "metadata": {
        "colab": {
          "base_uri": "https://localhost:8080/"
        },
        "id": "SD84UAL082ZQ",
        "outputId": "321a1f8b-b94a-4694-949f-d2e9f26b246b"
      },
      "execution_count": 24,
      "outputs": [
        {
          "output_type": "stream",
          "name": "stdout",
          "text": [
            "dummy_report:\n",
            "              precision    recall  f1-score   support\n",
            "\n",
            "           0       0.72      0.71      0.71      1785\n",
            "           1       0.29      0.30      0.29       715\n",
            "\n",
            "    accuracy                           0.59      2500\n",
            "   macro avg       0.50      0.50      0.50      2500\n",
            "weighted avg       0.59      0.59      0.59      2500\n",
            "\n",
            "\n",
            "\n",
            "\n",
            "dtc_report:\n",
            "              precision    recall  f1-score   support\n",
            "\n",
            "           0       0.78      0.77      0.77      1785\n",
            "           1       0.44      0.47      0.46       715\n",
            "\n",
            "    accuracy                           0.68      2500\n",
            "   macro avg       0.61      0.62      0.62      2500\n",
            "weighted avg       0.69      0.68      0.68      2500\n",
            "\n",
            "\n",
            "\n",
            "\n",
            "knc_report:\n",
            "              precision    recall  f1-score   support\n",
            "\n",
            "           0       0.79      0.87      0.83      1785\n",
            "           1       0.57      0.43      0.49       715\n",
            "\n",
            "    accuracy                           0.74      2500\n",
            "   macro avg       0.68      0.65      0.66      2500\n",
            "weighted avg       0.73      0.74      0.73      2500\n",
            "\n",
            "\n",
            "\n",
            "\n",
            "lgb_report:\n",
            "              precision    recall  f1-score   support\n",
            "\n",
            "           0       0.82      0.87      0.85      1785\n",
            "           1       0.62      0.53      0.57       715\n",
            "\n",
            "    accuracy                           0.77      2500\n",
            "   macro avg       0.72      0.70      0.71      2500\n",
            "weighted avg       0.76      0.77      0.77      2500\n",
            "\n",
            "\n",
            "\n",
            "\n",
            "lr_report:\n",
            "              precision    recall  f1-score   support\n",
            "\n",
            "           0       0.79      0.88      0.83      1785\n",
            "           1       0.58      0.41      0.48       715\n",
            "\n",
            "    accuracy                           0.75      2500\n",
            "   macro avg       0.68      0.64      0.66      2500\n",
            "weighted avg       0.73      0.75      0.73      2500\n",
            "\n",
            "\n",
            "\n",
            "\n",
            "rfc_report:\n",
            "              precision    recall  f1-score   support\n",
            "\n",
            "           0       0.82      0.87      0.84      1785\n",
            "           1       0.61      0.53      0.57       715\n",
            "\n",
            "    accuracy                           0.77      2500\n",
            "   macro avg       0.72      0.70      0.70      2500\n",
            "weighted avg       0.76      0.77      0.76      2500\n",
            "\n",
            "\n",
            "\n",
            "\n",
            "svc_report:\n",
            "              precision    recall  f1-score   support\n",
            "\n",
            "           0       0.72      1.00      0.83      1785\n",
            "           1       0.50      0.01      0.02       715\n",
            "\n",
            "    accuracy                           0.71      2500\n",
            "   macro avg       0.61      0.50      0.42      2500\n",
            "weighted avg       0.65      0.71      0.60      2500\n",
            "\n",
            "\n",
            "\n",
            "\n",
            "xgb_report:\n",
            "              precision    recall  f1-score   support\n",
            "\n",
            "           0       0.82      0.88      0.85      1785\n",
            "           1       0.63      0.52      0.57       715\n",
            "\n",
            "    accuracy                           0.77      2500\n",
            "   macro avg       0.72      0.70      0.71      2500\n",
            "weighted avg       0.77      0.77      0.77      2500\n",
            "\n",
            "\n",
            "\n",
            "\n"
          ]
        }
      ]
    },
    {
      "cell_type": "markdown",
      "source": [
        "# Optimización del Modelo"
      ],
      "metadata": {
        "id": "i2XJaAjn-sIs"
      }
    },
    {
      "cell_type": "markdown",
      "source": [
        "Los seleccionados son lgb y el random forest classifier"
      ],
      "metadata": {
        "id": "wLgd-HegAXOl"
      }
    },
    {
      "cell_type": "code",
      "source": [
        "from sklearn.experimental import enable_halving_search_cv  # noqa\n",
        "from sklearn.model_selection import HalvingGridSearchCV\n",
        "from sklearn.model_selection import GridSearchCV\n",
        "from sklearn.metrics import confusion_matrix"
      ],
      "metadata": {
        "id": "5o1wgjjYBQAI"
      },
      "execution_count": 25,
      "outputs": []
    },
    {
      "cell_type": "code",
      "source": [
        "from sklearn.metrics import f1_score\n",
        "\n",
        "\n",
        "def train_and_evaluate(\n",
        "    pipe, print_=True, X_train=X_train, y_train=y_train, X_test=X_test, y_test=y_test\n",
        "):\n",
        "\n",
        "    # notar que los datasets son parámetros por defecto.\n",
        "\n",
        "    pipe.fit(X_train, y_train)\n",
        "    y_pred = pipe.predict(X_test)\n",
        "\n",
        "    if print_:\n",
        "        print(\"Matriz de confusión: \\n\")\n",
        "        print(confusion_matrix(y_test, y_pred, labels=pipe.classes_))\n",
        "        print(\"\\nReporte de Clasificación: \\n\")\n",
        "        print(\n",
        "            classification_report(y_test, y_pred),\n",
        "        )\n",
        "\n",
        "    return f1_score(y_test, y_pred, average=\"macro\")"
      ],
      "metadata": {
        "id": "Th_S7KbuCuc9"
      },
      "execution_count": 26,
      "outputs": []
    },
    {
      "cell_type": "code",
      "source": [
        "param_grid = [\n",
        "    {\n",
        "    'imputer__strategy': ['mean', 'median', 'most_frequent', 'constant'],\n",
        "    'model__max_depth': list(range(10, 15)),\n",
        "    'model__max_features': list(range(1,15))\n",
        "    }]\n",
        "hgs_rfc = HalvingGridSearchCV(selection_pipeline_RFC, param_grid, n_jobs=-1, scoring='f1_macro', verbose=10)"
      ],
      "metadata": {
        "id": "tqlA02b4-v0B"
      },
      "execution_count": 27,
      "outputs": []
    },
    {
      "cell_type": "code",
      "source": [
        "train_and_evaluate(hgs_rfc)"
      ],
      "metadata": {
        "id": "tVgQCN0eB9r3",
        "colab": {
          "base_uri": "https://localhost:8080/"
        },
        "outputId": "666afbab-6f74-4d9b-c38f-1be5753da692"
      },
      "execution_count": 28,
      "outputs": [
        {
          "output_type": "stream",
          "name": "stdout",
          "text": [
            "n_iterations: 5\n",
            "n_required_iterations: 6\n",
            "n_possible_iterations: 5\n",
            "min_resources_: 41\n",
            "max_resources_: 10000\n",
            "aggressive_elimination: False\n",
            "factor: 3\n",
            "----------\n",
            "iter: 0\n",
            "n_candidates: 280\n",
            "n_resources: 41\n",
            "Fitting 5 folds for each of 280 candidates, totalling 1400 fits\n",
            "----------\n",
            "iter: 1\n",
            "n_candidates: 94\n",
            "n_resources: 123\n",
            "Fitting 5 folds for each of 94 candidates, totalling 470 fits\n",
            "----------\n",
            "iter: 2\n",
            "n_candidates: 32\n",
            "n_resources: 369\n",
            "Fitting 5 folds for each of 32 candidates, totalling 160 fits\n",
            "----------\n",
            "iter: 3\n",
            "n_candidates: 11\n",
            "n_resources: 1107\n",
            "Fitting 5 folds for each of 11 candidates, totalling 55 fits\n",
            "----------\n",
            "iter: 4\n",
            "n_candidates: 4\n",
            "n_resources: 3321\n",
            "Fitting 5 folds for each of 4 candidates, totalling 20 fits\n",
            "Matriz de confusión: \n",
            "\n",
            "[[1550  235]\n",
            " [ 337  378]]\n",
            "\n",
            "Reporte de Clasificación: \n",
            "\n",
            "              precision    recall  f1-score   support\n",
            "\n",
            "           0       0.82      0.87      0.84      1785\n",
            "           1       0.62      0.53      0.57       715\n",
            "\n",
            "    accuracy                           0.77      2500\n",
            "   macro avg       0.72      0.70      0.71      2500\n",
            "weighted avg       0.76      0.77      0.77      2500\n",
            "\n"
          ]
        },
        {
          "output_type": "execute_result",
          "data": {
            "text/plain": [
              "0.706751843977216"
            ]
          },
          "metadata": {},
          "execution_count": 28
        }
      ]
    },
    {
      "cell_type": "code",
      "source": [
        "hgs_rfc.best_params_"
      ],
      "metadata": {
        "id": "IETgC8okDEML",
        "colab": {
          "base_uri": "https://localhost:8080/"
        },
        "outputId": "1a08647b-1d36-4e82-f1c9-32d14d6f9f17"
      },
      "execution_count": 29,
      "outputs": [
        {
          "output_type": "execute_result",
          "data": {
            "text/plain": [
              "{'imputer__strategy': 'most_frequent',\n",
              " 'model__max_depth': 13,\n",
              " 'model__max_features': 14}"
            ]
          },
          "metadata": {},
          "execution_count": 29
        }
      ]
    },
    {
      "cell_type": "code",
      "source": [
        "param_grid = [{\n",
        "    'imputer__strategy': ['mean', 'median', 'most_frequent', 'constant'],\n",
        "    'model__num_leaves': [31, 127],\n",
        "    'model__reg_alpha': [0.1, 0.5],\n",
        "    'model__min_data_in_leaf': [30, 50, 100, 300, 400],\n",
        "    }]\n",
        "\n",
        "hgs_lgb = HalvingGridSearchCV(selection_pipeline_LGB, param_grid, n_jobs=-1, scoring='f1_macro', verbose=10)"
      ],
      "metadata": {
        "id": "dRHyYT09Bu3G"
      },
      "execution_count": 30,
      "outputs": []
    },
    {
      "cell_type": "code",
      "source": [
        "train_and_evaluate(hgs_lgb)"
      ],
      "metadata": {
        "id": "XCzmEYykC81h",
        "colab": {
          "base_uri": "https://localhost:8080/"
        },
        "outputId": "443c75f7-d489-44c2-8fb9-df5763efd20f"
      },
      "execution_count": 31,
      "outputs": [
        {
          "output_type": "stream",
          "name": "stdout",
          "text": [
            "n_iterations: 4\n",
            "n_required_iterations: 4\n",
            "n_possible_iterations: 4\n",
            "min_resources_: 370\n",
            "max_resources_: 10000\n",
            "aggressive_elimination: False\n",
            "factor: 3\n",
            "----------\n",
            "iter: 0\n",
            "n_candidates: 80\n",
            "n_resources: 370\n",
            "Fitting 5 folds for each of 80 candidates, totalling 400 fits\n",
            "----------\n",
            "iter: 1\n",
            "n_candidates: 27\n",
            "n_resources: 1110\n",
            "Fitting 5 folds for each of 27 candidates, totalling 135 fits\n",
            "----------\n",
            "iter: 2\n",
            "n_candidates: 9\n",
            "n_resources: 3330\n",
            "Fitting 5 folds for each of 9 candidates, totalling 45 fits\n",
            "----------\n",
            "iter: 3\n",
            "n_candidates: 3\n",
            "n_resources: 9990\n",
            "Fitting 5 folds for each of 3 candidates, totalling 15 fits\n",
            "[LightGBM] [Warning] min_data_in_leaf is set=30, min_child_samples=20 will be ignored. Current value: min_data_in_leaf=30\n",
            "Matriz de confusión: \n",
            "\n",
            "[[1548  237]\n",
            " [ 336  379]]\n",
            "\n",
            "Reporte de Clasificación: \n",
            "\n",
            "              precision    recall  f1-score   support\n",
            "\n",
            "           0       0.82      0.87      0.84      1785\n",
            "           1       0.62      0.53      0.57       715\n",
            "\n",
            "    accuracy                           0.77      2500\n",
            "   macro avg       0.72      0.70      0.71      2500\n",
            "weighted avg       0.76      0.77      0.77      2500\n",
            "\n"
          ]
        },
        {
          "output_type": "execute_result",
          "data": {
            "text/plain": [
              "0.7066616374239547"
            ]
          },
          "metadata": {},
          "execution_count": 31
        }
      ]
    },
    {
      "cell_type": "code",
      "source": [
        "hgs_lgb.best_params_"
      ],
      "metadata": {
        "colab": {
          "base_uri": "https://localhost:8080/"
        },
        "id": "a8giRJPbx7AC",
        "outputId": "746935f5-1cb3-430a-ded5-4ed995bed3ec"
      },
      "execution_count": 32,
      "outputs": [
        {
          "output_type": "execute_result",
          "data": {
            "text/plain": [
              "{'imputer__strategy': 'median',\n",
              " 'model__min_data_in_leaf': 30,\n",
              " 'model__num_leaves': 31,\n",
              " 'model__reg_alpha': 0.5}"
            ]
          },
          "metadata": {},
          "execution_count": 32
        }
      ]
    },
    {
      "cell_type": "markdown",
      "source": [
        "Dados los resultados, el mejor modelo enconmtrado fue uno basado Random Forest, luego del preprocesamiento, incluyendo un imputer constante."
      ],
      "metadata": {
        "id": "atVXAAaUIUvq"
      }
    },
    {
      "cell_type": "code",
      "source": [
        "model_RFC= Pipeline(\n",
        "    steps=[\n",
        "        (\"preprocessing\", preprocessor),\n",
        "        (\"imputer\", SimpleImputer(strategy=\"constant\")),\n",
        "        (\"model\", RandomForestClassifier(max_depth=10, max_features=5))\n",
        "    ]\n",
        ")"
      ],
      "metadata": {
        "id": "j6qz71ksIqLW"
      },
      "execution_count": 33,
      "outputs": []
    },
    {
      "cell_type": "code",
      "source": [
        "#rfc\n",
        "model_RFC.fit(X_train, y_train)\n",
        "y_pred = model_RFC.predict(X_test)"
      ],
      "metadata": {
        "id": "PsEOdUKPI7g0"
      },
      "execution_count": 34,
      "outputs": []
    },
    {
      "cell_type": "code",
      "source": [
        "report = classification_report(y_test, y_pred)\n",
        "print(report)"
      ],
      "metadata": {
        "colab": {
          "base_uri": "https://localhost:8080/"
        },
        "id": "3wxRxRjLJIkE",
        "outputId": "3e670bcc-5cb5-4c9f-9e88-7a70694592be"
      },
      "execution_count": 35,
      "outputs": [
        {
          "output_type": "stream",
          "name": "stdout",
          "text": [
            "              precision    recall  f1-score   support\n",
            "\n",
            "           0       0.83      0.86      0.84      1785\n",
            "           1       0.61      0.56      0.58       715\n",
            "\n",
            "    accuracy                           0.77      2500\n",
            "   macro avg       0.72      0.71      0.71      2500\n",
            "weighted avg       0.77      0.77      0.77      2500\n",
            "\n"
          ]
        }
      ]
    },
    {
      "cell_type": "markdown",
      "source": [
        "# Interpretabilidad:"
      ],
      "metadata": {
        "id": "Gpif-khLzgbi"
      }
    },
    {
      "cell_type": "markdown",
      "source": [
        "Elo método propuesto es el más adecuado dado los resultados obtenidos. En cuanto a lo que se busca es la clasificación de los usuarios en dos clases. Dadas las variables que fueron entregadas, se pueden apreciar en el siguiente gráfico su importancia para la toma de decisiones dentro del modelo."
      ],
      "metadata": {
        "id": "2vbKJRVMNsk4"
      }
    },
    {
      "cell_type": "code",
      "source": [
        "import matplotlib.pyplot as plt\n",
        "\n",
        "estimador_rf = model_RFC.named_steps['model']\n",
        "importancia_caracteristicas = estimador_rf.feature_importances_\n",
        "nombres_caracteristicas = model_RFC.named_steps['preprocessing'].get_feature_names_out()\n",
        "df_importancia = pd.DataFrame({'Caracteristica': nombres_caracteristicas, 'Importancia': importancia_caracteristicas})\n",
        "df_importancia = df_importancia.sort_values(by='Importancia', ascending=False)\n",
        "plt.figure(figsize=(12, 8))\n",
        "\n",
        "\n",
        "plt.bar(df_importancia['Caracteristica'], df_importancia['Importancia'])\n",
        "plt.xticks(rotation=90, fontsize=10)\n",
        "plt.yticks()\n",
        "plt.xlabel('Caracteristica')\n",
        "plt.ylabel('Importancia')\n",
        "plt.title('Importancia de las Caracteristicas en el Modelo', fontsize=14)\n",
        "plt.tight_layout()\n",
        "plt.show()"
      ],
      "metadata": {
        "colab": {
          "base_uri": "https://localhost:8080/",
          "height": 807
        },
        "id": "8135M6f-7Ik-",
        "outputId": "0725a42a-8bbb-43c5-f99f-63ece5969b4b"
      },
      "execution_count": 68,
      "outputs": [
        {
          "output_type": "display_data",
          "data": {
            "text/plain": [
              "<Figure size 1200x800 with 1 Axes>"
            ],
            "image/png": "[encoded data removed]"
          },
          "metadata": {}
        }
      ]
    },
    {
      "cell_type": "markdown",
      "source": [
        "Tal como se puede apreciar, las carácterísticas demográficas de la persona no poseen un gran peso en la predicción, como lo pueden ser su edad u ocupación. Esto evita grandes sesgos en la predicción, sin embargo, no dista de ellos del todo. A pesar de esto, variables como el la deuda pendiente, la tasa de interés, las peticiones crediticias, la cantidad de hipotecas y el retraso desde la última deuda si son relevantes para la predicción en el modelo, así como otras variables que se pueden observar con detenimiento, en caso de requerirse. Esto cobra sentido lógico, pues son parámetros que, dados ciertos criterios, se puede asociar directamente al historial crediticio de una persona. El mal uso o la mala presentación en estos valores debería tener un gran peso, tal como está ocurriendo.\n",
        "\n",
        "Por otra parte, variables como lo pueden ser las categóricas no poseen un gran peso en el estudio por lo que son del todo dispensables, evitar el uso de estas podría ser una opción, así se aseguran el evadir sesgos posibles en base a elementos arbitrarios como lo puede ser que una persona posera un título universitario en alguna de las carreras que se listan o no.\n",
        "\n",
        "\n",
        "\n"
      ],
      "metadata": {
        "id": "jEMznYBUOWtQ"
      }
    },
    {
      "cell_type": "code",
      "source": [
        "import random\n",
        "\n",
        "\n",
        "random.seed(3)\n",
        "indices = random.sample(range(len(X_test)), 10)\n",
        "random_samples = X_test.iloc[indices]\n",
        "\n",
        "\n",
        "random_predictions = model_RFC.predict(random_samples)\n",
        "random_probabilities = model_RFC.predict_proba(random_samples)\n",
        "\n",
        "print(random_predictions, '\\n',random_probabilities)"
      ],
      "metadata": {
        "colab": {
          "base_uri": "https://localhost:8080/"
        },
        "id": "NMXS8wWCygsi",
        "outputId": "a0e7b8c3-a362-4e8d-c832-a8823868a89f"
      },
      "execution_count": 69,
      "outputs": [
        {
          "output_type": "stream",
          "name": "stdout",
          "text": [
            "[1 0 0 0 0 0 1 0 0 0] \n",
            " [[0.28908761 0.71091239]\n",
            " [0.54259275 0.45740725]\n",
            " [0.85294379 0.14705621]\n",
            " [0.88802492 0.11197508]\n",
            " [0.87619226 0.12380774]\n",
            " [0.85371234 0.14628766]\n",
            " [0.32719202 0.67280798]\n",
            " [0.87995243 0.12004757]\n",
            " [0.83098031 0.16901969]\n",
            " [0.83823665 0.16176335]]\n"
          ]
        }
      ]
    },
    {
      "cell_type": "code",
      "source": [
        "import numpy as np\n",
        "import plotly.express as px\n",
        "\n",
        "# Supongamos que tienes la matriz como un array de numpy\n",
        "\n",
        "df_prob = pd.DataFrame(random_probabilities, columns=['negativa', 'positiva'])\n",
        "df_prob['persona'] = ['Persona ' + str(i) for i in range(1, 11)]\n",
        "\n",
        "fig = px.bar(df_prob, x=\"persona\", y=[\"negativa\", \"positiva\"], title=\"Probabilidades ante el muestro aleatorio de 10 personas\")\n",
        "fig.show()\n",
        "\n"
      ],
      "metadata": {
        "colab": {
          "base_uri": "https://localhost:8080/",
          "height": 542
        },
        "id": "eDcDbguJ3P5d",
        "outputId": "2db7c407-c206-4072-a2de-9ec26df7959b"
      },
      "execution_count": 64,
      "outputs": [
        {
          "output_type": "display_data",
          "data": {
            "text/html": [
              "<html>\n",
              "<head><meta charset=\"utf-8\" /></head>\n",
              "<body>\n",
              "    <div>            <script src=\"https://cdnjs.cloudflare.com/ajax/libs/mathjax/2.7.5/MathJax.js?config=TeX-AMS-MML_SVG\"></script><script type=\"text/javascript\">if (window.MathJax && window.MathJax.Hub && window.MathJax.Hub.Config) {window.MathJax.Hub.Config({SVG: {font: \"STIX-Web\"}});}</script>                <script type=\"text/javascript\">window.PlotlyConfig = {MathJaxConfig: 'local'};</script>\n",
              "        <script src=\"https://cdn.plot.ly/plotly-2.18.2.min.js\"></script>                <div id=\"6a69937f-46b5-44cf-b163-cd2e81b02a58\" class=\"plotly-graph-div\" style=\"height:525px; width:100%;\"></div>            <script type=\"text/javascript\">                                    window.PLOTLYENV=window.PLOTLYENV || {};                                    if (document.getElementById(\"6a69937f-46b5-44cf-b163-cd2e81b02a58\")) {                    Plotly.newPlot(                        \"6a69937f-46b5-44cf-b163-cd2e81b02a58\",                        [{\"alignmentgroup\":\"True\",\"hovertemplate\":\"variable=negativa<br>persona=%{x}<br>value=%{y}<extra></extra>\",\"legendgroup\":\"negativa\",\"marker\":{\"color\":\"#636efa\",\"pattern\":{\"shape\":\"\"}},\"name\":\"negativa\",\"offsetgroup\":\"negativa\",\"orientation\":\"v\",\"showlegend\":true,\"textposition\":\"auto\",\"x\":[\"Persona 1\",\"Persona 2\",\"Persona 3\",\"Persona 4\",\"Persona 5\",\"Persona 6\",\"Persona 7\",\"Persona 8\",\"Persona 9\",\"Persona 10\"],\"xaxis\":\"x\",\"y\":[0.28908760513469095,0.5425927495772993,0.8529437885711101,0.888024921636652,0.8761922640389453,0.853712335104064,0.32719202309786666,0.8799524307612195,0.8309803077482886,0.8382366450421556],\"yaxis\":\"y\",\"type\":\"bar\"},{\"alignmentgroup\":\"True\",\"hovertemplate\":\"variable=positiva<br>persona=%{x}<br>value=%{y}<extra></extra>\",\"legendgroup\":\"positiva\",\"marker\":{\"color\":\"#EF553B\",\"pattern\":{\"shape\":\"\"}},\"name\":\"positiva\",\"offsetgroup\":\"positiva\",\"orientation\":\"v\",\"showlegend\":true,\"textposition\":\"auto\",\"x\":[\"Persona 1\",\"Persona 2\",\"Persona 3\",\"Persona 4\",\"Persona 5\",\"Persona 6\",\"Persona 7\",\"Persona 8\",\"Persona 9\",\"Persona 10\"],\"xaxis\":\"x\",\"y\":[0.7109123948653088,0.4574072504227005,0.14705621142888917,0.1119750783633476,0.12380773596105442,0.14628766489593553,0.6728079769021332,0.12004756923878017,0.1690196922517112,0.16176335495784402],\"yaxis\":\"y\",\"type\":\"bar\"}],                        {\"template\":{\"data\":{\"histogram2dcontour\":[{\"type\":\"histogram2dcontour\",\"colorbar\":{\"outlinewidth\":0,\"ticks\":\"\"},\"colorscale\":[[0.0,\"#0d0887\"],[0.1111111111111111,\"#46039f\"],[0.2222222222222222,\"#7201a8\"],[0.3333333333333333,\"#9c179e\"],[0.4444444444444444,\"#bd3786\"],[0.5555555555555556,\"#d8576b\"],[0.6666666666666666,\"#ed7953\"],[0.7777777777777778,\"#fb9f3a\"],[0.8888888888888888,\"#fdca26\"],[1.0,\"#f0f921\"]]}],\"choropleth\":[{\"type\":\"choropleth\",\"colorbar\":{\"outlinewidth\":0,\"ticks\":\"\"}}],\"histogram2d\":[{\"type\":\"histogram2d\",\"colorbar\":{\"outlinewidth\":0,\"ticks\":\"\"},\"colorscale\":[[0.0,\"#0d0887\"],[0.1111111111111111,\"#46039f\"],[0.2222222222222222,\"#7201a8\"],[0.3333333333333333,\"#9c179e\"],[0.4444444444444444,\"#bd3786\"],[0.5555555555555556,\"#d8576b\"],[0.6666666666666666,\"#ed7953\"],[0.7777777777777778,\"#fb9f3a\"],[0.8888888888888888,\"#fdca26\"],[1.0,\"#f0f921\"]]}],\"heatmap\":[{\"type\":\"heatmap\",\"colorbar\":{\"outlinewidth\":0,\"ticks\":\"\"},\"colorscale\":[[0.0,\"#0d0887\"],[0.1111111111111111,\"#46039f\"],[0.2222222222222222,\"#7201a8\"],[0.3333333333333333,\"#9c179e\"],[0.4444444444444444,\"#bd3786\"],[0.5555555555555556,\"#d8576b\"],[0.6666666666666666,\"#ed7953\"],[0.7777777777777778,\"#fb9f3a\"],[0.8888888888888888,\"#fdca26\"],[1.0,\"#f0f921\"]]}],\"heatmapgl\":[{\"type\":\"heatmapgl\",\"colorbar\":{\"outlinewidth\":0,\"ticks\":\"\"},\"colorscale\":[[0.0,\"#0d0887\"],[0.1111111111111111,\"#46039f\"],[0.2222222222222222,\"#7201a8\"],[0.3333333333333333,\"#9c179e\"],[0.4444444444444444,\"#bd3786\"],[0.5555555555555556,\"#d8576b\"],[0.6666666666666666,\"#ed7953\"],[0.7777777777777778,\"#fb9f3a\"],[0.8888888888888888,\"#fdca26\"],[1.0,\"#f0f921\"]]}],\"contourcarpet\":[{\"type\":\"contourcarpet\",\"colorbar\":{\"outlinewidth\":0,\"ticks\":\"\"}}],\"contour\":[{\"type\":\"contour\",\"colorbar\":{\"outlinewidth\":0,\"ticks\":\"\"},\"colorscale\":[[0.0,\"#0d0887\"],[0.1111111111111111,\"#46039f\"],[0.2222222222222222,\"#7201a8\"],[0.3333333333333333,\"#9c179e\"],[0.4444444444444444,\"#bd3786\"],[0.5555555555555556,\"#d8576b\"],[0.6666666666666666,\"#ed7953\"],[0.7777777777777778,\"#fb9f3a\"],[0.8888888888888888,\"#fdca26\"],[1.0,\"#f0f921\"]]}],\"surface\":[{\"type\":\"surface\",\"colorbar\":{\"outlinewidth\":0,\"ticks\":\"\"},\"colorscale\":[[0.0,\"#0d0887\"],[0.1111111111111111,\"#46039f\"],[0.2222222222222222,\"#7201a8\"],[0.3333333333333333,\"#9c179e\"],[0.4444444444444444,\"#bd3786\"],[0.5555555555555556,\"#d8576b\"],[0.6666666666666666,\"#ed7953\"],[0.7777777777777778,\"#fb9f3a\"],[0.8888888888888888,\"#fdca26\"],[1.0,\"#f0f921\"]]}],\"mesh3d\":[{\"type\":\"mesh3d\",\"colorbar\":{\"outlinewidth\":0,\"ticks\":\"\"}}],\"scatter\":[{\"fillpattern\":{\"fillmode\":\"overlay\",\"size\":10,\"solidity\":0.2},\"type\":\"scatter\"}],\"parcoords\":[{\"type\":\"parcoords\",\"line\":{\"colorbar\":{\"outlinewidth\":0,\"ticks\":\"\"}}}],\"scatterpolargl\":[{\"type\":\"scatterpolargl\",\"marker\":{\"colorbar\":{\"outlinewidth\":0,\"ticks\":\"\"}}}],\"bar\":[{\"error_x\":{\"color\":\"#2a3f5f\"},\"error_y\":{\"color\":\"#2a3f5f\"},\"marker\":{\"line\":{\"color\":\"#E5ECF6\",\"width\":0.5},\"pattern\":{\"fillmode\":\"overlay\",\"size\":10,\"solidity\":0.2}},\"type\":\"bar\"}],\"scattergeo\":[{\"type\":\"scattergeo\",\"marker\":{\"colorbar\":{\"outlinewidth\":0,\"ticks\":\"\"}}}],\"scatterpolar\":[{\"type\":\"scatterpolar\",\"marker\":{\"colorbar\":{\"outlinewidth\":0,\"ticks\":\"\"}}}],\"histogram\":[{\"marker\":{\"pattern\":{\"fillmode\":\"overlay\",\"size\":10,\"solidity\":0.2}},\"type\":\"histogram\"}],\"scattergl\":[{\"type\":\"scattergl\",\"marker\":{\"colorbar\":{\"outlinewidth\":0,\"ticks\":\"\"}}}],\"scatter3d\":[{\"type\":\"scatter3d\",\"line\":{\"colorbar\":{\"outlinewidth\":0,\"ticks\":\"\"}},\"marker\":{\"colorbar\":{\"outlinewidth\":0,\"ticks\":\"\"}}}],\"scattermapbox\":[{\"type\":\"scattermapbox\",\"marker\":{\"colorbar\":{\"outlinewidth\":0,\"ticks\":\"\"}}}],\"scatterternary\":[{\"type\":\"scatterternary\",\"marker\":{\"colorbar\":{\"outlinewidth\":0,\"ticks\":\"\"}}}],\"scattercarpet\":[{\"type\":\"scattercarpet\",\"marker\":{\"colorbar\":{\"outlinewidth\":0,\"ticks\":\"\"}}}],\"carpet\":[{\"aaxis\":{\"endlinecolor\":\"#2a3f5f\",\"gridcolor\":\"white\",\"linecolor\":\"white\",\"minorgridcolor\":\"white\",\"startlinecolor\":\"#2a3f5f\"},\"baxis\":{\"endlinecolor\":\"#2a3f5f\",\"gridcolor\":\"white\",\"linecolor\":\"white\",\"minorgridcolor\":\"white\",\"startlinecolor\":\"#2a3f5f\"},\"type\":\"carpet\"}],\"table\":[{\"cells\":{\"fill\":{\"color\":\"#EBF0F8\"},\"line\":{\"color\":\"white\"}},\"header\":{\"fill\":{\"color\":\"#C8D4E3\"},\"line\":{\"color\":\"white\"}},\"type\":\"table\"}],\"barpolar\":[{\"marker\":{\"line\":{\"color\":\"#E5ECF6\",\"width\":0.5},\"pattern\":{\"fillmode\":\"overlay\",\"size\":10,\"solidity\":0.2}},\"type\":\"barpolar\"}],\"pie\":[{\"automargin\":true,\"type\":\"pie\"}]},\"layout\":{\"autotypenumbers\":\"strict\",\"colorway\":[\"#636efa\",\"#EF553B\",\"#00cc96\",\"#ab63fa\",\"#FFA15A\",\"#19d3f3\",\"#FF6692\",\"#B6E880\",\"#FF97FF\",\"#FECB52\"],\"font\":{\"color\":\"#2a3f5f\"},\"hovermode\":\"closest\",\"hoverlabel\":{\"align\":\"left\"},\"paper_bgcolor\":\"white\",\"plot_bgcolor\":\"#E5ECF6\",\"polar\":{\"bgcolor\":\"#E5ECF6\",\"angularaxis\":{\"gridcolor\":\"white\",\"linecolor\":\"white\",\"ticks\":\"\"},\"radialaxis\":{\"gridcolor\":\"white\",\"linecolor\":\"white\",\"ticks\":\"\"}},\"ternary\":{\"bgcolor\":\"#E5ECF6\",\"aaxis\":{\"gridcolor\":\"white\",\"linecolor\":\"white\",\"ticks\":\"\"},\"baxis\":{\"gridcolor\":\"white\",\"linecolor\":\"white\",\"ticks\":\"\"},\"caxis\":{\"gridcolor\":\"white\",\"linecolor\":\"white\",\"ticks\":\"\"}},\"coloraxis\":{\"colorbar\":{\"outlinewidth\":0,\"ticks\":\"\"}},\"colorscale\":{\"sequential\":[[0.0,\"#0d0887\"],[0.1111111111111111,\"#46039f\"],[0.2222222222222222,\"#7201a8\"],[0.3333333333333333,\"#9c179e\"],[0.4444444444444444,\"#bd3786\"],[0.5555555555555556,\"#d8576b\"],[0.6666666666666666,\"#ed7953\"],[0.7777777777777778,\"#fb9f3a\"],[0.8888888888888888,\"#fdca26\"],[1.0,\"#f0f921\"]],\"sequentialminus\":[[0.0,\"#0d0887\"],[0.1111111111111111,\"#46039f\"],[0.2222222222222222,\"#7201a8\"],[0.3333333333333333,\"#9c179e\"],[0.4444444444444444,\"#bd3786\"],[0.5555555555555556,\"#d8576b\"],[0.6666666666666666,\"#ed7953\"],[0.7777777777777778,\"#fb9f3a\"],[0.8888888888888888,\"#fdca26\"],[1.0,\"#f0f921\"]],\"diverging\":[[0,\"#8e0152\"],[0.1,\"#c51b7d\"],[0.2,\"#de77ae\"],[0.3,\"#f1b6da\"],[0.4,\"#fde0ef\"],[0.5,\"#f7f7f7\"],[0.6,\"#e6f5d0\"],[0.7,\"#b8e186\"],[0.8,\"#7fbc41\"],[0.9,\"#4d9221\"],[1,\"#276419\"]]},\"xaxis\":{\"gridcolor\":\"white\",\"linecolor\":\"white\",\"ticks\":\"\",\"title\":{\"standoff\":15},\"zerolinecolor\":\"white\",\"automargin\":true,\"zerolinewidth\":2},\"yaxis\":{\"gridcolor\":\"white\",\"linecolor\":\"white\",\"ticks\":\"\",\"title\":{\"standoff\":15},\"zerolinecolor\":\"white\",\"automargin\":true,\"zerolinewidth\":2},\"scene\":{\"xaxis\":{\"backgroundcolor\":\"#E5ECF6\",\"gridcolor\":\"white\",\"linecolor\":\"white\",\"showbackground\":true,\"ticks\":\"\",\"zerolinecolor\":\"white\",\"gridwidth\":2},\"yaxis\":{\"backgroundcolor\":\"#E5ECF6\",\"gridcolor\":\"white\",\"linecolor\":\"white\",\"showbackground\":true,\"ticks\":\"\",\"zerolinecolor\":\"white\",\"gridwidth\":2},\"zaxis\":{\"backgroundcolor\":\"#E5ECF6\",\"gridcolor\":\"white\",\"linecolor\":\"white\",\"showbackground\":true,\"ticks\":\"\",\"zerolinecolor\":\"white\",\"gridwidth\":2}},\"shapedefaults\":{\"line\":{\"color\":\"#2a3f5f\"}},\"annotationdefaults\":{\"arrowcolor\":\"#2a3f5f\",\"arrowhead\":0,\"arrowwidth\":1},\"geo\":{\"bgcolor\":\"white\",\"landcolor\":\"#E5ECF6\",\"subunitcolor\":\"white\",\"showland\":true,\"showlakes\":true,\"lakecolor\":\"white\"},\"title\":{\"x\":0.05},\"mapbox\":{\"style\":\"light\"}}},\"xaxis\":{\"anchor\":\"y\",\"domain\":[0.0,1.0],\"title\":{\"text\":\"persona\"}},\"yaxis\":{\"anchor\":\"x\",\"domain\":[0.0,1.0],\"title\":{\"text\":\"value\"}},\"legend\":{\"title\":{\"text\":\"variable\"},\"tracegroupgap\":0},\"title\":{\"text\":\"Probabilidades ante el muestro aleatorio de 10 personas\"},\"barmode\":\"relative\"},                        {\"responsive\": true}                    ).then(function(){\n",
              "                            \n",
              "var gd = document.getElementById('6a69937f-46b5-44cf-b163-cd2e81b02a58');\n",
              "var x = new MutationObserver(function (mutations, observer) {{\n",
              "        var display = window.getComputedStyle(gd).display;\n",
              "        if (!display || display === 'none') {{\n",
              "            console.log([gd, 'removed!']);\n",
              "            Plotly.purge(gd);\n",
              "            observer.disconnect();\n",
              "        }}\n",
              "}});\n",
              "\n",
              "// Listen for the removal of the full notebook cells\n",
              "var notebookContainer = gd.closest('#notebook-container');\n",
              "if (notebookContainer) {{\n",
              "    x.observe(notebookContainer, {childList: true});\n",
              "}}\n",
              "\n",
              "// Listen for the clearing of the current output cell\n",
              "var outputEl = gd.closest('.output');\n",
              "if (outputEl) {{\n",
              "    x.observe(outputEl, {childList: true});\n",
              "}}\n",
              "\n",
              "                        })                };                            </script>        </div>\n",
              "</body>\n",
              "</html>"
            ]
          },
          "metadata": {}
        }
      ]
    },
    {
      "cell_type": "markdown",
      "source": [
        "Al tomar 10 elementos aleatorios del dataset y pasarlos podemos observar sus clases predichas. Para obtener más detalles podemos ver qué tal probable es que cada usuario sea dado como positivo o negativo en la predicción. Si bien es solo un muestreo pequeño, se puede observar la tendencia mencionada (que se sustenta en las métricas entregadas) de poder asegurar con mayor firmeza cuando un usuario es negativo a cuando un usuario es positivo, incluyendo en este ejemplo en particular a una persona a quien el modelo no identifica correctamente como positiva o negativa, pues posee valores cercanos al 0.5 en la probabilidad de que sea cualquiera de las dos clases.\n",
        "\n"
      ],
      "metadata": {
        "id": "UyDUdDHd27wC"
      }
    },
    {
      "cell_type": "markdown",
      "source": [
        "En resumen, el modelo no presenta grandes impactos en cuanto a sesgo y, si bien puede predecir en su mayoría los casos que se pretenden estudiar, no sería del todo de ayuda en casos en los que el modelo no posee una gran certeza del posible resultado con la persona en cuestión, por lo que se recomienda ver tanto la clase, como la probabilidad asignada en cada caso."
      ],
      "metadata": {
        "id": "SFmH7xvd9WAt"
      }
    },
    {
      "cell_type": "markdown",
      "source": [
        "# Conclusiones\n",
        "\n",
        "Dado el problema expuesto, se fue capaz de resolver el mismo, sin embargo sin la obtención de una métrica que se podría encasillar como 'buena'. El modelo obtenido es simple, interpretable y dista de sesgo, por lo que efectivamente podría ser aplicable, sin embargo un buen método de aplicación sería el tener en la mira a quienes aparecen como positivos y despreocuparse de los negativos del todo. Así reducirían el riesgo y el tiempo de acción, pues los estudios se reducirían a solo interpretar y enfocar a quienes pudieran efectivamente parecer positivos según el modelo.\n",
        "\n",
        "Entender el EDA fue relevante en el contexto de que, si no se entienen los datos con los que se está trabajando, no hay resultados que sean interpretables o significativos, pues si los datos hubieran sido basura o no lo suficientemente representativos, el modelo sería solo un endulzador de algo que de por si no funciona.\n",
        "\n",
        "El rendimiento del baseline fue lo suficientemente bueno como para quedarnos con un par de modelos que funcionaran en temas de clasificación y que tuvieran unas buenas métricas. A pesar de esto, la optimización de los parámetros de estos modelos no fueron del todo significativos, sin embargo si mejoraron levemente los resultados obtenidos, sobre todo el aplicar esto sobre el imputador.\n",
        "\n",
        "Finalmente podemos llegar a la conclusión de que el modelo no es del todo funcional. Predice bien a la clase dominante, pero no del todo a la clase positiva, que poseía menos datos. Quizás existan mejores maneras de modelar el problema, incluyendo un balance de clases con oversampleo o subsampleo, se tendría que porbar esto, sin embargo el que el Random Forest haya sido el modelo y el hecho de que las variables categórocas pudieran introducir un sesgo y/o no sirvieran para mucho podrían hacer que, dada una seguna u óptima aplicación de un modelo para el caso, se disten de ellas.\n",
        "\n",
        "Finalmente mencionar que el proyecto nos coloca en un contexto bastante real pero simplificado. La aplicación de estos pasos (y más, incluyendo elementos que hayamos omitido) son lo que se bería manejar en todo sentido al momento de afrontar a la industria, esto como un mínimo.\n"
      ],
      "metadata": {
        "id": "55-_hlvIzmJ4"
      }
    },
    {
      "cell_type": "markdown",
      "source": [
        "<a style='text-decoration:none;line-height:16px;display:flex;color:#5B5B62;padding:10px;justify-content:end;' href='https://deepnote.com?utm_source=created-in-deepnote-cell&projectId=87110296-876e-426f-b91d-aaf681223468' target=\"_blank\">\n",
        "<img alt='Created in deepnote.com' style='display:inline;max-height:16px;margin:0px;margin-right:7.5px;' src='data:image/svg+xml;base64,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' > </img>\n",
        "Created in <span style='font-weight:600;margin-left:4px;'>Deepnote</span></a>"
      ],
      "metadata": {
        "created_in_deepnote_cell": true,
        "deepnote_cell_type": "markdown",
        "id": "mehPcLaIdVS1"
      }
    }
  ],
  "nbformat": 4,
  "nbformat_minor": 0,
  "metadata": {
    "deepnote": {},
    "kernelspec": {
      "name": "python3",
      "language": "python",
      "display_name": "competencia"
    },
    "language_info": {
      "name": "python",
      "version": "3.9.16",
      "mimetype": "text/x-python",
      "file_extension": ".py",
      "pygments_lexer": "ipython3",
      "codemirror_mode": {
        "name": "ipython",
        "version": 3
      },
      "nbconvert_exporter": "python"
    },
    "orig_nbformat": 4,
    "deepnote_notebook_id": "4a4ad4306407402db0c258f95d5a9abe",
    "deepnote_execution_queue": [],
    "colab": {
      "provenance": [],
      "collapsed_sections": [
        "_DQ9V3t9fiW8",
        "3tzkGODBmZg1",
        "A1wVLTCquQZd"
      ]
    }
  }
}
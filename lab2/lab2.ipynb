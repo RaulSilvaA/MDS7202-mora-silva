{
  "cells": [
    {
      "cell_type": "markdown",
      "metadata": {
        "cell_id": "567e3e8f1ac2430483c12975f41b3306",
        "deepnote_cell_height": 104.390625,
        "deepnote_cell_type": "markdown",
        "id": "cd7b1b55"
      },
      "source": [
        "<h1><center>Laboratorio 2: Primeros pasos 👣</center></h1>\n",
        "\n",
        "<center><strong>MDS7202: Laboratorio de Programación Científica para Ciencia de Datos - Otoño 2023</strong></center>"
      ]
    },
    {
      "cell_type": "markdown",
      "metadata": {
        "cell_id": "4464ba8e552d41a19d445e7746b72ef6",
        "deepnote_cell_height": 165.1875,
        "deepnote_cell_type": "markdown",
        "id": "Vp_vOHK7V97e"
      },
      "source": [
        "### Cuerpo Docente:\n",
        "\n",
        "- Profesor: Pablo Badilla y Ignacio Meza \n",
        "- Auxiliar: Sebastián Tinoco\n",
        "- Ayudante: Felipe Arias y Diego Cortez"
      ]
    },
    {
      "cell_type": "markdown",
      "metadata": {
        "cell_id": "4979683740cb498ab200a981cfafc91c",
        "deepnote_cell_height": 171.796875,
        "deepnote_cell_type": "markdown",
        "id": "4N_5AYgyWKyA"
      },
      "source": [
        "### Equipo: SUPER IMPORTANTE - notebooks sin nombre no serán revisados\n",
        "\n",
        "- Nombre de alumno 1: Gabriela Mora\n",
        "- Nombre de alumno 2: Raúl Silva\n"
      ]
    },
    {
      "cell_type": "markdown",
      "metadata": {
        "cell_id": "1470f393cb414d2094db386ff745702c",
        "deepnote_cell_height": 62,
        "deepnote_cell_type": "markdown",
        "id": "1rjlaJDEWxd9"
      },
      "source": [
        "### **Link de repositorio de GitHub:** `github.com/RaulSilvaA/MDS7202-mora-silva`"
      ]
    },
    {
      "cell_type": "markdown",
      "metadata": {
        "cell_id": "e30789b4d0e545569e96fe8c91897281",
        "deepnote_cell_height": 271.796875,
        "deepnote_cell_type": "markdown",
        "id": "9el9ERaKWW3i"
      },
      "source": [
        "## Reglas:\n",
        "\n",
        "- Fecha de entrega: 6 días desde la publicación, 3 días de atraso con 1 punto de descuento c/u. Pueden utilizar días bonus sin descuento.\n",
        "- **Grupos de 2 personas**.\n",
        "- Asistencia obligatoria a instrucciones del lab (viernes 16.15). Luego, pueden quedarse trabajando en las salas o irse.\n",
        "- **Ausentes** deberán realizar la actividad solos. \n",
        "- Cualquier duda fuera del horario de clases al foro. Mensajes al equipo docente serán respondidos por este medio.\n",
        "- Prohibidas las copias. \n",
        "- Pueden usar cualquer material del curso que estimen conveniente."
      ]
    },
    {
      "cell_type": "markdown",
      "metadata": {
        "cell_id": "6cb6045130834122bfa5a6c323983a68",
        "deepnote_cell_height": 249.390625,
        "deepnote_cell_type": "markdown",
        "id": "4708b9b7"
      },
      "source": [
        "\n",
        "## Objetivos del lab:\n",
        "\n",
        "Poner en práctica los tópicos básicos del lenguaje de programación Python vistos en clases.\n",
        "\n",
        "- Variables, Operadores y Expresiones.\n",
        "- Estructuras de Control (if/else).\n",
        "- Iteraciones.\n",
        "- Listas y Diccionarios.\n",
        "- Funciones\n",
        "- Programación Orientada a Objetos (Encapsulamiento, Polimorfismo y Herencia)"
      ]
    },
    {
      "cell_type": "markdown",
      "metadata": {
        "cell_id": "9085bd920a594bc2a52a3bfdce32e21f",
        "deepnote_cell_height": 567.09375,
        "deepnote_cell_type": "markdown",
        "id": "d58b089c"
      },
      "source": [
        "## Parte 1: 🍋 Frutas 🍓\n",
        "\n",
        "\n",
        "<div align='center'>\n",
        "<img src='https://upload.wikimedia.org/wikipedia/commons/a/a2/Berries_in_Berlin.jpg' width=600/>\n",
        "</div>"
      ]
    },
    {
      "cell_type": "markdown",
      "metadata": {
        "cell_id": "f6bb1ca25b6c4e159a32bf0b9630447d",
        "deepnote_cell_height": 259.59375,
        "deepnote_cell_type": "markdown",
        "id": "5fdf6b19"
      },
      "source": [
        "Defina las siguientes frutas como diccionarios a partir de sus características (nombre, color, tipo y si posee o no pepas):\n",
        "\n",
        "| Nombre    | Tipo     | Color    | Pepas |\n",
        "|-----------|----------|----------|-------|\n",
        "| limon     | cítrica  | amarillo | True  |\n",
        "| naranja   | cítrica  | naranjo  | True  |\n",
        "| plátano   | tropical | amarillo | False |\n",
        "| piña      | tropical | amarillo | False |\n",
        "| frutilla  | bosque   | rojo     | True |\n",
        "| frambuesa | bosque   | rojo     | True |"
      ]
    },
    {
      "cell_type": "markdown",
      "metadata": {
        "cell_id": "4566ac14c4fc4a9c9dec81e5def40a60",
        "deepnote_cell_height": 122.796875,
        "deepnote_cell_type": "markdown",
        "id": "33aed47b"
      },
      "source": [
        "### [0.5] Estructurar Datos \n",
        "\n",
        "Agregue Piña, Frutilla y Frambuesa como diccionarios (siga los ejemplos de las frutas dadas) y luego cree una lista que contenga estas frutas.\n"
      ]
    },
    {
      "cell_type": "code",
      "execution_count": 1,
      "metadata": {
        "cell_id": "85cec9afb1044dfc9e588800f2ec12cf",
        "deepnote_cell_type": "code",
        "deepnote_to_be_reexecuted": false,
        "execution_millis": 22,
        "execution_start": 1648863016482,
        "id": "26d23e26",
        "source_hash": "56db5a38"
      },
      "outputs": [],
      "source": [
        "limon = {\n",
        "    \"nombre\": \"limón\", \n",
        "    \"tipo\": \"cítrica\", \n",
        "    \"color\": \"amarillo\", \n",
        "    \"pepas\": True\n",
        "    }\n",
        "\n",
        "naranja = {\"nombre\": \"naranja\", \n",
        "           \"tipo\": \"cítrica\", \n",
        "           \"color\": \"naranjo\", \n",
        "           \"pepas\": True\n",
        "          }\n",
        "\n",
        "platano = {\"nombre\": \"plátano\", \n",
        "           \"tipo\": \"tropical\", \n",
        "           \"color\": \"amarillo\", \n",
        "           \"pepas\": False\n",
        "          }\n",
        "          \n",
        "# agregar las frutas que faltan aquí\n",
        "\n",
        "piña = {\"nombre\": \"piña\", \n",
        "           \"tipo\": \"tropical\", \n",
        "           \"color\": \"amarillo\", \n",
        "           \"pepas\": False\n",
        "          }\n",
        "\n",
        "frutilla = {\"nombre\": \"frutilla\", \n",
        "           \"tipo\": \"bosque\", \n",
        "           \"color\": \"rojo\", \n",
        "           \"pepas\": True\n",
        "          }\n",
        "\n",
        "frambuesa = {\"nombre\": \"frambuesa\", \n",
        "           \"tipo\": \"bosque\", \n",
        "           \"color\": \"rojo\", \n",
        "           \"pepas\": True\n",
        "          }"
      ]
    },
    {
      "cell_type": "markdown",
      "metadata": {
        "cell_id": "450f0542818f4605b92e4aa94d47ce25",
        "deepnote_cell_height": 52.390625,
        "deepnote_cell_type": "markdown",
        "id": "259ee333"
      },
      "source": [
        "Ahora, agregue todas las frutas a una lista."
      ]
    },
    {
      "cell_type": "code",
      "execution_count": 2,
      "metadata": {
        "cell_id": "fcf275e66bb44531b98ec3f19a7da467",
        "deepnote_cell_type": "code",
        "deepnote_to_be_reexecuted": false,
        "execution_millis": 29,
        "execution_start": 1648863016524,
        "id": "fcf62186",
        "source_hash": "78d4e62"
      },
      "outputs": [],
      "source": [
        "# Ojo: agregue los datos en el mismo orden que aparecen en la tabla\n",
        "datos = [limon, naranja, platano, piña, frutilla, frambuesa]"
      ]
    },
    {
      "cell_type": "code",
      "execution_count": 3,
      "metadata": {
        "colab": {
          "base_uri": "https://localhost:8080/"
        },
        "id": "VdWdfv5KzOEN",
        "outputId": "16851ae3-6a13-436a-9364-437bb1950917"
      },
      "outputs": [
        {
          "output_type": "execute_result",
          "data": {
            "text/plain": [
              "[{'nombre': 'limón', 'tipo': 'cítrica', 'color': 'amarillo', 'pepas': True},\n",
              " {'nombre': 'naranja', 'tipo': 'cítrica', 'color': 'naranjo', 'pepas': True},\n",
              " {'nombre': 'plátano',\n",
              "  'tipo': 'tropical',\n",
              "  'color': 'amarillo',\n",
              "  'pepas': False},\n",
              " {'nombre': 'piña', 'tipo': 'tropical', 'color': 'amarillo', 'pepas': False},\n",
              " {'nombre': 'frutilla', 'tipo': 'bosque', 'color': 'rojo', 'pepas': True},\n",
              " {'nombre': 'frambuesa', 'tipo': 'bosque', 'color': 'rojo', 'pepas': True}]"
            ]
          },
          "metadata": {},
          "execution_count": 3
        }
      ],
      "source": [
        "datos"
      ]
    },
    {
      "cell_type": "markdown",
      "metadata": {
        "cell_id": "6368768f93684ef3a2684d4dbcfdb6df",
        "deepnote_cell_height": 52.390625,
        "deepnote_cell_type": "markdown",
        "id": "2ed7730e"
      },
      "source": [
        "Esta lista será la información con la que se trabajará durante el lab."
      ]
    },
    {
      "cell_type": "markdown",
      "metadata": {
        "cell_id": "27cab0ecd65b4b5db1687a40be370a1c",
        "deepnote_cell_height": 62,
        "deepnote_cell_type": "markdown",
        "id": "e9b1e46d"
      },
      "source": [
        "### Funciones Aplicadas a los Datos [2.5 puntos]\n",
        "\n",
        "En esta sección se les pide generar una serie de funciones que cumplan diferentes propósitos. Un aspecto clave de la programación funcional es la apropiada **documentación** de lo que ustedes generen. Si bien existen diferentes formas de documentar código, una de las mas usadas es el formato docstring de `numpy`:\n",
        "\n",
        "```python\n",
        "# manual para describir:\n",
        "# https://numpydoc.readthedocs.io/en/latest/format.html\n",
        "\n",
        "# plantilla (agregar todos los argumentos que sean necesarios)\n",
        "# pensar _type_ como los tipos básicos que hemos visto hasta ahora: int, float, string, list, dict, tuple, set, etc...\n",
        "\n",
        "def funcion_generica(arg1, arg2):\n",
        "    \"\"\"_summary_\n",
        "\n",
        "    Parameters\n",
        "    ----------\n",
        "    arg1 : _type_\n",
        "        _description_\n",
        "    arg2 : _type_\n",
        "        _description_\n",
        "\n",
        "    Returns\n",
        "    -------\n",
        "    _type_\n",
        "        _description_\n",
        "    \"\"\"\n",
        "    return ...\n",
        "```\n"
      ]
    },
    {
      "cell_type": "markdown",
      "metadata": {
        "cell_id": "521da380d1c94a21a3bbdec5077e4cba",
        "deepnote_cell_type": "markdown",
        "id": "Kp6XBYPCx7R6"
      },
      "source": [
        "Considerando esto y **sin olvidar la documentación**, se les pide generar las siguientes funciones:\n",
        "\n",
        "**1. La función `generar_descripcion(fruta)` que reciba una fruta genere una descripción de la fruta de la siguiente manera:**\n",
        "\n",
        "```{El/La} {...} es una fruta de tipo {...} de color {...}. {Presenta/No presenta} pepas en su interior.```\n",
        "    \n",
        "Por ejemplo, `generar_descripcion(plátano)` debe generar el siguiente string:\n",
        "    \n",
        "```\n",
        "'El plátano es una fruta de tipo tropical de color amarillo. No presenta pepas en su interior.'\n",
        "```\n",
        "    \n",
        "Indicaciones: \n",
        "- Usen formateo o suma de strings, if, else y for.\n",
        "- Para saber si ocupar 'El' o 'La', pueden acceder al nombre de la fruta y ver cual es el último carácter a través de indexadores `string[indice]`.\n",
        "- Utilice los siguientes test para corroborar el funcionamiento de su código:\n",
        "\n",
        "```python\n",
        "assert generar_descripcion(limon) == \"El limón es una fruta de tipo cítrica de color amarillo. Presenta pepas en su interior.\"\n",
        "assert generar_descripcion(naranja) == \"La naranja es una fruta de tipo cítrica de color naranjo. Presenta pepas en su interior.\"\n",
        "assert generar_descripcion(platano) == \"El plátano es una fruta de tipo tropical de color amarillo. No presenta pepas en su interior.\"\n",
        "assert generar_descripcion(piña) == \"La piña es una fruta de tipo tropical de color amarillo. No presenta pepas en su interior.\"\n",
        "assert generar_descripcion(frutilla) == \"La frutilla es una fruta de tipo bosque de color rojo. Presenta pepas en su interior.\"\n",
        "assert generar_descripcion(frambuesa) == \"La frambuesa es una fruta de tipo bosque de color rojo. Presenta pepas en su interior.\"\n",
        "```"
      ]
    },
    {
      "cell_type": "code",
      "execution_count": 4,
      "metadata": {
        "cell_id": "533c38d09f7546a9ba5ede71227f9409",
        "deepnote_cell_type": "code",
        "id": "fO9PvvJnx7R7"
      },
      "outputs": [],
      "source": [
        "def generar_descripcion(fruta):\n",
        "    \"\"\"Generate a verbal description of a fruit with the info of its name, type, color and if it have seeds or not.\n",
        "\n",
        "    Parameters\n",
        "    ----------\n",
        "    fruta : dict\n",
        "        Dictionary that contains information of a fruit\n",
        "\n",
        "    Returns\n",
        "    -------\n",
        "    str\n",
        "        Formated string with a verbal description of the fruit from the input\n",
        "    \"\"\"\n",
        "    nombre=fruta['nombre']\n",
        "    tipo=fruta['tipo']\n",
        "    color=fruta['color']\n",
        "    if (fruta['nombre'][-1] == 'n') or (fruta['nombre'][-1] == 'o'):\n",
        "      if fruta['pepas'] == True:\n",
        "        descripcion=f'El {nombre} es una fruta de tipo {tipo} de color {color}. Presenta pepas en su interior.'\n",
        "      else:\n",
        "        descripcion=f'El {nombre} es una fruta de tipo {tipo} de color {color}. No presenta pepas en su interior.'\n",
        "    else:\n",
        "      if fruta['pepas'] == True:\n",
        "        descripcion=f'La {nombre} es una fruta de tipo {tipo} de color {color}. Presenta pepas en su interior.'\n",
        "      else:\n",
        "        descripcion=f'La {nombre} es una fruta de tipo {tipo} de color {color}. No presenta pepas en su interior.'\n",
        "    return descripcion"
      ]
    },
    {
      "cell_type": "code",
      "execution_count": 5,
      "metadata": {
        "id": "Lx2mqTmf3xC7"
      },
      "outputs": [],
      "source": [
        "#Test\n",
        "assert generar_descripcion(limon) == \"El limón es una fruta de tipo cítrica de color amarillo. Presenta pepas en su interior.\"\n",
        "assert generar_descripcion(naranja) == \"La naranja es una fruta de tipo cítrica de color naranjo. Presenta pepas en su interior.\"\n",
        "assert generar_descripcion(platano) == \"El plátano es una fruta de tipo tropical de color amarillo. No presenta pepas en su interior.\"\n",
        "assert generar_descripcion(piña) == \"La piña es una fruta de tipo tropical de color amarillo. No presenta pepas en su interior.\"\n",
        "assert generar_descripcion(frutilla) == \"La frutilla es una fruta de tipo bosque de color rojo. Presenta pepas en su interior.\"\n",
        "assert generar_descripcion(frambuesa) == \"La frambuesa es una fruta de tipo bosque de color rojo. Presenta pepas en su interior.\""
      ]
    },
    {
      "cell_type": "markdown",
      "metadata": {
        "cell_id": "40f4763a10004bf9ac8f8d94a8cbe482",
        "deepnote_cell_type": "markdown",
        "id": "OM-Rl1Rvx7R7"
      },
      "source": [
        "**2. La función `describir(datos)` que generalice la función `generar_descripcion` para recibir una lista de frutas y devolver una lista con las descripciones de cada una:**\n",
        "\n",
        "Por ejemplo, `describir([limon, naranja]])` deberá devolver una lista de la forma `[descripcion_limon, descripcion_naranja]`"
      ]
    },
    {
      "cell_type": "code",
      "execution_count": 6,
      "metadata": {
        "cell_id": "5b9a31f617b84bb9b8af2aa71a8249a8",
        "deepnote_cell_type": "code",
        "id": "7fmcZXwlx7R8"
      },
      "outputs": [],
      "source": [
        "def describir(datos):\n",
        "    \"\"\"Generate list of verbal descriptions of some fruits with the info of its name, type, color and if they have seeds or not.\n",
        "\n",
        "    Parameters\n",
        "    ----------\n",
        "    datos : list\n",
        "        List of dictionaries that contains information of some fruits\n",
        "\n",
        "    Returns\n",
        "    -------\n",
        "    list\n",
        "        List of formated string with a verbal description of the fruits from the input\n",
        "    \"\"\"\n",
        "    descripciones=[]\n",
        "    for i in datos:\n",
        "      descripciones.append(generar_descripcion(i))\n",
        "    return descripciones"
      ]
    },
    {
      "cell_type": "code",
      "execution_count": 7,
      "metadata": {
        "colab": {
          "base_uri": "https://localhost:8080/"
        },
        "id": "VvYWmUAx6gfd",
        "outputId": "e1296206-6d8f-4c5e-90ba-4f3769d7b61d"
      },
      "outputs": [
        {
          "output_type": "execute_result",
          "data": {
            "text/plain": [
              "['El limón es una fruta de tipo cítrica de color amarillo. Presenta pepas en su interior.',\n",
              " 'La naranja es una fruta de tipo cítrica de color naranjo. Presenta pepas en su interior.']"
            ]
          },
          "metadata": {},
          "execution_count": 7
        }
      ],
      "source": [
        "describir([limon, naranja])"
      ]
    },
    {
      "cell_type": "markdown",
      "metadata": {
        "cell_id": "096d40181b344935a8daed1ef59e1ed3",
        "deepnote_cell_type": "markdown",
        "id": "WmYxAOCZx7R9"
      },
      "source": [
        "**3. La función `filtrar_por_pepa(datos, tiene_pepas)` que dado un tipo de fruta y un booleano, retorne las frutas que tienen o no tienen pepas (según el valor de `tiene_pepas`).**\n",
        "    \n",
        "\n",
        "Por ejemplo, `filtrar_por_pepa(datos, True)` deberá retornar una lista con los diccionarios de: naranja, limon, frutilla y frambuesa."
      ]
    },
    {
      "cell_type": "code",
      "execution_count": 8,
      "metadata": {
        "cell_id": "4b929adaff504132824ce55493656849",
        "deepnote_cell_type": "code",
        "id": "2ggV4YNOx7R9"
      },
      "outputs": [],
      "source": [
        "def filtrar_por_pepa(datos, tiene_pepas):\n",
        "    \"\"\"Filter the data based on tiene_pepas input. If this value is true the function returns the fruit that have seeds and vice versa\n",
        "\n",
        "    Parameters\n",
        "    ----------\n",
        "    datos : list\n",
        "        List of dictionaries that contains information of some fruits\n",
        "\n",
        "    tiene_pepas : bool\n",
        "        The fruit have or not seeds\n",
        "\n",
        "    Returns\n",
        "    -------\n",
        "    list\n",
        "        List of dictionaries that have or not seeds, depending on tiene_pepas value\n",
        "    \"\"\"\n",
        "    filtrados=[]\n",
        "    for i in datos:\n",
        "      if i['pepas']== tiene_pepas:\n",
        "        filtrados.append(i)\n",
        "      \n",
        "    return filtrados"
      ]
    },
    {
      "cell_type": "code",
      "execution_count": 9,
      "metadata": {
        "colab": {
          "base_uri": "https://localhost:8080/"
        },
        "id": "iWuMWQJQ6WvX",
        "outputId": "c548f1fa-ea35-43ae-c7da-56b836a8ae7b"
      },
      "outputs": [
        {
          "output_type": "execute_result",
          "data": {
            "text/plain": [
              "[{'nombre': 'plátano',\n",
              "  'tipo': 'tropical',\n",
              "  'color': 'amarillo',\n",
              "  'pepas': False},\n",
              " {'nombre': 'piña', 'tipo': 'tropical', 'color': 'amarillo', 'pepas': False}]"
            ]
          },
          "metadata": {},
          "execution_count": 9
        }
      ],
      "source": [
        "filtrar_por_pepa(datos, False)"
      ]
    },
    {
      "cell_type": "markdown",
      "metadata": {
        "cell_id": "31929b2f72f84543b98fa78cbac46745",
        "deepnote_cell_type": "markdown",
        "id": "YtKH3yUXx7R-"
      },
      "source": [
        "**4. La función `conteo_colores(datos)` que cree un diccionario que haga un conteo los colores de las frutas.**\n",
        "\n",
        "Para estos datos, la función debería retornar el siguiente diccionario: \n",
        "    \n",
        "```python\n",
        "{\"amarillo\": 3, \"naranjo\": 1, \"rojo\": 2}\n",
        "```"
      ]
    },
    {
      "cell_type": "code",
      "execution_count": 10,
      "metadata": {
        "cell_id": "9d58aa3406854329853f32316b6b0d07",
        "deepnote_cell_type": "code",
        "id": "5xsw_35mx7R-"
      },
      "outputs": [],
      "source": [
        "def conteo_colores(datos):\n",
        "\n",
        "    \"\"\"Count the frequency of the present colors from the fruits in a list\n",
        "\n",
        "    Parameters\n",
        "    ----------\n",
        "    datos : list\n",
        "        List of dictionaries that contains information of some fruits\n",
        "\n",
        "    Returns\n",
        "    -------\n",
        "    dict\n",
        "        Dictionary that contains each color and it frequency\n",
        "    \"\"\"  \n",
        "    count_dict = {}\n",
        "    for fruit in datos:\n",
        "        try:\n",
        "            count_dict[fruit['color']] += 1\n",
        "        except KeyError:\n",
        "            count_dict[fruit['color']] = 1\n",
        "    return count_dict"
      ]
    },
    {
      "cell_type": "code",
      "execution_count": 11,
      "metadata": {
        "colab": {
          "base_uri": "https://localhost:8080/"
        },
        "id": "_XPk0G5Z70zg",
        "outputId": "0d5f7642-a4b7-4b04-dfa7-ac66e974acd5"
      },
      "outputs": [
        {
          "output_type": "execute_result",
          "data": {
            "text/plain": [
              "{'amarillo': 3, 'naranjo': 1, 'rojo': 2}"
            ]
          },
          "metadata": {},
          "execution_count": 11
        }
      ],
      "source": [
        "conteo_colores(datos)"
      ]
    },
    {
      "cell_type": "markdown",
      "metadata": {
        "cell_id": "680376561e244482aef7b577c1753252",
        "deepnote_cell_type": "markdown",
        "id": "mAu-nUHqx7R_"
      },
      "source": [
        "**5. La función `obtener_tipos` que devuelva una lista con los tipos únicos de fruta usando `set()`**.\n",
        "\n",
        "Por ejemplo, `obtener_tipos([limon, naranja, platano])` debería devolver `[\"citrica\", \"tropical\"]`"
      ]
    },
    {
      "cell_type": "code",
      "execution_count": 12,
      "metadata": {
        "cell_id": "0815c695d16d4e10afdc0de3e9e75edd",
        "deepnote_cell_type": "code",
        "id": "YVcBXmypx7R_"
      },
      "outputs": [],
      "source": [
        "def obtener_tipos(datos):\n",
        "    \"\"\"Return unique types from a list of fruits\n",
        "\n",
        "      Parameters\n",
        "      ----------\n",
        "      datos : list\n",
        "          List of dictionaries that contains information of some fruits\n",
        "\n",
        "      Returns\n",
        "      -------\n",
        "      list\n",
        "          Types of each fruit in alphabetical order\n",
        "      \"\"\"\n",
        "    tipo=[]\n",
        "    for i in datos:\n",
        "      tipo.append(i['tipo'])\n",
        "    tipo=list(set(tipo))\n",
        "    tipo.sort()\n",
        "    return tipo"
      ]
    },
    {
      "cell_type": "code",
      "execution_count": 13,
      "metadata": {
        "colab": {
          "base_uri": "https://localhost:8080/"
        },
        "id": "GFeVMZ9o_Tzb",
        "outputId": "dcae32ce-183a-4249-f6d2-7e5cbf6a1fdc"
      },
      "outputs": [
        {
          "output_type": "execute_result",
          "data": {
            "text/plain": [
              "['cítrica', 'tropical']"
            ]
          },
          "metadata": {},
          "execution_count": 13
        }
      ],
      "source": [
        "obtener_tipos([limon, naranja, platano])"
      ]
    },
    {
      "cell_type": "markdown",
      "metadata": {
        "cell_id": "362d8b70b71b46eea57663b8cba43d9a",
        "deepnote_cell_type": "markdown",
        "id": "uxA-EmGbx7SA"
      },
      "source": [
        "**6. Genere tres test para cada una de las funciones de la pregunta 5 y así comprobar que funcionan correctamente.**\n",
        "\n",
        "Se <u>sugiere</u> que se apoyen en las siguientes directrices: \n",
        "- Test para tratar resultados nulos\n",
        "- Test para un subconjunto interesante cuyo resultado no sea nulo\n",
        "- Test para todos los datos"
      ]
    },
    {
      "cell_type": "markdown",
      "metadata": {
        "cell_id": "fae9a28ed4b24531910f59386004a311",
        "deepnote_cell_height": 52.390625,
        "deepnote_cell_type": "markdown",
        "id": "F2mt7aIusap8"
      },
      "source": [
        "**Ejecuten esta celda para comprobar su código:**"
      ]
    },
    {
      "cell_type": "code",
      "execution_count": 14,
      "metadata": {
        "cell_id": "8ab5b3ce3d804416821fb8f1a880b6af",
        "deepnote_cell_type": "code",
        "deepnote_to_be_reexecuted": false,
        "execution_millis": 0,
        "execution_start": 1648863016644,
        "id": "c39b58c0",
        "source_hash": "af520603"
      },
      "outputs": [],
      "source": [
        "# ---------------------------------------------------------------------\n",
        "# test descripciones\n",
        "\n",
        "assert describir([]) == []\n",
        "assert describir([limon, platano, naranja]) == [\n",
        "    \"El limón es una fruta de tipo cítrica de color amarillo. Presenta pepas en su interior.\",\n",
        "    \"El plátano es una fruta de tipo tropical de color amarillo. No presenta pepas en su interior.\",\n",
        "    \"La naranja es una fruta de tipo cítrica de color naranjo. Presenta pepas en su interior.\"\n",
        "]\n",
        "assert describir(datos) == [\n",
        "    \"El limón es una fruta de tipo cítrica de color amarillo. Presenta pepas en su interior.\",\n",
        "    \"La naranja es una fruta de tipo cítrica de color naranjo. Presenta pepas en su interior.\",\n",
        "    \"El plátano es una fruta de tipo tropical de color amarillo. No presenta pepas en su interior.\",\n",
        "    \"La piña es una fruta de tipo tropical de color amarillo. No presenta pepas en su interior.\",\n",
        "    \"La frutilla es una fruta de tipo bosque de color rojo. Presenta pepas en su interior.\",\n",
        "    \"La frambuesa es una fruta de tipo bosque de color rojo. Presenta pepas en su interior.\",\n",
        "]\n",
        "\n",
        "\n",
        "# ---------------------------------------------------------------------\n",
        "# test filtro\n",
        "\n",
        "assert filtrar_por_pepa([], True) == []\n",
        "assert filtrar_por_pepa(datos, True) == [\n",
        "    {'nombre': 'limón', 'tipo': 'cítrica', 'color': 'amarillo', 'pepas': True},\n",
        "    {'nombre': 'naranja', 'tipo': 'cítrica', 'color': 'naranjo', 'pepas': True},\n",
        "    {'nombre': 'frutilla', 'tipo': 'bosque', 'color': 'rojo', 'pepas': True},\n",
        "    {'nombre': 'frambuesa', 'tipo': 'bosque', 'color': 'rojo', 'pepas': True}\n",
        "]\n",
        "assert filtrar_por_pepa(datos, False) == [\n",
        "    {'nombre': 'plátano', 'tipo': 'tropical','color': 'amarillo', 'pepas': False},\n",
        "    {'nombre': 'piña', 'tipo': 'tropical', 'color': 'amarillo', 'pepas': False}\n",
        "]\n",
        "\n",
        "# ---------------------------------------------------------------------\n",
        "# test conteo\n",
        "\n",
        "assert conteo_colores([]) == {}\n",
        "assert conteo_colores([limon, platano]) == {\"amarillo\":2}\n",
        "assert conteo_colores(datos) == {\"amarillo\": 3, \"naranjo\": 1, \"rojo\": 2}\n",
        "\n",
        "\n",
        "# ---------------------------------------------------------------------\n",
        "# test tipos\n",
        "\n",
        "assert obtener_tipos([]) == []\n",
        "assert obtener_tipos([limon, naranja, platano]) == ['cítrica', 'tropical']\n",
        "assert obtener_tipos(datos) == ['bosque', 'cítrica', 'tropical']"
      ]
    },
    {
      "cell_type": "markdown",
      "metadata": {
        "cell_id": "745ed4bbc60044f182fbc3c4caec5c84",
        "deepnote_cell_type": "markdown",
        "id": "L65pGBsyx7SB"
      },
      "source": [
        "**7. Programe nuevamente las funciones `describir`, `filtrar_por_pepa` y `obtener_tipos`, pero esta vez usando *comprehensions*.**\n",
        "\n",
        "*Hint: Pueden reutilizar la documentación escrita en la pregunta 5*"
      ]
    },
    {
      "cell_type": "code",
      "execution_count": 15,
      "metadata": {
        "cell_id": "18b1fa6908a3456483d9bc7f87788b8d",
        "deepnote_cell_type": "code",
        "id": "VOmy920-x7SB"
      },
      "outputs": [],
      "source": [
        "def obtener_descripciones_v2(datos):\n",
        "    \"\"\"Generate list of verbal descriptions of some fruits with the info of its name, type, color and if they have seeds or not.\n",
        "\n",
        "    Parameters\n",
        "    ----------\n",
        "    datos : list\n",
        "        List of dictionaries that contains information of some fruits\n",
        "\n",
        "    Returns\n",
        "    -------\n",
        "    list\n",
        "        List of formated string with a verbal description of the fruits from the input\n",
        "    \"\"\"\n",
        "    descripciones=[generar_descripcion(i) for i in datos ]\n",
        "    return descripciones\n",
        "\n",
        "def filtrar_por_pepa_v2(datos, tiene_pepas):\n",
        "    \"\"\"Filter the data based on tiene_pepas input. If this value is true the function returns the fruit that have seeds and vice versa\n",
        "\n",
        "    Parameters\n",
        "    ----------\n",
        "    datos : list\n",
        "        List of dictionaries that contains information of some fruits\n",
        "\n",
        "    tiene_pepas : bool\n",
        "        The fruit have or not seeds\n",
        "\n",
        "    Returns\n",
        "    -------\n",
        "    list\n",
        "        List of dictionaries that have or not seeds, depending on tiene_pepas value\n",
        "    \"\"\"\n",
        "    filtrados=[fruit for fruit in datos if fruit['pepas'] == tiene_pepas]\n",
        "    return filtrados\n",
        "\n",
        "def obtener_tipos_v2(datos):\n",
        "    \"\"\"Return unique types from a list of fruits\n",
        "\n",
        "    Parameters\n",
        "    ----------\n",
        "    datos : list\n",
        "        List of dictionaries that contains information of some fruits\n",
        "\n",
        "    Returns\n",
        "    -------\n",
        "    list\n",
        "        Types of each fruit\n",
        "    \"\"\"\n",
        "    tipo=list(set([fruitType['tipo'] for fruitType in datos]))\n",
        "    return tipo"
      ]
    },
    {
      "cell_type": "code",
      "source": [
        "obtener_descripciones_v2([limon, naranja])"
      ],
      "metadata": {
        "colab": {
          "base_uri": "https://localhost:8080/"
        },
        "id": "E3F2u2hfRxRi",
        "outputId": "9060f34e-41d8-4e98-bba1-d25a4c21f4be"
      },
      "execution_count": 16,
      "outputs": [
        {
          "output_type": "execute_result",
          "data": {
            "text/plain": [
              "['El limón es una fruta de tipo cítrica de color amarillo. Presenta pepas en su interior.',\n",
              " 'La naranja es una fruta de tipo cítrica de color naranjo. Presenta pepas en su interior.']"
            ]
          },
          "metadata": {},
          "execution_count": 16
        }
      ]
    },
    {
      "cell_type": "code",
      "source": [
        "filtrar_por_pepa_v2(datos, True)"
      ],
      "metadata": {
        "colab": {
          "base_uri": "https://localhost:8080/"
        },
        "id": "OAsaSgOTroan",
        "outputId": "783db86d-1562-4881-ca27-1d99389424fd"
      },
      "execution_count": 17,
      "outputs": [
        {
          "output_type": "execute_result",
          "data": {
            "text/plain": [
              "[{'nombre': 'limón', 'tipo': 'cítrica', 'color': 'amarillo', 'pepas': True},\n",
              " {'nombre': 'naranja', 'tipo': 'cítrica', 'color': 'naranjo', 'pepas': True},\n",
              " {'nombre': 'frutilla', 'tipo': 'bosque', 'color': 'rojo', 'pepas': True},\n",
              " {'nombre': 'frambuesa', 'tipo': 'bosque', 'color': 'rojo', 'pepas': True}]"
            ]
          },
          "metadata": {},
          "execution_count": 17
        }
      ]
    },
    {
      "cell_type": "code",
      "source": [
        "obtener_tipos_v2([limon, naranja, platano])"
      ],
      "metadata": {
        "colab": {
          "base_uri": "https://localhost:8080/"
        },
        "id": "iqy-3tVvrplX",
        "outputId": "1b62e226-a5e0-4a45-e645-5f71753267e0"
      },
      "execution_count": 18,
      "outputs": [
        {
          "output_type": "execute_result",
          "data": {
            "text/plain": [
              "['tropical', 'cítrica']"
            ]
          },
          "metadata": {},
          "execution_count": 18
        }
      ]
    },
    {
      "cell_type": "markdown",
      "metadata": {
        "cell_id": "70857dcf13464ee2969cc1ce546cce0c",
        "deepnote_cell_height": 723.59375,
        "deepnote_cell_type": "markdown",
        "id": "492b941a"
      },
      "source": [
        "## Parte 2: Electrodomésticos \n",
        "\n",
        "En esta parte se solicitarán un par de clases que permitirá jugar con la Programación Orientada a Objetos.\n",
        "\n",
        "<div align='center'>\n",
        "<img src='https://upload.wikimedia.org/wikipedia/commons/6/67/Breville.jpg' width=400/>\n",
        "</div>\n",
        "\n",
        "\n",
        "### [0.5] Clase Electrodoméstico\n",
        "\n",
        "Defina la clase `Electrodomestico` que implemente:\n",
        "\n",
        "\n",
        "- Un constructor que defina un atributo de instancia llamado `enchufado` que almacene valores booleanos. \n",
        "- Un método llamado `esta_enchufado(self)` que levante una excepción `Exception` y que termine con la ejecución del programa cuando el atributo enchufado sea `False`. La excepción debe levantar el mensaje `'Alerta ⚠️: El electrodoméstico no está enchufado'`\n",
        "- Un método llamado `enchufar(self)` que cambia el estado de `enchufado` a True.\n",
        "\n"
      ]
    },
    {
      "cell_type": "code",
      "execution_count": 19,
      "metadata": {
        "cell_id": "3c65e471110f49fe9f5b54287ce74c9b",
        "deepnote_cell_type": "code",
        "deepnote_to_be_reexecuted": false,
        "execution_millis": 21,
        "execution_start": 1648863016745,
        "id": "9f8aa475",
        "source_hash": "43ca10f0"
      },
      "outputs": [],
      "source": [
        "class Electrodomestico:\n",
        "    \n",
        "    def __init__(self):\n",
        "      self.enchufado=None\n",
        "      # Código Aquí\n",
        "\n",
        "    def esta_enchufado(self):\n",
        "      if self.enchufado == True:\n",
        "        \n",
        "        ...\n",
        "      else:\n",
        "        raise ValueError(\n",
        "                'Alerta ⚠️: El electrodoméstico no está enchufado'\n",
        "            ) \n",
        "\n",
        "      # Código Aquí\n",
        "\n",
        "    def enchufar(self):\n",
        "      self.enchufado=True\n",
        "      # Código Aquí"
      ]
    },
    {
      "cell_type": "markdown",
      "metadata": {
        "cell_id": "56f3ae20d61d4fcab7763a14531ecbfd",
        "deepnote_cell_height": 1059.59375,
        "deepnote_cell_type": "markdown",
        "id": "d7d477b5"
      },
      "source": [
        "### Clase Jugera [1.5 puntos] \n",
        "\n",
        "\n",
        "<div align='center'>\n",
        "<img src='https://upload.wikimedia.org/wikipedia/commons/b/bb/Liquadora_%28parts%29.JPG' width=400/>\n",
        "</div>\n",
        "\n",
        "\n",
        "Implemente la clase `Jugera` que extiende `Electrodomestico` y que implemente: \n",
        "\n",
        "\n",
        "- Un constructor que tenga una lista de ingredientes frutales (llamado `bandeja`).\n",
        "\n",
        "\n",
        "- Un método llamado `agregar_ingrediente(self, nueva_fruta)` que dado una fruta, agregue esa fruta a la `bandeja`.\n",
        "\n",
        "- Un método llamado `listar_ingredientes(self)` que imprima (con `print`) los ingredientes actuales de la `bandeja` de la siguiente forma: \n",
        "\n",
        "    `Ingredientes en la bandeja: frutilla, frambuesa, piña.`\n",
        "\n",
        "De lo contrario si no tiene ingredientes imprima:\n",
        "\n",
        "    `Bandeja vacía`\n",
        "\n",
        "\n",
        "**Hint:** Investigar el método `join` de un string para generar el string con los nombres de las frutas.\n",
        "    \n",
        "    \n",
        "    \n",
        "\n",
        "- Un método llamado `preparar_jugo(self)` que: \n",
        "    - Primero verifique que el electrodoméstico esté enchufado usando `self.esta_enchufado()`.\n",
        "    - Verifique que haya por lo menos un ingrediente en la `bandeja`. En el caso que no haya, levantar una excepción con contenido `'Error ❌: La bandeja no tiene ingredientes.'`\n",
        "    - Verifique que ninguna fruta tenga pepas. En el caso que haya alguna, imprimir (con `print`) el mensaje de advertencia `'Alerta ⚠️: El jugo puede contener restos de pepas.'`. Puede usar la función definida en la sección anterior.\n",
        "    - Genere un mensaje indicado `Jugo de {nombres de las frutas separadas por una ,} listo. 🏖️🥤 Que lo disfrutes!!! 🥤🏖️. ` (Hint: Usar nuevamente `join`).\n",
        "    - Vacie la `bandeja` (es decir, eliminar todas las frutas de la bandeja).\n",
        "    - Retorne el mensaje generado.\n"
      ]
    },
    {
      "cell_type": "code",
      "execution_count": 20,
      "metadata": {
        "cell_id": "9f42c023a75b4b16b24e5b09d7276e88",
        "deepnote_cell_type": "code",
        "deepnote_to_be_reexecuted": false,
        "execution_millis": 0,
        "execution_start": 1648863366156,
        "id": "d9db037b",
        "source_hash": "fe592b51"
      },
      "outputs": [],
      "source": [
        "class Jugera(Electrodomestico):\n",
        "    \n",
        "    def __init__(self):\n",
        "      super().__init__()\n",
        "      self.bandeja=[]\n",
        "      # Código Aquí\n",
        "        \n",
        "    def agregar_ingrediente(self, nueva_fruta):\n",
        "        # Código Aquí\n",
        "        self.bandeja.append(nueva_fruta)\n",
        "     \n",
        "    def listar_ingredientes(self):\n",
        "      if bool(self.bandeja):\n",
        "        # Código Aquí\n",
        "        frutas=[]\n",
        "        for i in self.bandeja:\n",
        "          frutas.append(i['nombre'])\n",
        "        string_frutas=', '.join(frutas)\n",
        "        print( f'Ingredientes en la bandeja:{string_frutas}')\n",
        "      else:\n",
        "        print('Bandeja vacía')\n",
        "    \n",
        "    def preparar_jugo(self):\n",
        "      if self.enchufado == True:\n",
        "        if bool(self.bandeja):\n",
        "          tiene_pepas=[]\n",
        "          lista_de_frutas=[]\n",
        "          for i in self.bandeja:\n",
        "            tiene_pepas.append(i['pepas'])\n",
        "            lista_de_frutas.append(i['nombre'])\n",
        "          lista_de_frutas=', '.join(lista_de_frutas)\n",
        "          if True in tiene_pepas:\n",
        "            print('Alerta ⚠️: El jugo puede contener restos de pepas.')\n",
        "            mensaje=print(f'Jugo de {lista_de_frutas} listo. 🏖️🥤 Que lo disfrutes!!! 🥤🏖️.')\n",
        "            self.bandeja=[]\n",
        "            return mensaje\n",
        "          else:\n",
        "            mensaje=print(f'Jugo de {lista_de_frutas} listo. 🏖️🥤 Que lo disfrutes!!! 🥤🏖️.')\n",
        "            self.bandeja=[]\n",
        "            return mensaje\n",
        "               \n",
        "        else:\n",
        "          raise ValueError(\n",
        "                'Error ❌: La bandeja no tiene ingredientes.'\n",
        "            )\n",
        "      else:\n",
        "        self.esta_enchufado()\n",
        "      \n",
        "      \n",
        "\n",
        "        # Código Aquí\n",
        "        "
      ]
    },
    {
      "cell_type": "markdown",
      "metadata": {
        "cell_id": "73d709b368c84bc6a3c5336a6f549eac",
        "deepnote_cell_height": 122.796875,
        "deepnote_cell_type": "markdown",
        "id": "6889015a"
      },
      "source": [
        "### Interacciones\n",
        "\n",
        "Las siguientes celdas les permitirán probar las interacciones de esta clase.\n",
        "La ejecución es solo referencial y no lleva puntaje. La idea es que la utilice como guía para desarrollar la clase."
      ]
    },
    {
      "cell_type": "code",
      "execution_count": 21,
      "metadata": {
        "cell_id": "5c47280064504e948d21f495ca2f8053",
        "colab": {
          "base_uri": "https://localhost:8080/"
        },
        "deepnote_cell_type": "code",
        "deepnote_to_be_reexecuted": false,
        "execution_millis": 8,
        "execution_start": 1648863369348,
        "id": "913af660",
        "outputId": "a5b68695-219a-4c3d-f724-537f497635dc",
        "source_hash": "239b8903"
      },
      "outputs": [
        {
          "output_type": "stream",
          "name": "stdout",
          "text": [
            "Bandeja vacía\n"
          ]
        }
      ],
      "source": [
        "jugera = Jugera()\n",
        "\n",
        "# Como no tenemos ingredientes, listar_ingredientes deberá imprimir 'Bandeja vacía'\n",
        "jugera.listar_ingredientes()"
      ]
    },
    {
      "cell_type": "code",
      "execution_count": 23,
      "metadata": {
        "cell_id": "7cfdd145bbff42d4a3c66c50d2559120",
        "colab": {
          "base_uri": "https://localhost:8080/",
          "height": 328
        },
        "deepnote_cell_type": "code",
        "deepnote_to_be_reexecuted": false,
        "execution_millis": 20,
        "execution_start": 1648863371573,
        "id": "9d06bf3e",
        "outputId": "f2429bbc-56c4-4b25-8a62-6bea49d697ad",
        "scrolled": false,
        "source_hash": "77689b24"
      },
      "outputs": [
        {
          "output_type": "error",
          "ename": "ValueError",
          "evalue": "ignored",
          "traceback": [
            "\u001b[0;31m---------------------------------------------------------------------------\u001b[0m",
            "\u001b[0;31mValueError\u001b[0m                                Traceback (most recent call last)",
            "\u001b[0;32m<ipython-input-23-12a82fa67e1d>\u001b[0m in \u001b[0;36m<cell line: 2>\u001b[0;34m()\u001b[0m\n\u001b[1;32m      1\u001b[0m \u001b[0;31m# Esta celda debería levantar una excepcion indicando que no está enchufada la jugera.\u001b[0m\u001b[0;34m\u001b[0m\u001b[0;34m\u001b[0m\u001b[0m\n\u001b[0;32m----> 2\u001b[0;31m \u001b[0mjugera\u001b[0m\u001b[0;34m.\u001b[0m\u001b[0mpreparar_jugo\u001b[0m\u001b[0;34m(\u001b[0m\u001b[0;34m)\u001b[0m\u001b[0;34m\u001b[0m\u001b[0;34m\u001b[0m\u001b[0m\n\u001b[0m",
            "\u001b[0;32m<ipython-input-20-6df000bad5ba>\u001b[0m in \u001b[0;36mpreparar_jugo\u001b[0;34m(self)\u001b[0m\n\u001b[1;32m     45\u001b[0m             )\n\u001b[1;32m     46\u001b[0m       \u001b[0;32melse\u001b[0m\u001b[0;34m:\u001b[0m\u001b[0;34m\u001b[0m\u001b[0;34m\u001b[0m\u001b[0m\n\u001b[0;32m---> 47\u001b[0;31m         \u001b[0mself\u001b[0m\u001b[0;34m.\u001b[0m\u001b[0mesta_enchufado\u001b[0m\u001b[0;34m(\u001b[0m\u001b[0;34m)\u001b[0m\u001b[0;34m\u001b[0m\u001b[0;34m\u001b[0m\u001b[0m\n\u001b[0m\u001b[1;32m     48\u001b[0m \u001b[0;34m\u001b[0m\u001b[0m\n\u001b[1;32m     49\u001b[0m \u001b[0;34m\u001b[0m\u001b[0m\n",
            "\u001b[0;32m<ipython-input-19-778515b408b1>\u001b[0m in \u001b[0;36mesta_enchufado\u001b[0;34m(self)\u001b[0m\n\u001b[1;32m     10\u001b[0m         \u001b[0;34m...\u001b[0m\u001b[0;34m\u001b[0m\u001b[0;34m\u001b[0m\u001b[0m\n\u001b[1;32m     11\u001b[0m       \u001b[0;32melse\u001b[0m\u001b[0;34m:\u001b[0m\u001b[0;34m\u001b[0m\u001b[0;34m\u001b[0m\u001b[0m\n\u001b[0;32m---> 12\u001b[0;31m         raise ValueError(\n\u001b[0m\u001b[1;32m     13\u001b[0m                 \u001b[0;34m'Alerta ⚠️: El electrodoméstico no está enchufado'\u001b[0m\u001b[0;34m\u001b[0m\u001b[0;34m\u001b[0m\u001b[0m\n\u001b[1;32m     14\u001b[0m             ) \n",
            "\u001b[0;31mValueError\u001b[0m: Alerta ⚠️: El electrodoméstico no está enchufado"
          ]
        }
      ],
      "source": [
        "# Esta celda debería levantar una excepcion indicando que no está enchufada la jugera.\n",
        "jugera.preparar_jugo()"
      ]
    },
    {
      "cell_type": "code",
      "execution_count": 24,
      "metadata": {
        "cell_id": "6a19f22b8c684cad81373a1a3d0fb64c",
        "deepnote_cell_type": "code",
        "deepnote_to_be_reexecuted": false,
        "execution_millis": 0,
        "execution_start": 1648863372430,
        "id": "3ad38f18",
        "source_hash": "36a2ab49"
      },
      "outputs": [],
      "source": [
        "# Enchufamos el electrodoméstico\n",
        "jugera.enchufar()"
      ]
    },
    {
      "cell_type": "code",
      "execution_count": 28,
      "metadata": {
        "cell_id": "c6d5077fdb3d4025b877769428edc14a",
        "colab": {
          "base_uri": "https://localhost:8080/",
          "height": 304
        },
        "deepnote_cell_type": "code",
        "deepnote_to_be_reexecuted": false,
        "execution_millis": 173,
        "execution_start": 1648863376136,
        "id": "48009872",
        "outputId": "19617f27-f522-4252-a1f9-751c033e3bf4",
        "scrolled": true,
        "source_hash": "27514b2c"
      },
      "outputs": [
        {
          "output_type": "error",
          "ename": "ValueError",
          "evalue": "ignored",
          "traceback": [
            "\u001b[0;31m---------------------------------------------------------------------------\u001b[0m",
            "\u001b[0;31mValueError\u001b[0m                                Traceback (most recent call last)",
            "\u001b[0;32m<ipython-input-28-763feb2b9970>\u001b[0m in \u001b[0;36m<cell line: 2>\u001b[0;34m()\u001b[0m\n\u001b[1;32m      1\u001b[0m \u001b[0;31m# Esta celda debería levantar ina excepción informandoles que la bandeja no tiene ingredientes.\u001b[0m\u001b[0;34m\u001b[0m\u001b[0;34m\u001b[0m\u001b[0m\n\u001b[0;32m----> 2\u001b[0;31m \u001b[0mjugera\u001b[0m\u001b[0;34m.\u001b[0m\u001b[0mpreparar_jugo\u001b[0m\u001b[0;34m(\u001b[0m\u001b[0;34m)\u001b[0m\u001b[0;34m\u001b[0m\u001b[0;34m\u001b[0m\u001b[0m\n\u001b[0m",
            "\u001b[0;32m<ipython-input-20-6df000bad5ba>\u001b[0m in \u001b[0;36mpreparar_jugo\u001b[0;34m(self)\u001b[0m\n\u001b[1;32m     41\u001b[0m \u001b[0;34m\u001b[0m\u001b[0m\n\u001b[1;32m     42\u001b[0m         \u001b[0;32melse\u001b[0m\u001b[0;34m:\u001b[0m\u001b[0;34m\u001b[0m\u001b[0;34m\u001b[0m\u001b[0m\n\u001b[0;32m---> 43\u001b[0;31m           raise ValueError(\n\u001b[0m\u001b[1;32m     44\u001b[0m                 \u001b[0;34m'Error ❌: La bandeja no tiene ingredientes.'\u001b[0m\u001b[0;34m\u001b[0m\u001b[0;34m\u001b[0m\u001b[0m\n\u001b[1;32m     45\u001b[0m             )\n",
            "\u001b[0;31mValueError\u001b[0m: Error ❌: La bandeja no tiene ingredientes."
          ]
        }
      ],
      "source": [
        "# Esta celda debería levantar ina excepción informandoles que la bandeja no tiene ingredientes.\n",
        "jugera.preparar_jugo()"
      ]
    },
    {
      "cell_type": "code",
      "execution_count": 26,
      "metadata": {
        "cell_id": "c29aa5b7dc3745ff90ddadee72e24b3f",
        "colab": {
          "base_uri": "https://localhost:8080/"
        },
        "deepnote_cell_type": "code",
        "deepnote_to_be_reexecuted": false,
        "execution_millis": 6,
        "execution_start": 1648863377052,
        "id": "4873e0bf",
        "outputId": "29bab24d-b69d-4d23-fbf4-cc6be76bef8b",
        "source_hash": "a8f0979e"
      },
      "outputs": [
        {
          "output_type": "stream",
          "name": "stdout",
          "text": [
            "Ingredientes en la bandeja:naranja, plátano\n"
          ]
        }
      ],
      "source": [
        "# Agregamos algunos ingredientes\n",
        "jugera.agregar_ingrediente(naranja)\n",
        "jugera.agregar_ingrediente(platano)\n",
        "\n",
        "# Y los listamos (debería imprimir: 'Ingredientes en la bandeja: naranja, plátano')\n",
        "jugera.listar_ingredientes()"
      ]
    },
    {
      "cell_type": "code",
      "execution_count": 27,
      "metadata": {
        "cell_id": "d1890bc44c104a85a090ee3e997e1df9",
        "colab": {
          "base_uri": "https://localhost:8080/"
        },
        "deepnote_cell_type": "code",
        "deepnote_to_be_reexecuted": false,
        "execution_millis": 5,
        "execution_start": 1648863380098,
        "id": "ff555151",
        "outputId": "04242338-3990-449d-95bb-ff8f40376efb",
        "source_hash": "7086345e"
      },
      "outputs": [
        {
          "output_type": "stream",
          "name": "stdout",
          "text": [
            "Alerta ⚠️: El jugo puede contener restos de pepas.\n",
            "Jugo de naranja, plátano listo. 🏖️🥤 Que lo disfrutes!!! 🥤🏖️.\n"
          ]
        }
      ],
      "source": [
        "# Preparamos el jugo: 'Jugo de naranja, plátano listo. 🏖️🥤 Que lo disfrutes!!! 🥤🏖️.'\n",
        "jugera.preparar_jugo()"
      ]
    },
    {
      "cell_type": "code",
      "execution_count": 29,
      "metadata": {
        "cell_id": "323edee62a1d432d9ca2eadaa8a9f2c4",
        "colab": {
          "base_uri": "https://localhost:8080/"
        },
        "deepnote_cell_type": "code",
        "deepnote_to_be_reexecuted": false,
        "execution_millis": 0,
        "execution_start": 1648863382273,
        "id": "bbc532b2",
        "outputId": "50aed4ce-b937-41af-ac9a-31eb17caea97",
        "source_hash": "6a032d0a"
      },
      "outputs": [
        {
          "output_type": "stream",
          "name": "stdout",
          "text": [
            "Bandeja vacía\n"
          ]
        }
      ],
      "source": [
        "# Una vez preparado el jugo, debería vaciarse la bandeja (imprimir Bandeja vacía)\n",
        "jugera.listar_ingredientes()"
      ]
    },
    {
      "cell_type": "markdown",
      "metadata": {
        "cell_id": "aa7c6610855d48bb85848283fe9fcca0",
        "deepnote_cell_height": 297.1875,
        "deepnote_cell_type": "markdown",
        "id": "972dbcac"
      },
      "source": [
        "### Clase Jugera + Properties  [1.0]\n",
        "\n",
        "Implementar `bandeja` usando una `property` que permita setear una `nueva_bandeja` como `bandeja` según las siguientes condiciones:\n",
        "\n",
        "\n",
        "- Compruebe que `nueva_bandeja` sea una lista. En caso contrario, levante una excepción.\n",
        "- No permita agregar más de 3 ingredientes a la bandeja a la vez. Si se entregan más de 3 frutas, se levante una excepción.\n",
        "- Se compruebe que todos los elementos de la lista sean frutas. Para esto, por cada fruta compruebe que:\n",
        "    1. La fruta sea diccionario.\n",
        "    2. El diccionario entregado tenga las llaves `nombre`, `tipo`, `color` y `pepas`."
      ]
    },
    {
      "cell_type": "code",
      "execution_count": 30,
      "metadata": {
        "id": "FY1eomivrtsH"
      },
      "outputs": [],
      "source": [
        "class Electrodomestico:\n",
        "    \n",
        "    def __init__(self):\n",
        "      self.enchufado=None\n",
        "      # Código Aquí\n",
        "\n",
        "    def esta_enchufado(self):\n",
        "      if self.enchufado == True:\n",
        "        ...\n",
        "      else:\n",
        "        raise ValueError(\n",
        "                'Alerta ⚠️: El electrodoméstico no está enchufado'\n",
        "            ) \n",
        "\n",
        "      # Código Aquí\n",
        "\n",
        "    def enchufar(self):\n",
        "      self.enchufado=True\n",
        "      # Código Aquí"
      ]
    },
    {
      "cell_type": "code",
      "execution_count": 31,
      "metadata": {
        "cell_id": "806570623e07479eb9eb68009e97af06",
        "deepnote_cell_type": "code",
        "deepnote_to_be_reexecuted": false,
        "execution_millis": 5,
        "execution_start": 1648863394051,
        "id": "X3RXI9nisGfa",
        "source_hash": "68977855"
      },
      "outputs": [],
      "source": [
        "class Jugera(Electrodomestico):\n",
        "    \n",
        "    def __init__(self):\n",
        "        super().__init__()\n",
        "        # Código Aquí\n",
        "        self._bandeja=[]\n",
        "\n",
        "    @property\n",
        "    def bandeja(self):\n",
        "        # Código Aquí\n",
        "        return self._bandeja\n",
        "        \n",
        "    @bandeja.setter\n",
        "    def bandeja(self, nueva_bandeja):\n",
        "        # Código Aquí\n",
        "        if type(nueva_bandeja)==list:\n",
        "          if len(nueva_bandeja)<4:\n",
        "            for i in nueva_bandeja:\n",
        "              if 'nombre' in i and 'tipo' in i and 'color' in i and 'pepas' in i:\n",
        "                pass\n",
        "\n",
        "              else:\n",
        "                 raise ValueError(\n",
        "                'Error ❌: Las frutas no siguen el formato de diccionario con llaves: nombre, tipo, color y pepas'\n",
        "            )\n",
        "            self._bandeja=nueva_bandeja\n",
        "\n",
        "          else:\n",
        "            raise ValueError(\n",
        "                'Error ❌: La bandeja tiene más de 3 frutas, deben ser 3 o menos'\n",
        "            )\n",
        "\n",
        "\n",
        "        else:\n",
        "          raise ValueError(\n",
        "                'Error ❌: La bandeja entregada no es una lista'\n",
        "            )\n",
        "\n",
        "\n",
        "    def agregar_ingrediente(self, nueva_fruta):\n",
        "        # Código Aquí\n",
        "        self._bandeja.append(nueva_fruta)\n",
        "     \n",
        "    def listar_ingredientes(self):\n",
        "        # Código Aquí\n",
        "        if bool(self._bandeja):\n",
        "          frutas=[]\n",
        "          for i in self._bandeja:\n",
        "            frutas.append(i['nombre'])\n",
        "          string_frutas=', '.join(frutas)\n",
        "          print( f'Ingredientes en la bandeja:{string_frutas}')\n",
        "        else:\n",
        "          print('Bandeja vacía')\n",
        "    \n",
        "    def preparar_jugo(self):\n",
        "        # Código Aquí\n",
        "        if self.enchufado == True:\n",
        "          if bool(self.bandeja):\n",
        "            tiene_pepas=[]\n",
        "            lista_de_frutas=[]\n",
        "            for i in self.bandeja:\n",
        "              tiene_pepas.append(i['pepas'])\n",
        "              lista_de_frutas.append(i['nombre'])\n",
        "            lista_de_frutas=', '.join(lista_de_frutas)\n",
        "            if True in tiene_pepas:\n",
        "              print('Alerta ⚠️: El jugo puede contener restos de pepas.')\n",
        "              mensaje=print(f'Jugo de {lista_de_frutas} listo. 🏖️🥤 Que lo disfrutes!!! 🥤🏖️.')\n",
        "              self.bandeja=[]\n",
        "              return mensaje\n",
        "            else:\n",
        "              mensaje=print(f'Jugo de {lista_de_frutas} listo. 🏖️🥤 Que lo disfrutes!!! 🥤🏖️.')\n",
        "              self.bandeja=[]\n",
        "              return mensaje\n",
        "               \n",
        "          else:\n",
        "            raise ValueError(\n",
        "                'Error ❌: La bandeja no tiene ingredientes.'\n",
        "            )\n",
        "        else:\n",
        "          self.esta_enchufado()\n",
        "      "
      ]
    },
    {
      "cell_type": "markdown",
      "metadata": {
        "cell_id": "7002ed07ad6a435288ecbe4513d9d10e",
        "deepnote_cell_height": 122.796875,
        "deepnote_cell_type": "markdown",
        "id": "_fNK1XyMx7SJ",
        "tags": []
      },
      "source": [
        "### Interacciones\n",
        "\n",
        "Las siguientes celdas les permitirán probar las interacciones de esta clase.\n",
        "La ejecución es solo referencial y no lleva puntaje. La idea es que la utilice como guía para desarrollar la clase."
      ]
    },
    {
      "cell_type": "code",
      "execution_count": 32,
      "metadata": {
        "cell_id": "61fb1b1ad18b4e94a88a959780730c58",
        "colab": {
          "base_uri": "https://localhost:8080/"
        },
        "deepnote_cell_type": "code",
        "deepnote_to_be_reexecuted": false,
        "execution_millis": 4,
        "execution_start": 1648863396777,
        "id": "FTV6Cws4x7SJ",
        "outputId": "21a79541-f5b8-4958-b64e-be9f86144191",
        "source_hash": "d7617c26",
        "tags": []
      },
      "outputs": [
        {
          "output_type": "stream",
          "name": "stdout",
          "text": [
            "Bandeja vacía\n"
          ]
        }
      ],
      "source": [
        "jugera_2 = Jugera()\n",
        "\n",
        "jugera_2.listar_ingredientes()"
      ]
    },
    {
      "cell_type": "code",
      "execution_count": 33,
      "metadata": {
        "cell_id": "4089968aee614a0298c852722ac6b56c",
        "colab": {
          "base_uri": "https://localhost:8080/",
          "height": 311
        },
        "deepnote_cell_type": "code",
        "deepnote_to_be_reexecuted": false,
        "execution_millis": 18,
        "execution_start": 1648863398145,
        "id": "MD2NuHi8x7SK",
        "outputId": "000e311d-c2fa-4017-f854-813542c5a6db",
        "source_hash": "480070d3",
        "tags": []
      },
      "outputs": [
        {
          "output_type": "error",
          "ename": "ValueError",
          "evalue": "ignored",
          "traceback": [
            "\u001b[0;31m---------------------------------------------------------------------------\u001b[0m",
            "\u001b[0;31mValueError\u001b[0m                                Traceback (most recent call last)",
            "\u001b[0;32m<ipython-input-33-b7b38da5dd79>\u001b[0m in \u001b[0;36m<cell line: 1>\u001b[0;34m()\u001b[0m\n\u001b[0;32m----> 1\u001b[0;31m \u001b[0mjugera_2\u001b[0m\u001b[0;34m.\u001b[0m\u001b[0mpreparar_jugo\u001b[0m\u001b[0;34m(\u001b[0m\u001b[0;34m)\u001b[0m\u001b[0;34m\u001b[0m\u001b[0;34m\u001b[0m\u001b[0m\n\u001b[0m",
            "\u001b[0;32m<ipython-input-31-e50b550389f2>\u001b[0m in \u001b[0;36mpreparar_jugo\u001b[0;34m(self)\u001b[0m\n\u001b[1;32m     78\u001b[0m             )\n\u001b[1;32m     79\u001b[0m         \u001b[0;32melse\u001b[0m\u001b[0;34m:\u001b[0m\u001b[0;34m\u001b[0m\u001b[0;34m\u001b[0m\u001b[0m\n\u001b[0;32m---> 80\u001b[0;31m           \u001b[0mself\u001b[0m\u001b[0;34m.\u001b[0m\u001b[0mesta_enchufado\u001b[0m\u001b[0;34m(\u001b[0m\u001b[0;34m)\u001b[0m\u001b[0;34m\u001b[0m\u001b[0;34m\u001b[0m\u001b[0m\n\u001b[0m\u001b[1;32m     81\u001b[0m \u001b[0;34m\u001b[0m\u001b[0m\n",
            "\u001b[0;32m<ipython-input-30-41337bf042f3>\u001b[0m in \u001b[0;36mesta_enchufado\u001b[0;34m(self)\u001b[0m\n\u001b[1;32m      9\u001b[0m         \u001b[0;34m...\u001b[0m\u001b[0;34m\u001b[0m\u001b[0;34m\u001b[0m\u001b[0m\n\u001b[1;32m     10\u001b[0m       \u001b[0;32melse\u001b[0m\u001b[0;34m:\u001b[0m\u001b[0;34m\u001b[0m\u001b[0;34m\u001b[0m\u001b[0m\n\u001b[0;32m---> 11\u001b[0;31m         raise ValueError(\n\u001b[0m\u001b[1;32m     12\u001b[0m                 \u001b[0;34m'Alerta ⚠️: El electrodoméstico no está enchufado'\u001b[0m\u001b[0;34m\u001b[0m\u001b[0;34m\u001b[0m\u001b[0m\n\u001b[1;32m     13\u001b[0m             ) \n",
            "\u001b[0;31mValueError\u001b[0m: Alerta ⚠️: El electrodoméstico no está enchufado"
          ]
        }
      ],
      "source": [
        "jugera_2.preparar_jugo()"
      ]
    },
    {
      "cell_type": "code",
      "execution_count": 34,
      "metadata": {
        "cell_id": "c22db666b01740409ea10d8c65c3f4f0",
        "deepnote_cell_type": "code",
        "deepnote_to_be_reexecuted": false,
        "execution_millis": 3,
        "execution_start": 1648863398900,
        "id": "Lx2NvSLXx7SK",
        "source_hash": "d3e1edd9",
        "tags": []
      },
      "outputs": [],
      "source": [
        "# Enchufamos el electrodoméstico\n",
        "jugera_2.enchufar()"
      ]
    },
    {
      "cell_type": "code",
      "execution_count": 35,
      "metadata": {
        "cell_id": "b278da54f71e446ab773a9be8e47a921",
        "colab": {
          "base_uri": "https://localhost:8080/",
          "height": 304
        },
        "deepnote_cell_type": "code",
        "deepnote_to_be_reexecuted": false,
        "execution_millis": 17,
        "execution_start": 1648863400238,
        "id": "gxGDTrAhx7SL",
        "outputId": "749e694d-bb60-48db-de28-adfc214a7ffc",
        "source_hash": "b81f1f5b",
        "tags": []
      },
      "outputs": [
        {
          "output_type": "error",
          "ename": "ValueError",
          "evalue": "ignored",
          "traceback": [
            "\u001b[0;31m---------------------------------------------------------------------------\u001b[0m",
            "\u001b[0;31mValueError\u001b[0m                                Traceback (most recent call last)",
            "\u001b[0;32m<ipython-input-35-50e6459dff43>\u001b[0m in \u001b[0;36m<cell line: 2>\u001b[0;34m()\u001b[0m\n\u001b[1;32m      1\u001b[0m \u001b[0;31m# Esta celda debería levantar ina excepción informandoles que la bandeja no tiene ingredientes.\u001b[0m\u001b[0;34m\u001b[0m\u001b[0;34m\u001b[0m\u001b[0m\n\u001b[0;32m----> 2\u001b[0;31m \u001b[0mjugera_2\u001b[0m\u001b[0;34m.\u001b[0m\u001b[0mpreparar_jugo\u001b[0m\u001b[0;34m(\u001b[0m\u001b[0;34m)\u001b[0m\u001b[0;34m\u001b[0m\u001b[0;34m\u001b[0m\u001b[0m\n\u001b[0m",
            "\u001b[0;32m<ipython-input-31-e50b550389f2>\u001b[0m in \u001b[0;36mpreparar_jugo\u001b[0;34m(self)\u001b[0m\n\u001b[1;32m     74\u001b[0m \u001b[0;34m\u001b[0m\u001b[0m\n\u001b[1;32m     75\u001b[0m           \u001b[0;32melse\u001b[0m\u001b[0;34m:\u001b[0m\u001b[0;34m\u001b[0m\u001b[0;34m\u001b[0m\u001b[0m\n\u001b[0;32m---> 76\u001b[0;31m             raise ValueError(\n\u001b[0m\u001b[1;32m     77\u001b[0m                 \u001b[0;34m'Error ❌: La bandeja no tiene ingredientes.'\u001b[0m\u001b[0;34m\u001b[0m\u001b[0;34m\u001b[0m\u001b[0m\n\u001b[1;32m     78\u001b[0m             )\n",
            "\u001b[0;31mValueError\u001b[0m: Error ❌: La bandeja no tiene ingredientes."
          ]
        }
      ],
      "source": [
        "# Esta celda debería levantar ina excepción informandoles que la bandeja no tiene ingredientes.\n",
        "jugera_2.preparar_jugo()"
      ]
    },
    {
      "cell_type": "code",
      "execution_count": 36,
      "metadata": {
        "cell_id": "3ad3896a485947d99be890cffca26f08",
        "colab": {
          "base_uri": "https://localhost:8080/",
          "height": 304
        },
        "deepnote_cell_type": "code",
        "deepnote_to_be_reexecuted": false,
        "execution_millis": 482,
        "execution_start": 1648863402271,
        "id": "pGvz3zRLx7SL",
        "outputId": "c29d69a0-8687-46b2-ce36-3b6d75d3a136",
        "source_hash": "a016a727",
        "tags": []
      },
      "outputs": [
        {
          "output_type": "error",
          "ename": "ValueError",
          "evalue": "ignored",
          "traceback": [
            "\u001b[0;31m---------------------------------------------------------------------------\u001b[0m",
            "\u001b[0;31mValueError\u001b[0m                                Traceback (most recent call last)",
            "\u001b[0;32m<ipython-input-36-a2a110761309>\u001b[0m in \u001b[0;36m<cell line: 2>\u001b[0;34m()\u001b[0m\n\u001b[1;32m      1\u001b[0m \u001b[0;31m# Agregamos algunos ingredientes (en este caso, como son más de 3, fallará)\u001b[0m\u001b[0;34m\u001b[0m\u001b[0;34m\u001b[0m\u001b[0m\n\u001b[0;32m----> 2\u001b[0;31m \u001b[0mjugera_2\u001b[0m\u001b[0;34m.\u001b[0m\u001b[0mbandeja\u001b[0m \u001b[0;34m=\u001b[0m \u001b[0;34m[\u001b[0m\u001b[0mnaranja\u001b[0m\u001b[0;34m,\u001b[0m \u001b[0mplatano\u001b[0m\u001b[0;34m,\u001b[0m \u001b[0mfrutilla\u001b[0m\u001b[0;34m,\u001b[0m \u001b[0mlimon\u001b[0m\u001b[0;34m]\u001b[0m\u001b[0;34m\u001b[0m\u001b[0;34m\u001b[0m\u001b[0m\n\u001b[0m",
            "\u001b[0;32m<ipython-input-31-e50b550389f2>\u001b[0m in \u001b[0;36mbandeja\u001b[0;34m(self, nueva_bandeja)\u001b[0m\n\u001b[1;32m     27\u001b[0m \u001b[0;34m\u001b[0m\u001b[0m\n\u001b[1;32m     28\u001b[0m           \u001b[0;32melse\u001b[0m\u001b[0;34m:\u001b[0m\u001b[0;34m\u001b[0m\u001b[0;34m\u001b[0m\u001b[0m\n\u001b[0;32m---> 29\u001b[0;31m             raise ValueError(\n\u001b[0m\u001b[1;32m     30\u001b[0m                 \u001b[0;34m'Error ❌: La bandeja tiene más de 3 frutas, deben ser 3 o menos'\u001b[0m\u001b[0;34m\u001b[0m\u001b[0;34m\u001b[0m\u001b[0m\n\u001b[1;32m     31\u001b[0m             )\n",
            "\u001b[0;31mValueError\u001b[0m: Error ❌: La bandeja tiene más de 3 frutas, deben ser 3 o menos"
          ]
        }
      ],
      "source": [
        "# Agregamos algunos ingredientes (en este caso, como son más de 3, fallará)\n",
        "jugera_2.bandeja = [naranja, platano, frutilla, limon]"
      ]
    },
    {
      "cell_type": "code",
      "execution_count": 37,
      "metadata": {
        "cell_id": "314f0f7e4621417b973ff5202c24e2b0",
        "colab": {
          "base_uri": "https://localhost:8080/",
          "height": 321
        },
        "deepnote_cell_type": "code",
        "deepnote_to_be_reexecuted": false,
        "execution_millis": 20,
        "execution_start": 1648863404537,
        "id": "Z8H8HQu5x7SM",
        "outputId": "96825fb5-ada2-4fb1-aa6c-92840fe7a4f7",
        "source_hash": "561a3ff9",
        "tags": []
      },
      "outputs": [
        {
          "output_type": "error",
          "ename": "ValueError",
          "evalue": "ignored",
          "traceback": [
            "\u001b[0;31m---------------------------------------------------------------------------\u001b[0m",
            "\u001b[0;31mValueError\u001b[0m                                Traceback (most recent call last)",
            "\u001b[0;32m<ipython-input-37-7b6a7af0ac43>\u001b[0m in \u001b[0;36m<cell line: 3>\u001b[0;34m()\u001b[0m\n\u001b[1;32m      1\u001b[0m \u001b[0;31m# Agregamos algunos ingredientes\u001b[0m\u001b[0;34m\u001b[0m\u001b[0;34m\u001b[0m\u001b[0m\n\u001b[1;32m      2\u001b[0m \u001b[0;31m# (en este caso debería fallar, ya que estamos entregando un string en el primer lugar)\u001b[0m\u001b[0;34m\u001b[0m\u001b[0;34m\u001b[0m\u001b[0m\n\u001b[0;32m----> 3\u001b[0;31m \u001b[0mjugera_2\u001b[0m\u001b[0;34m.\u001b[0m\u001b[0mbandeja\u001b[0m \u001b[0;34m=\u001b[0m \u001b[0;34m[\u001b[0m\u001b[0;34m\"naranja\"\u001b[0m\u001b[0;34m,\u001b[0m \u001b[0mplatano\u001b[0m\u001b[0;34m,\u001b[0m \u001b[0mfrutilla\u001b[0m\u001b[0;34m]\u001b[0m\u001b[0;34m\u001b[0m\u001b[0;34m\u001b[0m\u001b[0m\n\u001b[0m",
            "\u001b[0;32m<ipython-input-31-e50b550389f2>\u001b[0m in \u001b[0;36mbandeja\u001b[0;34m(self, nueva_bandeja)\u001b[0m\n\u001b[1;32m     21\u001b[0m \u001b[0;34m\u001b[0m\u001b[0m\n\u001b[1;32m     22\u001b[0m               \u001b[0;32melse\u001b[0m\u001b[0;34m:\u001b[0m\u001b[0;34m\u001b[0m\u001b[0;34m\u001b[0m\u001b[0m\n\u001b[0;32m---> 23\u001b[0;31m                  raise ValueError(\n\u001b[0m\u001b[1;32m     24\u001b[0m                 \u001b[0;34m'Error ❌: Las frutas no siguen el formato de diccionario con llaves: nombre, tipo, color y pepas'\u001b[0m\u001b[0;34m\u001b[0m\u001b[0;34m\u001b[0m\u001b[0m\n\u001b[1;32m     25\u001b[0m             )\n",
            "\u001b[0;31mValueError\u001b[0m: Error ❌: Las frutas no siguen el formato de diccionario con llaves: nombre, tipo, color y pepas"
          ]
        }
      ],
      "source": [
        "# Agregamos algunos ingredientes \n",
        "# (en este caso debería fallar, ya que estamos entregando un string en el primer lugar)\n",
        "jugera_2.bandeja = [\"naranja\", platano, frutilla]"
      ]
    },
    {
      "cell_type": "code",
      "execution_count": 38,
      "metadata": {
        "cell_id": "976577e8b66343e38704f8597e85f175",
        "colab": {
          "base_uri": "https://localhost:8080/",
          "height": 321
        },
        "deepnote_cell_type": "code",
        "deepnote_to_be_reexecuted": false,
        "execution_millis": 2,
        "execution_start": 1648863408300,
        "id": "YMh92VTHx7SN",
        "outputId": "83f417fe-3ac5-42e2-88e2-cc0afcbeebff",
        "source_hash": "ecc3586",
        "tags": []
      },
      "outputs": [
        {
          "output_type": "error",
          "ename": "ValueError",
          "evalue": "ignored",
          "traceback": [
            "\u001b[0;31m---------------------------------------------------------------------------\u001b[0m",
            "\u001b[0;31mValueError\u001b[0m                                Traceback (most recent call last)",
            "\u001b[0;32m<ipython-input-38-4b28cdf8df59>\u001b[0m in \u001b[0;36m<cell line: 3>\u001b[0;34m()\u001b[0m\n\u001b[1;32m      1\u001b[0m \u001b[0;31m# Agregamos algunos ingredientes\u001b[0m\u001b[0;34m\u001b[0m\u001b[0;34m\u001b[0m\u001b[0m\n\u001b[1;32m      2\u001b[0m \u001b[0;31m# (en este caso debería fallar, ya que arándando tiene solo la llave nombre)\u001b[0m\u001b[0;34m\u001b[0m\u001b[0;34m\u001b[0m\u001b[0m\n\u001b[0;32m----> 3\u001b[0;31m \u001b[0mjugera_2\u001b[0m\u001b[0;34m.\u001b[0m\u001b[0mbandeja\u001b[0m \u001b[0;34m=\u001b[0m \u001b[0;34m[\u001b[0m\u001b[0;34m{\u001b[0m\u001b[0;34m'nombre'\u001b[0m\u001b[0;34m:\u001b[0m \u001b[0;34m'arándano'\u001b[0m\u001b[0;34m}\u001b[0m\u001b[0;34m,\u001b[0m \u001b[0mplatano\u001b[0m\u001b[0;34m,\u001b[0m \u001b[0mfrutilla\u001b[0m\u001b[0;34m]\u001b[0m\u001b[0;34m\u001b[0m\u001b[0;34m\u001b[0m\u001b[0m\n\u001b[0m",
            "\u001b[0;32m<ipython-input-31-e50b550389f2>\u001b[0m in \u001b[0;36mbandeja\u001b[0;34m(self, nueva_bandeja)\u001b[0m\n\u001b[1;32m     21\u001b[0m \u001b[0;34m\u001b[0m\u001b[0m\n\u001b[1;32m     22\u001b[0m               \u001b[0;32melse\u001b[0m\u001b[0;34m:\u001b[0m\u001b[0;34m\u001b[0m\u001b[0;34m\u001b[0m\u001b[0m\n\u001b[0;32m---> 23\u001b[0;31m                  raise ValueError(\n\u001b[0m\u001b[1;32m     24\u001b[0m                 \u001b[0;34m'Error ❌: Las frutas no siguen el formato de diccionario con llaves: nombre, tipo, color y pepas'\u001b[0m\u001b[0;34m\u001b[0m\u001b[0;34m\u001b[0m\u001b[0m\n\u001b[1;32m     25\u001b[0m             )\n",
            "\u001b[0;31mValueError\u001b[0m: Error ❌: Las frutas no siguen el formato de diccionario con llaves: nombre, tipo, color y pepas"
          ]
        }
      ],
      "source": [
        "# Agregamos algunos ingredientes \n",
        "# (en este caso debería fallar, ya que arándando tiene solo la llave nombre)\n",
        "jugera_2.bandeja = [{'nombre': 'arándano'}, platano, frutilla]"
      ]
    },
    {
      "cell_type": "code",
      "execution_count": 39,
      "metadata": {
        "cell_id": "4403aaea7e044305bb5a8488d71e42f9",
        "colab": {
          "base_uri": "https://localhost:8080/"
        },
        "deepnote_cell_type": "code",
        "deepnote_to_be_reexecuted": false,
        "execution_millis": 6,
        "execution_start": 1648863409767,
        "id": "CpYwmbydx7SN",
        "outputId": "191f1fcf-82b3-4759-edaa-17b5b2968750",
        "source_hash": "b2bcbf",
        "tags": []
      },
      "outputs": [
        {
          "output_type": "stream",
          "name": "stdout",
          "text": [
            "Ingredientes en la bandeja:naranja, plátano, frutilla\n"
          ]
        }
      ],
      "source": [
        "# Agregamos algunos ingredientes (en este caso, como son 3, debería funcionar)\n",
        "jugera_2.bandeja = [naranja, platano, frutilla]\n",
        "\n",
        "# Y los listamos (debería imprimir: 'Ingredientes en la bandeja: naranja, plátano')\n",
        "jugera_2.listar_ingredientes()"
      ]
    },
    {
      "cell_type": "code",
      "execution_count": 40,
      "metadata": {
        "cell_id": "4b88a24abdc44fcfb5ea294a852bf921",
        "colab": {
          "base_uri": "https://localhost:8080/"
        },
        "deepnote_cell_type": "code",
        "deepnote_to_be_reexecuted": false,
        "execution_millis": 5,
        "execution_start": 1648863411760,
        "id": "tFb5g21qx7SO",
        "outputId": "50c5f0d3-5ccc-444e-c5ed-91ff5f99f488",
        "source_hash": "a9d685c1",
        "tags": []
      },
      "outputs": [
        {
          "output_type": "stream",
          "name": "stdout",
          "text": [
            "Alerta ⚠️: El jugo puede contener restos de pepas.\n",
            "Jugo de naranja, plátano, frutilla listo. 🏖️🥤 Que lo disfrutes!!! 🥤🏖️.\n"
          ]
        }
      ],
      "source": [
        "# Una vez preparado el jugo, imprima el contenido del jugo y si una alerta, \n",
        "# en el caso que el jugo tenga pepas.\n",
        "jugera_2.preparar_jugo()"
      ]
    },
    {
      "cell_type": "code",
      "execution_count": 41,
      "metadata": {
        "cell_id": "5d8468e21edd4cecab85b9c04df71094",
        "colab": {
          "base_uri": "https://localhost:8080/"
        },
        "deepnote_cell_type": "code",
        "id": "ijCW-Y3mx7SO",
        "outputId": "b36d7acd-788a-4a41-d00d-fc86c0b0cafb"
      },
      "outputs": [
        {
          "output_type": "stream",
          "name": "stdout",
          "text": [
            "Bandeja vacía\n"
          ]
        }
      ],
      "source": [
        "# Una vez preparado el jugo, debería vaciarse la bandeja (imprimir Bandeja vacía)\n",
        "jugera_2.listar_ingredientes()"
      ]
    },
    {
      "cell_type": "markdown",
      "metadata": {
        "created_in_deepnote_cell": true,
        "deepnote_cell_type": "markdown",
        "id": "8iSGiMdhx7SP"
      },
      "source": [
        "<a style='text-decoration:none;line-height:16px;display:flex;color:#5B5B62;padding:10px;justify-content:end;' href='https://deepnote.com?utm_source=created-in-deepnote-cell&projectId=87110296-876e-426f-b91d-aaf681223468' target=\"_blank\">\n",
        "<img alt='Created in deepnote.com' style='display:inline;max-height:16px;margin:0px;margin-right:7.5px;' src='data:image/svg+xml;base64,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' > </img>\n",
        "Created in <span style='font-weight:600;margin-left:4px;'>Deepnote</span></a>"
      ]
    }
  ],
  "metadata": {
    "colab": {
      "provenance": []
    },
    "deepnote": {},
    "deepnote_execution_queue": [],
    "deepnote_notebook_id": "9ab947a9e176401fb56de9443c666a4a",
    "kernelspec": {
      "display_name": "Python 3",
      "language": "python",
      "name": "python3"
    },
    "language_info": {
      "codemirror_mode": {
        "name": "ipython",
        "version": 3
      },
      "file_extension": ".py",
      "mimetype": "text/x-python",
      "name": "python",
      "nbconvert_exporter": "python",
      "pygments_lexer": "ipython3",
      "version": "3.10.6"
    }
  },
  "nbformat": 4,
  "nbformat_minor": 0
}